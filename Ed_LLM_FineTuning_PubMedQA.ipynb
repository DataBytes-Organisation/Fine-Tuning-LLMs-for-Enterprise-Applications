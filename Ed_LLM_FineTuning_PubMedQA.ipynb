{
  "cells": [
    {
      "cell_type": "markdown",
      "metadata": {
        "id": "view-in-github",
        "colab_type": "text"
      },
      "source": [
        "<a href=\"https://colab.research.google.com/github/DataBytes-Organisation/Fine-Tuning-LLMs-for-Enterprise-Applications/blob/ed_branch/Ed_LLM_FineTuning_PubMedQA.ipynb\" target=\"_parent\"><img src=\"https://colab.research.google.com/assets/colab-badge.svg\" alt=\"Open In Colab\"/></a>"
      ]
    },
    {
      "cell_type": "markdown",
      "metadata": {
        "id": "PUb2oSz45XV4"
      },
      "source": [
        "# Personalized Healthcare QA System (Chatbot) - V3 - PubMedQA\n",
        "#### Ed:215279167\n",
        "---\n",
        "### Objective:\n",
        "Develop a healthcare chatbot that answers patient inquiries on medications, symptoms, and  treatments while reducing hallucinations.\n",
        "\n",
        "### Update and changes:\n",
        "This updated notebook reflects changes learned from weeks 1 -7 experiments with fine-tuning. Main changes include:\n",
        "* Use single dataset of PubMedQA. Initial attempts to use a combination of MedDialog and PubMedQA didn't provide significant improvements in evaluation, and beleive this is due to differing data quality in MedDialog dataset.\n",
        "* Significant increase of data used for fine-tuning\n",
        "\n",
        "### Datasets:\n",
        "* PubMedQA – Biomedical QA dataset - https://huggingface.co/datasets/qiaojin/PubMedQA\n",
        "\n",
        "### Task Breakdown:\n",
        "1. Train models on medical QA datasets.\n",
        "2. Fine-tune for patient-friendly responses (simplified, clear language).\n",
        "3. Ensure context-aware, regulatory-compliant answers:  \n",
        "o Implement FDA/TGA guideline alignment.\n",
        "o Develop a retrieval-based validation for generated answers.\n",
        "4. Deploy as a chatbot interface (React-based UI + API integration).\n",
        "5. Implement real-time fact-checking:  \n",
        "o Confidence score visualization (green = high confidence, yellow = medium, red = low\n",
        "confidence).\n",
        "o Integration with PubMed and trusted medical sources.\n",
        "\n",
        "### Models to Use:\n",
        "• Llama-2 7B\n",
        "\n",
        "### Evaluation Metrics:\n",
        "* Rouge, BLEU, Meteor, BertScore, Manual inspection"
      ]
    },
    {
      "cell_type": "markdown",
      "metadata": {
        "id": "7C8_1rPk-OkG"
      },
      "source": [
        "---\n",
        "## 1. Import libraries and model to prepare for fine tuning"
      ]
    },
    {
      "cell_type": "code",
      "execution_count": null,
      "metadata": {
        "id": "Q0NvJyuYeGBJ"
      },
      "outputs": [],
      "source": [
        "!pip install datasets requests bitsandbytes accelerate peft trl sentencepiece wandb transformers evaluate rouge_score bert-score"
      ]
    },
    {
      "cell_type": "markdown",
      "metadata": {
        "id": "lIeIbt2M9vut"
      },
      "source": [
        "### IMPORTANT: Restart Colab runtime after PIP install!!!"
      ]
    },
    {
      "cell_type": "markdown",
      "source": [
        "## 2. Implement base model and imports\n",
        "First step is to import all necessary libraries and implement base model, to validate it can generate a response from prompt."
      ],
      "metadata": {
        "id": "lxw-QITQ9iW0"
      }
    },
    {
      "cell_type": "code",
      "execution_count": null,
      "metadata": {
        "id": "KqaBKB9e4Vhe"
      },
      "outputs": [],
      "source": [
        "from google.colab import userdata\n",
        "from huggingface_hub import login\n",
        "from transformers import (\n",
        "    AutoTokenizer,\n",
        "    AutoModelForCausalLM,\n",
        "    BitsAndBytesConfig,\n",
        "    TrainingArguments,\n",
        "    logging,\n",
        "    pipeline\n",
        ")\n",
        "from peft import LoraConfig, PeftModel, prepare_model_for_kbit_training, get_peft_model, TaskType\n",
        "from trl import SFTTrainer, SFTConfig, DataCollatorForCompletionOnlyLM\n",
        "from datasets import load_dataset, Dataset, DatasetDict\n",
        "from datetime import datetime\n",
        "import torch\n",
        "import wandb\n",
        "import pandas as pd\n",
        "import os\n",
        "import random\n",
        "import re\n",
        "import matplotlib.pyplot as plt\n",
        "from tqdm.notebook import tqdm\n",
        "import evaluate\n",
        "import numpy as np\n",
        "from bert_score import BERTScorer"
      ]
    },
    {
      "cell_type": "code",
      "execution_count": null,
      "metadata": {
        "id": "N4wnNrTyAJKX"
      },
      "outputs": [],
      "source": [
        "model_name = \"meta-llama/Llama-2-7b-chat-hf\"\n",
        "project_name = \"ed_medical\"\n",
        "hf_username = \"digitalblue\""
      ]
    },
    {
      "cell_type": "code",
      "execution_count": null,
      "metadata": {
        "id": "K8r6Ypk6_x0S"
      },
      "outputs": [],
      "source": [
        "# log into hugging face and wandb\n",
        "hf_token = userdata.get('HF_TOKEN')\n",
        "login(hf_token)\n",
        "\n",
        "wandb_api_key = userdata.get('WANDB_API_KEY')\n",
        "os.environ[\"WANDB_API_KEY\"] = wandb_api_key\n",
        "wandb.login()\n",
        "\n",
        "# Configure Weights & Biases to record against our project\n",
        "os.environ[\"WANDB_PROJECT\"] = \"ed_medical\"\n",
        "os.environ[\"WANDB_LOG_MODEL\"] = \"checkpoint\" if True else \"end\"\n",
        "os.environ[\"WANDB_WATCH\"] = \"gradients\""
      ]
    },
    {
      "cell_type": "code",
      "execution_count": null,
      "metadata": {
        "id": "GcmAaL_04ONh"
      },
      "outputs": [],
      "source": [
        "# quantisation config to use less memory when loading model\n",
        "quant_config = BitsAndBytesConfig(\n",
        "    load_in_4bit=True,\n",
        "    bnb_4bit_use_double_quant=True,\n",
        "    bnb_4bit_compute_dtype=torch.bfloat16,\n",
        "    bnb_4bit_quant_type=\"nf4\"\n",
        ")"
      ]
    },
    {
      "cell_type": "code",
      "execution_count": null,
      "metadata": {
        "id": "-vCtSkep6wCb"
      },
      "outputs": [],
      "source": [
        "model = AutoModelForCausalLM.from_pretrained(\n",
        "    model_name,\n",
        "    device_map=\"auto\",\n",
        "    quantization_config=quant_config)"
      ]
    },
    {
      "cell_type": "code",
      "execution_count": null,
      "metadata": {
        "id": "Jj4U50PY7o0Z"
      },
      "outputs": [],
      "source": [
        "memory = model.get_memory_footprint() / 1e6\n",
        "print(f\"Memory footprint: {memory:,.1f} MB\")"
      ]
    },
    {
      "cell_type": "code",
      "execution_count": null,
      "metadata": {
        "id": "hcZz_RQU-N0l"
      },
      "outputs": [],
      "source": [
        "# model architecture\n",
        "model"
      ]
    },
    {
      "cell_type": "code",
      "execution_count": null,
      "metadata": {
        "id": "xJK_xYZlCUbj"
      },
      "outputs": [],
      "source": [
        "# initialise tokenizer and pipeline\n",
        "tokenizer = AutoTokenizer.from_pretrained(model_name, token=hf_token)\n",
        "tokenizer.pad_token = tokenizer.eos_token\n",
        "tokenizer.padding_side = \"right\""
      ]
    },
    {
      "cell_type": "code",
      "execution_count": null,
      "metadata": {
        "id": "ALuROA3g6cPq"
      },
      "outputs": [],
      "source": [
        "messages = [\n",
        "    {\"role\": \"system\", \"content\": \"You are a helpful personalised medical assistant\"},\n",
        "    {\"role\": \"user\", \"content\": \"How can I get rid of the flu?\"}\n",
        "  ]"
      ]
    },
    {
      "cell_type": "code",
      "execution_count": null,
      "metadata": {
        "id": "U73PHhEU-ZaH"
      },
      "outputs": [],
      "source": [
        "# verify base model generates response\n",
        "inputs = tokenizer.apply_chat_template(messages, return_tensors=\"pt\").to(\"cuda\")\n",
        "outputs = model.generate(inputs, max_new_tokens=250)\n",
        "print(tokenizer.decode(outputs[0]))"
      ]
    },
    {
      "cell_type": "markdown",
      "metadata": {
        "id": "du1KeJ2moW0s"
      },
      "source": [
        "## 3. Dataset analysis and preprocessing for Llama\n",
        "The datasets need to be analysed and prepared for fine-tuning the model. This includes removing invalid data and formatting into the required format with special tokens the Llama 2 model requires. Dataset acquired from HuggingFace\n",
        "* PubMedQA - https://huggingface.co/datasets/qiaojin/PubMedQA"
      ]
    },
    {
      "cell_type": "code",
      "execution_count": null,
      "metadata": {
        "id": "5U2t0GudQnjq"
      },
      "outputs": [],
      "source": [
        "# format input from datasets into prompt format required by llama model\n",
        "def format_llama_prompt(user_message, model_answer):\n",
        "  prompt = '<s>[INST] ' # special token - commence instruct\n",
        "  prompt += user_message.strip()\n",
        "  prompt += ' [/INST] ' # special token - end instruct\n",
        "  prompt += model_answer.strip()\n",
        "  prompt += ' </s>'# special token - end\n",
        "  return prompt\n",
        "\n",
        "def format_llama_prompt_with_context(user_message, model_answer, context):\n",
        "  prompt = '<s>[INST] Given this context: ' # special token - commence instruct\n",
        "  prompt += context['contexts'][0].strip()\n",
        "  prompt += ' Question: '\n",
        "  prompt += user_message.strip()\n",
        "  prompt += ' [/INST] ' # special token - end instruct\n",
        "  prompt += model_answer.strip()\n",
        "  prompt += ' </s>'# special token - end\n",
        "  return prompt"
      ]
    },
    {
      "cell_type": "code",
      "execution_count": null,
      "metadata": {
        "id": "9tigpUr27IbZ"
      },
      "outputs": [],
      "source": [
        "# load pub_med_qa dataset\n",
        "#pub_med_qa = pd.read_parquet(\"hf://datasets/qiaojin/PubMedQA/pqa_unlabeled/train-00000-of-00001.parquet\")\n",
        "pub_med_qa = load_dataset(\"qiaojin/PubMedQA\", \"pqa_artificial\")"
      ]
    },
    {
      "cell_type": "code",
      "execution_count": null,
      "metadata": {
        "id": "ND4-gHOdcnzp"
      },
      "outputs": [],
      "source": [
        "pub_med_qa"
      ]
    },
    {
      "cell_type": "code",
      "execution_count": null,
      "metadata": {
        "id": "ENO4TezgGW0T"
      },
      "outputs": [],
      "source": [
        "pub_med_qa['train'][0]"
      ]
    },
    {
      "cell_type": "code",
      "execution_count": null,
      "metadata": {
        "id": "Q0fWQxXlOW6A"
      },
      "outputs": [],
      "source": [
        "# create list of formatted prompts\n",
        "pub_med_qa_as_prompt = []\n",
        "for item in pub_med_qa['train']:\n",
        "  if item['final_decision'] == 'yes': # only get rows with yes decision\n",
        "    #pub_med_qa_as_prompt.append(format_llama_prompt(item['question'], item['long_answer']))\n",
        "    pub_med_qa_as_prompt.append(format_llama_prompt_with_context(item['question'], item['long_answer'], item['context']))\n"
      ]
    },
    {
      "cell_type": "code",
      "execution_count": null,
      "metadata": {
        "id": "coPjx5TLGwyn"
      },
      "outputs": [],
      "source": [
        "print(len(pub_med_qa_as_prompt))\n",
        "print(pub_med_qa_as_prompt[0])"
      ]
    },
    {
      "cell_type": "code",
      "execution_count": null,
      "metadata": {
        "id": "yAjqn2ffkRpg"
      },
      "outputs": [],
      "source": [
        "pub_med_qa_as_prompt[200]"
      ]
    },
    {
      "cell_type": "code",
      "execution_count": null,
      "metadata": {
        "id": "Ts8u9Dp2tlqu"
      },
      "outputs": [],
      "source": [
        "# collect all formatted data into one dataset\n",
        "prompt_dataset = pub_med_qa_as_prompt # + med_dialog_hcm_as_prompt + med_dialog_ic_as_prompt\n",
        "print(len(prompt_dataset))"
      ]
    },
    {
      "cell_type": "code",
      "execution_count": null,
      "metadata": {
        "id": "CxipGxCdXZ58"
      },
      "outputs": [],
      "source": [
        "# shuffle the combined dataset to disperse the data\n",
        "# random.seed(42)\n",
        "# random.shuffle(prompt_dataset)"
      ]
    },
    {
      "cell_type": "code",
      "execution_count": null,
      "metadata": {
        "id": "Nq_HzUy-YKAA"
      },
      "outputs": [],
      "source": [
        "len(prompt_dataset)"
      ]
    },
    {
      "cell_type": "code",
      "execution_count": null,
      "metadata": {
        "id": "IjpG35k6TiiV"
      },
      "outputs": [],
      "source": [
        "# convert to huggingface dataset, create splits and push to hub\n",
        "prompt_hf_dataset = Dataset.from_dict({\"text\": prompt_dataset})"
      ]
    },
    {
      "cell_type": "code",
      "execution_count": null,
      "metadata": {
        "id": "ybrNf0dVVgXR"
      },
      "outputs": [],
      "source": [
        "ds_train = prompt_hf_dataset.train_test_split(test_size=0.2, seed=42)"
      ]
    },
    {
      "cell_type": "code",
      "execution_count": null,
      "metadata": {
        "id": "pVyQtGUwZqLb"
      },
      "outputs": [],
      "source": [
        "ds_train"
      ]
    },
    {
      "cell_type": "code",
      "execution_count": null,
      "metadata": {
        "id": "Ca4Mju9PVtr3"
      },
      "outputs": [],
      "source": [
        "ds_test = ds_train['test'].train_test_split(test_size=0.5, seed=42)\n",
        "ds_test"
      ]
    },
    {
      "cell_type": "code",
      "execution_count": null,
      "metadata": {
        "id": "Np2CXY-iPUil"
      },
      "outputs": [],
      "source": [
        "ds_splits = DatasetDict({\n",
        "    'train': ds_train['train'],\n",
        "    'validation': ds_test['train'],\n",
        "    'test': ds_test['test']\n",
        "})"
      ]
    },
    {
      "cell_type": "code",
      "execution_count": null,
      "metadata": {
        "id": "I4bWyjWeU_ut"
      },
      "outputs": [],
      "source": [
        "ds_splits"
      ]
    },
    {
      "cell_type": "code",
      "execution_count": null,
      "metadata": {
        "id": "-V9R707vR9HH"
      },
      "outputs": [],
      "source": [
        "# push to hugging face\n",
        "ds_splits.push_to_hub(f\"{hf_username}/{project_name}-pubmedqa-artifical-with-context\", private=True)"
      ]
    },
    {
      "cell_type": "markdown",
      "metadata": {
        "id": "bwQ0tJ6SpEhu"
      },
      "source": [
        "## 4. Model Training Pipeline\n",
        "The model training pipeline is setup for fine-tuning. During this process additional data processing was required to filter out data with execessive token length that would exhaust GPU resources.\n",
        "\n",
        "Initially four variants(A,B,C,D) of the model were fine-tuned on combination dataset, however focus is now on model variant E. It maintains integration with HuggingFace and Weight and Bias platform so models and runs are saved for later retrieval.\n",
        "\n",
        "The models were fine-tuned on the **train** set, and evaluated with **validation** set.\n",
        "![2025-05-02.png](data:image/png;base64,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)"
      ]
    },
    {
      "cell_type": "code",
      "execution_count": null,
      "metadata": {
        "id": "ZIkMaVEF2fsq"
      },
      "outputs": [],
      "source": [
        "# load pre-processed dataset created in last step from hugging face\n",
        "#qa_dataset = load_dataset(\"digitalblue/ed_medical\")\n",
        "#qa_dataset = load_dataset(\"digitalblue/ed_medical-pubmedqa-artifical\") # load only pubmedqa YES rows\n",
        "qa_dataset = load_dataset(\"digitalblue/ed_medical-pubmedqa-artifical-with-context\") # load only pubmedqa YES rows\n",
        "qa_dataset"
      ]
    },
    {
      "cell_type": "code",
      "execution_count": null,
      "metadata": {
        "id": "fw4YL5RSz8Ue"
      },
      "outputs": [],
      "source": [
        "# getting token lengths from training dataset\n",
        "train_length = []\n",
        "train_token_length = []\n",
        "for item in qa_dataset['train']:\n",
        "  if item['text']:\n",
        "    train_length.append(len(item['text']))\n",
        "    tokens = tokenizer.encode(item['text'])\n",
        "    train_token_length.append(len(tokens))\n",
        "  else:\n",
        "    print(item)"
      ]
    },
    {
      "cell_type": "code",
      "execution_count": null,
      "metadata": {
        "id": "VNjYg5Dj1k-J"
      },
      "outputs": [],
      "source": [
        "len(train_token_length)"
      ]
    },
    {
      "cell_type": "code",
      "execution_count": null,
      "metadata": {
        "id": "xsGzUkKO147u"
      },
      "outputs": [],
      "source": [
        "# print the min, max and average character lengths and token count lengths for training data\n",
        "print(min(train_length), max(train_length), sum(train_length)/len(train_length))\n",
        "print(min(train_token_length), max(train_token_length), sum(train_token_length)/len(train_token_length))"
      ]
    },
    {
      "cell_type": "code",
      "execution_count": null,
      "metadata": {
        "id": "VSy_f8UQcKOO"
      },
      "outputs": [],
      "source": [
        "# plot the token lengths\n",
        "plt.figure(figsize=(15, 6))\n",
        "plt.hist(train_token_length, rwidth=0.7, bins=100)\n",
        "plt.xlabel('Token Length')\n",
        "plt.ylabel('Count')\n",
        "plt.title('Token Length Distribution')\n",
        "plt.show()"
      ]
    },
    {
      "cell_type": "code",
      "execution_count": null,
      "metadata": {
        "id": "Yh9GxruEX-Zn"
      },
      "outputs": [],
      "source": [
        "# avg is now approx 104, but will keep 230 tokens, therefore will create new datasets\n",
        "# to filter out any rows above this token count\n",
        "MAX_TOKENS = 250\n",
        "DATASET_SIZE = 1000\n",
        "def get_filtered_dataset(dataset, max_tokens, size):\n",
        "  count = 0\n",
        "  train_size = round(size * 0.9) # 90% for train\n",
        "  valid_size = round(size * 0.1) # 10% for eval\n",
        "  print(f\"Train size: {train_size}, Eval size: {valid_size}\")\n",
        "\n",
        "  filtered_train_dataset = []\n",
        "  for item in dataset['train']:\n",
        "    if item['text']:\n",
        "      tokens = tokenizer.encode(item['text'])\n",
        "      if len(tokens) < max_tokens:\n",
        "        filtered_train_dataset.append(item)\n",
        "        count += 1\n",
        "      if count >= train_size:\n",
        "        break\n",
        "\n",
        "  count = 0\n",
        "  filtered_eval_dataset = []\n",
        "  for item in dataset['validation']:\n",
        "    if item['text']:\n",
        "      tokens = tokenizer.encode(item['text'])\n",
        "      if len(tokens) < max_tokens:\n",
        "        filtered_eval_dataset.append(item)\n",
        "\n",
        "        count += 1\n",
        "      if count >= valid_size:\n",
        "        break\n",
        "\n",
        "  return filtered_train_dataset, filtered_eval_dataset"
      ]
    },
    {
      "cell_type": "code",
      "execution_count": null,
      "metadata": {
        "id": "4sa8GkjdgTc5"
      },
      "outputs": [],
      "source": [
        "qa_train, qa_val = get_filtered_dataset(qa_dataset, MAX_TOKENS, DATASET_SIZE)\n",
        "qa_train = Dataset.from_list(qa_train)\n",
        "qa_val = Dataset.from_list(qa_val)\n",
        "print(qa_train)\n",
        "print(qa_val)"
      ]
    },
    {
      "cell_type": "code",
      "execution_count": null,
      "metadata": {
        "id": "og0eYgN-gdo4"
      },
      "outputs": [],
      "source": [
        "qa_val[10]"
      ]
    },
    {
      "cell_type": "code",
      "execution_count": null,
      "metadata": {
        "id": "9IAWIFt_6nya"
      },
      "outputs": [],
      "source": [
        "# set constants\n",
        "MAX_SEQUENCE_LENGTH = 230 # calculated from avg token lenght in dataset\n",
        "\n",
        "# Run name for saving the model in the hub\n",
        "RUN_NAME =  f\"{datetime.now():%Y-%m-%d_%H.%M.%S}\"\n",
        "PROJECT_RUN_NAME = f\"{project_name}-{RUN_NAME}\"\n",
        "HUB_MODEL_NAME = f\"{hf_username}/{PROJECT_RUN_NAME}\"\n",
        "\n",
        "# qlora hyper params\n",
        "LORA_R = 16 # Reduce LoRA rank (lower = less memory) , initial = 32\n",
        "LORA_ALPHA = 32 # Lower alpha , initial = 64\n",
        "TARGET_MODULES = [\"q_proj\", \"k_proj\", \"v_proj\", \"o_proj\"]\n",
        "LORA_DROPOUT = 0.05\n",
        "QUANT_4_BIT = True\n",
        "\n",
        "# training hyper params\n",
        "EPOCHS = 3\n",
        "BATCH_SIZE = 4  # Reduce batch size , initial = 4\n",
        "GRADIENT_ACCUMULATION_STEPS = 8  # Simulate batch size 8, initial = 1\n",
        "LEARNING_RATE = 2e-4\n",
        "LR_SCHEDULER_TYPE = 'cosine'\n",
        "WARMUP_RATIO = 0.03\n",
        "OPTIMIZER = \"paged_adamw_32bit\"\n",
        "STEPS = 50\n",
        "SAVE_STEPS = 2000\n",
        "LOG_TO_WANDB = True"
      ]
    },
    {
      "cell_type": "code",
      "execution_count": null,
      "metadata": {
        "id": "5wJwH1MA-tyo"
      },
      "outputs": [],
      "source": [
        "response_template = \" [/INST] \"\n",
        "collator = DataCollatorForCompletionOnlyLM(response_template, tokenizer=tokenizer)"
      ]
    },
    {
      "cell_type": "code",
      "execution_count": null,
      "metadata": {
        "id": "cbo_-tkbpICk"
      },
      "outputs": [],
      "source": [
        "lora_params = LoraConfig(\n",
        "    r=LORA_R,\n",
        "    lora_alpha=LORA_ALPHA,\n",
        "    lora_dropout=LORA_DROPOUT,\n",
        "    target_modules=TARGET_MODULES,\n",
        "    bias=\"none\",\n",
        "    task_type=\"CAUSAL_LM\"\n",
        ")"
      ]
    },
    {
      "cell_type": "code",
      "execution_count": null,
      "metadata": {
        "id": "M_WWBQVSyPJu"
      },
      "outputs": [],
      "source": [
        "training_params = SFTConfig(\n",
        "    output_dir=PROJECT_RUN_NAME,\n",
        "    num_train_epochs=EPOCHS,\n",
        "    per_device_train_batch_size=BATCH_SIZE,\n",
        "    per_device_eval_batch_size=1,\n",
        "    #eval_strategy=\"no\",\n",
        "    gradient_accumulation_steps=GRADIENT_ACCUMULATION_STEPS,\n",
        "    optim=OPTIMIZER,\n",
        "    save_steps=SAVE_STEPS,\n",
        "    save_total_limit=10,\n",
        "    logging_steps=STEPS,\n",
        "    learning_rate=LEARNING_RATE,\n",
        "    weight_decay=0.001,\n",
        "    fp16=False,\n",
        "    bf16=True,\n",
        "    max_grad_norm=0.3,\n",
        "    max_steps=-1,\n",
        "    warmup_ratio=WARMUP_RATIO,\n",
        "    group_by_length=True,\n",
        "    lr_scheduler_type=LR_SCHEDULER_TYPE,\n",
        "    report_to=\"wandb\" if True else None,\n",
        "    run_name=RUN_NAME,\n",
        "    max_seq_length=MAX_SEQUENCE_LENGTH,\n",
        "    dataset_text_field=\"text\",\n",
        "    save_strategy=\"steps\",\n",
        "    hub_strategy=\"every_save\",\n",
        "    push_to_hub=True,\n",
        "    hub_model_id=HUB_MODEL_NAME,\n",
        "    hub_private_repo=True\n",
        "    #neftune_noise_alpha=5 # using NEFTune as describe in SFT Trainer docs for increased conversational quality\n",
        ")"
      ]
    },
    {
      "cell_type": "code",
      "execution_count": null,
      "metadata": {
        "id": "RaOIGnQ4jxVS"
      },
      "outputs": [],
      "source": [
        "!nvidia-smi"
      ]
    },
    {
      "cell_type": "code",
      "execution_count": null,
      "metadata": {
        "id": "lsMERCCJj99j"
      },
      "outputs": [],
      "source": [
        "# clear gpu memory\n",
        "torch.cuda.empty_cache()\n",
        "torch.cuda.reset_max_memory_allocated()"
      ]
    },
    {
      "cell_type": "code",
      "source": [
        "# Prepare the model for k-bit training (important for 4-bit)\n",
        "model = prepare_model_for_kbit_training(model)"
      ],
      "metadata": {
        "id": "lz825BwicfAI"
      },
      "execution_count": null,
      "outputs": []
    },
    {
      "cell_type": "code",
      "source": [
        "model = get_peft_model(model, lora_params)"
      ],
      "metadata": {
        "id": "pp8vo6najkmO"
      },
      "execution_count": null,
      "outputs": []
    },
    {
      "cell_type": "code",
      "execution_count": null,
      "metadata": {
        "id": "NY_UzTxetRc5"
      },
      "outputs": [],
      "source": [
        "trainer = SFTTrainer(\n",
        "    model=model,\n",
        "    train_dataset=qa_train,\n",
        "    eval_dataset=qa_val,\n",
        "    peft_config=lora_params,\n",
        "    args=training_params\n",
        ")\n"
      ]
    },
    {
      "cell_type": "markdown",
      "source": [],
      "metadata": {
        "id": "6Ko4tyGJftW_"
      }
    },
    {
      "cell_type": "code",
      "execution_count": null,
      "metadata": {
        "id": "ushOfJdwuMAZ"
      },
      "outputs": [],
      "source": [
        "#torch.cuda.empty_cache()\n",
        "trainer.train()\n",
        "trainer.model.push_to_hub(PROJECT_RUN_NAME, private=True)\n",
        "print(f\"Model saved to HuggingFace as: {PROJECT_RUN_NAME}\")\n",
        "model.save_pretrained(PROJECT_RUN_NAME)\n"
      ]
    },
    {
      "cell_type": "code",
      "execution_count": null,
      "metadata": {
        "id": "V7QAra8y9v2Z"
      },
      "outputs": [],
      "source": [
        "results = trainer.evaluate()\n",
        "print(results)\n"
      ]
    },
    {
      "cell_type": "code",
      "source": [
        "wandb.finish()"
      ],
      "metadata": {
        "id": "IGIlJtkHn3Ds"
      },
      "execution_count": null,
      "outputs": []
    },
    {
      "cell_type": "code",
      "source": [
        "!zip -r ed_medical-2025-05-11_04.05.52.zip ed_medical-2025-05-11_04.05.52"
      ],
      "metadata": {
        "id": "bmafejzxtwEQ"
      },
      "execution_count": null,
      "outputs": []
    },
    {
      "cell_type": "code",
      "source": [
        "!ls -la"
      ],
      "metadata": {
        "id": "JeJNRxKawEhP"
      },
      "execution_count": null,
      "outputs": []
    },
    {
      "cell_type": "code",
      "source": [
        "!cp ed_medical-2025-05-11_04.05.52.zip /content/drive/MyDrive/"
      ],
      "metadata": {
        "id": "fZLDcQeaxiL-"
      },
      "execution_count": null,
      "outputs": []
    },
    {
      "cell_type": "code",
      "source": [
        "# stop notebook and disconnect GPU after finishing above steps as this process can take several hours\n",
        "# from google.colab import runtime\n",
        "# runtime.unassign()"
      ],
      "metadata": {
        "id": "RAC0SrTL8Wt4"
      },
      "execution_count": null,
      "outputs": []
    },
    {
      "cell_type": "markdown",
      "metadata": {
        "id": "F6sQTtZuSoT0"
      },
      "source": [
        "## 5. Evaluate the models - generate evaluation data\n",
        "At this step the fine-tuned model created in the previous step can be re-loaded without need to re-run step 4. Generated responses will be collected, in addition to the base model to use as a benchmark.\n",
        "\n",
        "The prompts to generate the responses are 50 samples from the **test** set, which was not used for fine-tuning.\n",
        "\n",
        "The generated response for each model are then saved to HuggingFace hub for later analysis."
      ]
    },
    {
      "cell_type": "code",
      "source": [
        "# define models saved to huggingface hub from previous step\n",
        "MODEL_A = \"digitalblue/ed_medical-2025-04-03_09.11.29\" # trained on 200 rows\n",
        "MODEL_B = \"digitalblue/ed_medical-2025-04-05_10.59.54\" # trained on 800 rows\n",
        "MODEL_C = \"digitalblue/ed_medical-2025-04-05_11.36.32\" # trained on 1600 rows\n",
        "MODEL_D = \"digitalblue/ed_medical-2025-04-06_10.40.29\" # trained on 1600 rows with NEFTune\n",
        "MODEL_E = \"digitalblue/ed_medical-2025-04-15_12.43.48\" # trained on 8000 rows of pubmedqa only w/ NEFTune\n",
        "MODEL_F = \"digitalblue/ed_medical-2025-05-05_23.51.25\" # trained on 9000 row, lower learing rate, 3 epochs\n",
        "MODEL_G = \"digitalblue/ed_medical-2025-05-08_01.23.37\" # trained on 9000 rows, NEFTune false\n",
        "MODEL_H = \"digitalblue/ed_medical-2025-05-11_04.05.52\" # trained on 900 row, with context, 3 epochs"
      ],
      "metadata": {
        "id": "BsSyJO-eOIbT"
      },
      "execution_count": null,
      "outputs": []
    },
    {
      "cell_type": "code",
      "source": [
        "# NOTE: Only using model E, F, G, H"
      ],
      "metadata": {
        "id": "B5wxXHFM7W2l"
      },
      "execution_count": null,
      "outputs": []
    },
    {
      "cell_type": "code",
      "source": [
        "# quantisation config to use less memory when loading model\n",
        "quant_config = BitsAndBytesConfig(\n",
        "    load_in_4bit=True,\n",
        "    bnb_4bit_use_double_quant=True,\n",
        "    bnb_4bit_compute_dtype=torch.bfloat16,\n",
        "    bnb_4bit_quant_type=\"nf4\"\n",
        ")"
      ],
      "metadata": {
        "id": "ibdFI1MXDOAH"
      },
      "execution_count": null,
      "outputs": []
    },
    {
      "cell_type": "code",
      "source": [
        "model_base = AutoModelForCausalLM.from_pretrained(\n",
        "    model_name,\n",
        "    quantization_config=quant_config,\n",
        "    device_map=\"auto\")"
      ],
      "metadata": {
        "id": "9SZwXR5wOB8Y"
      },
      "execution_count": null,
      "outputs": []
    },
    {
      "cell_type": "code",
      "source": [
        "# initialise tokenizer and pipeline\n",
        "tokenizer = AutoTokenizer.from_pretrained(model_name, token=hf_token)\n",
        "tokenizer.pad_token = tokenizer.eos_token\n",
        "tokenizer.padding_side = \"right\""
      ],
      "metadata": {
        "id": "7f062UDIQcVM"
      },
      "execution_count": null,
      "outputs": []
    },
    {
      "cell_type": "code",
      "execution_count": null,
      "metadata": {
        "id": "zfqi9mxLcCV_"
      },
      "outputs": [],
      "source": [
        "#qa_test = load_dataset(\"digitalblue/ed_medical\", split=\"test[:50]\") # first 50 from test set\n",
        "qa_test = load_dataset(\"digitalblue/ed_medical-pubmedqa-artifical\", split=\"test[:50]\") # load only pubmedqa YES rows, test set"
      ]
    },
    {
      "cell_type": "code",
      "execution_count": null,
      "metadata": {
        "id": "1ex4akcIcHh4"
      },
      "outputs": [],
      "source": [
        "# split into question and answer list\n",
        "qa_list = []\n",
        "for item in qa_test:\n",
        "  prompt = item['text']\n",
        "  question = re.search(r'\\[INST\\] (.*) \\[/INST\\]', prompt).group(1)\n",
        "  response = re.search(r'\\[/INST\\] (.*) \\</s\\>', prompt).group(1)\n",
        "  qa_list.append([question, response])"
      ]
    },
    {
      "cell_type": "code",
      "execution_count": null,
      "metadata": {
        "id": "smzkASMLcfeK"
      },
      "outputs": [],
      "source": [
        "qa_list[20][0] # question"
      ]
    },
    {
      "cell_type": "code",
      "execution_count": null,
      "metadata": {
        "id": "0aHb4x2hfZFi"
      },
      "outputs": [],
      "source": [
        "prompt1 = \"You are a helpful personalised medical assistant. In your response do not include any personal names and keep your answer professional and concise.\"\n",
        "#prompt2 = \"You are a helpful personalised medical assistant. Provide a friendly personal response to the patients medical question within a paragraph, provide the necessary details. Follow up it they need more information\"\n",
        "\n",
        "def get_model_responses(model_x, qa_list):\n",
        "  model_responses = []\n",
        "  for item in qa_list:\n",
        "    question = item[0]\n",
        "    # print(item)\n",
        "    # print(question)\n",
        "    # print(\"-----\")\n",
        "    messages = [\n",
        "      {\"role\": \"system\", \"content\": prompt1},\n",
        "      {\"role\": \"user\", \"content\": question}\n",
        "    ]\n",
        "    inputs = tokenizer.apply_chat_template(messages, return_tensors=\"pt\").to(\"cuda\")\n",
        "    outputs = model_x.generate(inputs, max_new_tokens=250, temperature=0.1)\n",
        "    response = tokenizer.decode(outputs[0], skip_special_tokens=False)\n",
        "    answer = response.split('[/INST] ')[1]  # get text after /INST token\n",
        "    answer = answer.replace('</s>', '') # remove trailing special token if present\n",
        "    model_responses.append(answer)\n",
        "  return model_responses"
      ]
    },
    {
      "cell_type": "code",
      "source": [
        "print(model_base.lm_head.weight[0, :10])\n",
        "print(model_g.lm_head.weight[0, :10])"
      ],
      "metadata": {
        "id": "yFvSVzQOFUwN"
      },
      "execution_count": null,
      "outputs": []
    },
    {
      "cell_type": "code",
      "source": [
        "model_base_responses_pubmedqa = get_model_responses(model_base, qa_list)"
      ],
      "metadata": {
        "id": "sX8ZCqBJ0JmW"
      },
      "execution_count": null,
      "outputs": []
    },
    {
      "cell_type": "code",
      "source": [
        "prompt_base_pubmedqa_dataset = Dataset.from_dict({\"text\": model_base_responses_pubmedqa})"
      ],
      "metadata": {
        "id": "JPAzLIad0h1j"
      },
      "execution_count": null,
      "outputs": []
    },
    {
      "cell_type": "code",
      "source": [
        "prompt_base_pubmedqa_dataset.push_to_hub(f\"{hf_username}/model_base_responses_pubmedqa\", private=True)"
      ],
      "metadata": {
        "id": "2n-XKStD1Bzj"
      },
      "execution_count": null,
      "outputs": []
    },
    {
      "cell_type": "code",
      "source": [
        "prompt_base_pubmedqa_dataset[1]"
      ],
      "metadata": {
        "id": "K3fR3LDm1Tr9"
      },
      "execution_count": null,
      "outputs": []
    },
    {
      "cell_type": "code",
      "source": [
        "model_e = PeftModel.from_pretrained(model_base, MODEL_E)\n",
        "model_f = PeftModel.from_pretrained(model_base, MODEL_F)"
      ],
      "metadata": {
        "id": "9szJl0P2PlpN"
      },
      "execution_count": null,
      "outputs": []
    },
    {
      "cell_type": "code",
      "source": [
        "model_e_responses = get_model_responses(model_e, qa_list)"
      ],
      "metadata": {
        "id": "8m5IgtC-PwvR"
      },
      "execution_count": null,
      "outputs": []
    },
    {
      "cell_type": "code",
      "source": [
        "model_f_responses = get_model_responses(model_f, qa_list)"
      ],
      "metadata": {
        "id": "5oQ4TgwINx7o"
      },
      "execution_count": null,
      "outputs": []
    },
    {
      "cell_type": "code",
      "source": [
        "prompt_e_dataset = Dataset.from_dict({\"text\": model_e_responses})\n",
        "prompt_f_dataset = Dataset.from_dict({\"text\": model_f_responses})"
      ],
      "metadata": {
        "id": "sLf-3ZKTQPaM"
      },
      "execution_count": null,
      "outputs": []
    },
    {
      "cell_type": "code",
      "source": [
        "prompt_e_dataset.push_to_hub(f\"{hf_username}/model_e_responses\", private=True)\n",
        "prompt_f_dataset.push_to_hub(f\"{hf_username}/model_f_responses\", private=True)"
      ],
      "metadata": {
        "id": "N-qxbDyrQVts"
      },
      "execution_count": null,
      "outputs": []
    },
    {
      "cell_type": "code",
      "source": [
        "model_g = PeftModel.from_pretrained(model_base, MODEL_G)"
      ],
      "metadata": {
        "id": "1Ya_zfN6ylgq"
      },
      "execution_count": null,
      "outputs": []
    },
    {
      "cell_type": "code",
      "source": [
        "model_g_responses = get_model_responses(model_g, qa_list)\n",
        "prompt_g_dataset = Dataset.from_dict({\"text\": model_g_responses})\n",
        "prompt_g_dataset.push_to_hub(f\"{hf_username}/model_g_responses\", private=True)"
      ],
      "metadata": {
        "id": "nWoapdbM-9tw"
      },
      "execution_count": null,
      "outputs": []
    },
    {
      "cell_type": "code",
      "source": [
        "model_h = PeftModel.from_pretrained(model_base, MODEL_H)\n",
        "model_h_responses = get_model_responses(model_h, qa_list)\n",
        "prompt_h_dataset = Dataset.from_dict({\"text\": model_h_responses})\n",
        "prompt_h_dataset.push_to_hub(f\"{hf_username}/model_h_responses\", private=True)"
      ],
      "metadata": {
        "id": "2ikW8Vv3Cgaq"
      },
      "execution_count": null,
      "outputs": []
    },
    {
      "cell_type": "code",
      "source": [
        "# stop notebook and disconnect GPU after finishing above steps as this process can take several hours\n",
        "from google.colab import runtime\n",
        "runtime.unassign()"
      ],
      "metadata": {
        "id": "Ub6-RR3uTnVL"
      },
      "execution_count": null,
      "outputs": []
    },
    {
      "cell_type": "markdown",
      "source": [
        "## 6. Evaluate fine tuned models - get metrics from generated responses\n",
        "In this final step, the generated response can be reloaded from HuggingFace to evaluate and calculate metrics against the expected responses in **test** dataset."
      ],
      "metadata": {
        "id": "KwqCV9psQNpK"
      }
    },
    {
      "cell_type": "code",
      "source": [
        "qa_test = load_dataset(\"digitalblue/ed_medical-pubmedqa-artifical\", split=\"test[:50]\") # load only pubmedqa YES rows, test set"
      ],
      "metadata": {
        "id": "gfyOLbFnQVqy"
      },
      "execution_count": null,
      "outputs": []
    },
    {
      "cell_type": "code",
      "source": [
        "qa_list = []\n",
        "for item in qa_test:\n",
        "  prompt = item['text']\n",
        "  question = re.search(r'\\[INST\\] (.*) \\[/INST\\]', prompt).group(1)\n",
        "  response = re.search(r'\\[/INST\\] (.*) \\</s\\>', prompt).group(1)\n",
        "  qa_list.append([question, response])"
      ],
      "metadata": {
        "id": "cY3cjfLbQsJw"
      },
      "execution_count": null,
      "outputs": []
    },
    {
      "cell_type": "code",
      "source": [
        "qa_list[20][1] # index 1 is dataset real response"
      ],
      "metadata": {
        "id": "mAGTjeruQwJI"
      },
      "execution_count": null,
      "outputs": []
    },
    {
      "cell_type": "code",
      "source": [
        "qa_references = [item[1] for item in qa_list] # get list of reference responses"
      ],
      "metadata": {
        "id": "HVQzvtF1VIz8"
      },
      "execution_count": null,
      "outputs": []
    },
    {
      "cell_type": "code",
      "source": [
        "# load saved response data to evaluate\n",
        "model_base_pubmedqa_dataset = load_dataset(\"digitalblue/model_base_responses_pubmedqa\")\n",
        "model_e_dataset = load_dataset(\"digitalblue/model_e_responses\")\n",
        "model_f_dataset = load_dataset(\"digitalblue/model_f_responses\")\n",
        "model_g_dataset = load_dataset(\"digitalblue/model_g_responses\")\n",
        "model_h_dataset = load_dataset(\"digitalblue/model_h_responses\")"
      ],
      "metadata": {
        "id": "526aY-AERByq"
      },
      "execution_count": null,
      "outputs": []
    },
    {
      "cell_type": "code",
      "source": [
        "# convert to list\n",
        "base_pubmedqa_response_list = model_base_pubmedqa_dataset['train']['text'][:50]\n",
        "e_response_list = model_e_dataset['train']['text'][:50]\n",
        "f_response_list = model_f_dataset['train']['text'][:50]\n",
        "g_response_list = model_g_dataset['train']['text']\n",
        "h_response_list = model_h_dataset['train']['text']"
      ],
      "metadata": {
        "id": "OA2TvC2CR9an"
      },
      "execution_count": null,
      "outputs": []
    },
    {
      "cell_type": "code",
      "source": [
        "def calc_rouge_metric(references, predictions):\n",
        "  rouge = evaluate.load('rouge')\n",
        "  results = rouge.compute(\n",
        "    predictions=predictions,\n",
        "    references=references\n",
        "  )\n",
        "  return results\n",
        "\n",
        "def calc_bleu_metric(references, predictions):\n",
        "  bleu = evaluate.load('bleu')\n",
        "  results = bleu.compute(\n",
        "    predictions=predictions,\n",
        "    references=references\n",
        "  )\n",
        "  return results\n",
        "\n",
        "def calc_meteor_metric(references, predictions):\n",
        "  meteor = evaluate.load('meteor')\n",
        "  results = meteor.compute(\n",
        "    predictions=predictions,\n",
        "    references=[[ref] for ref in references]\n",
        "  )\n",
        "  return results\n",
        "\n",
        "def calc_bert_score(references, predictions):\n",
        "  bert_scorer = BERTScorer(model_type='bert-base-uncased')\n",
        "  P = []\n",
        "  R = []\n",
        "  F1 = []\n",
        "\n",
        "  for i in range(len(predictions)):\n",
        "    p_i, r_i, f1_i = bert_scorer.score([predictions[i]], [references[i]])\n",
        "    P.append(p_i)\n",
        "    R.append(r_i)\n",
        "    F1.append(f1_i)\n",
        "  results = {\n",
        "    'P': np.mean(P),\n",
        "    'R': np.mean(R),\n",
        "    'F1': np.mean(F1)\n",
        "  }\n",
        "  return results"
      ],
      "metadata": {
        "id": "yzfSECeMTK67"
      },
      "execution_count": null,
      "outputs": []
    },
    {
      "cell_type": "code",
      "source": [
        "rouge_base_pubmedqa = calc_rouge_metric(qa_references, base_pubmedqa_response_list)\n",
        "rouge_e = calc_rouge_metric(qa_references, e_response_list)\n",
        "rouge_f = calc_rouge_metric(qa_references, f_response_list)\n",
        "rouge_g = calc_rouge_metric(qa_references, g_response_list)\n",
        "rouge_h = calc_rouge_metric(qa_references, h_response_list)"
      ],
      "metadata": {
        "id": "7CnxpXVMU-kh"
      },
      "execution_count": null,
      "outputs": []
    },
    {
      "cell_type": "code",
      "source": [
        "print(rouge_base_pubmedqa)\n",
        "print(rouge_e)\n",
        "print(rouge_f)\n",
        "print(rouge_g)\n",
        "print(rouge_h)"
      ],
      "metadata": {
        "id": "R2dEf1Mw5tbw"
      },
      "execution_count": null,
      "outputs": []
    },
    {
      "cell_type": "code",
      "source": [
        "# plot rouge scores\n",
        "rouge_dict = {\n",
        "    'rouge1': (rouge_base_pubmedqa['rouge1'], rouge_e['rouge1'], rouge_f['rouge1'], rouge_g['rouge1'], rouge_h['rouge1']),\n",
        "    'rouge2': (rouge_base_pubmedqa['rouge2'], rouge_e['rouge2'], rouge_f['rouge2'], rouge_g['rouge2'], rouge_h['rouge2']),\n",
        "    'rougeL': (rouge_base_pubmedqa['rougeL'], rouge_e['rougeL'], rouge_f['rougeL'], rouge_g['rougeL'], rouge_h['rougeL']),\n",
        "    'rougeLsum': (rouge_base_pubmedqa['rougeLsum'], rouge_e['rougeLsum'], rouge_f['rougeLsum'], rouge_g['rougeLsum'], rouge_h['rougeLsum'])\n",
        "}\n",
        "model_labels = ('Base', 'Model E', 'Model F', 'Model G', 'Model H')\n",
        "\n",
        "x = np.arange(len(model_labels))\n",
        "width = 0.2\n",
        "multiplier = 0\n",
        "\n",
        "fig, ax = plt.subplots(layout='constrained')\n",
        "\n",
        "for attribute, measurement in rouge_dict.items():\n",
        "    offset = width * multiplier\n",
        "    msr = np.round(measurement, 4) # round to 4 decimal places for plot\n",
        "    rects = ax.bar(x + offset, msr, width, label=attribute)\n",
        "    ax.bar_label(rects, padding=1)\n",
        "    multiplier += 1\n",
        "\n",
        "ax.set_ylabel('Rouge Score')\n",
        "ax.set_title('Rouge Score Comparison')\n",
        "ax.set_xticks(x + width, model_labels)\n",
        "ax.legend(loc='upper left', ncols=4)\n",
        "ax.set_ylim(0, 1)\n",
        "\n",
        "plt.show()"
      ],
      "metadata": {
        "id": "n6rBYsoNN4_O"
      },
      "execution_count": null,
      "outputs": []
    },
    {
      "cell_type": "code",
      "source": [
        "bleu_base_pubmedqa = calc_bleu_metric(qa_references, base_pubmedqa_response_list)\n",
        "bleu_e = calc_bleu_metric(qa_references, e_response_list)\n",
        "bleu_f = calc_bleu_metric(qa_references, f_response_list)\n",
        "bleu_g = calc_bleu_metric(qa_references, g_response_list)\n",
        "bleu_h = calc_bleu_metric(qa_references, h_response_list)"
      ],
      "metadata": {
        "id": "LvagAtBTTJam"
      },
      "execution_count": null,
      "outputs": []
    },
    {
      "cell_type": "code",
      "source": [
        "print(bleu_base_pubmedqa)\n",
        "print(bleu_e)\n",
        "print(bleu_f)\n",
        "print(bleu_g)\n",
        "print(bleu_h)"
      ],
      "metadata": {
        "id": "E_P5x81pTTq0"
      },
      "execution_count": null,
      "outputs": []
    },
    {
      "cell_type": "code",
      "source": [
        "# plot bleu scores\n",
        "bleu_dict = {\n",
        "    'bleu': (bleu_base_pubmedqa['bleu'], bleu_e['bleu'], bleu_f['bleu'], bleu_g['bleu'], bleu_h['bleu']),\n",
        "    'brevity_penalty': (bleu_base_pubmedqa['brevity_penalty'], bleu_e['brevity_penalty'], bleu_f['brevity_penalty'], bleu_g['brevity_penalty'], bleu_h['brevity_penalty'])\n",
        "}\n",
        "\n",
        "model_labels = ('Base', 'Model E', 'Model F', 'Model G', 'Model H')\n",
        "\n",
        "x = np.arange(len(model_labels))\n",
        "width = 0.2\n",
        "multiplier = 0\n",
        "\n",
        "fig, ax = plt.subplots(layout='constrained')\n",
        "\n",
        "for attribute, measurement in bleu_dict.items():\n",
        "    offset = width * multiplier\n",
        "    msr = np.round(measurement, 4) # round to 4 decimal places for plot\n",
        "    rects = ax.bar(x + offset, msr, width, label=attribute)\n",
        "    ax.bar_label(rects, padding=1)\n",
        "    multiplier += 1\n",
        "\n",
        "ax.set_ylabel('Bleu Score')\n",
        "ax.set_title('Bleu Score Comparison')\n",
        "ax.set_xticks(x + width, model_labels)\n",
        "ax.legend(loc='upper left', ncols=4)\n",
        "ax.set_ylim(0, 1)\n",
        "\n",
        "plt.show()"
      ],
      "metadata": {
        "id": "VrdOyoXrUojV"
      },
      "execution_count": null,
      "outputs": []
    },
    {
      "cell_type": "code",
      "source": [
        "meteor_base_pubmedqa = calc_meteor_metric(qa_references, base_pubmedqa_response_list)\n",
        "meteor_e = calc_meteor_metric(qa_references, e_response_list)\n",
        "meteor_f = calc_meteor_metric(qa_references, f_response_list)\n",
        "meteor_g = calc_meteor_metric(qa_references, g_response_list)\n",
        "meteor_h = calc_meteor_metric(qa_references, h_response_list)"
      ],
      "metadata": {
        "id": "c1Hq-mzZTiSh"
      },
      "execution_count": null,
      "outputs": []
    },
    {
      "cell_type": "code",
      "source": [
        "print(meteor_base_pubmedqa)\n",
        "print(meteor_e)\n",
        "print(meteor_f)\n",
        "print(meteor_g)\n",
        "print(meteor_h)"
      ],
      "metadata": {
        "id": "DjJmRWA6T5Co"
      },
      "execution_count": null,
      "outputs": []
    },
    {
      "cell_type": "code",
      "source": [
        "# plot meteor scores\n",
        "meteor_dict = {\n",
        "    'meteor': (meteor_base_pubmedqa['meteor'], meteor_e['meteor'], meteor_f['meteor'], meteor_g['meteor'], meteor_h['meteor'])\n",
        "}\n",
        "model_labels = ('Base', 'Model E', 'Model F', 'Model G', 'Model H')\n",
        "\n",
        "x = np.arange(len(model_labels))\n",
        "width = 0.2\n",
        "multiplier = 0\n",
        "\n",
        "fig, ax = plt.subplots(layout='constrained')\n",
        "\n",
        "for attribute, measurement in meteor_dict.items():\n",
        "    offset = width * multiplier\n",
        "    msr = np.round(measurement, 4) # round to 4 decimal places for plot\n",
        "    rects = ax.bar(x + offset, msr, width, label=attribute)\n",
        "    ax.bar_label(rects, padding=1)\n",
        "    multiplier += 1\n",
        "\n",
        "ax.set_ylabel('Meteor Score')\n",
        "ax.set_title('Meteor Score Comparison')\n",
        "ax.set_xticks(x + width, model_labels)\n",
        "ax.legend(loc='upper left', ncols=4)\n",
        "ax.set_ylim(0, 1)\n",
        "\n",
        "plt.show()"
      ],
      "metadata": {
        "id": "p0MZQuIYW738"
      },
      "execution_count": null,
      "outputs": []
    },
    {
      "cell_type": "code",
      "source": [
        "bert_score_base_pubmedqa = calc_bert_score(qa_references, base_pubmedqa_response_list)\n",
        "bert_score_e = calc_bert_score(qa_references, e_response_list)\n",
        "bert_score_f = calc_bert_score(qa_references, f_response_list)\n",
        "bert_score_g = calc_bert_score(qa_references, g_response_list)\n",
        "bert_score_h = calc_bert_score(qa_references, h_response_list)"
      ],
      "metadata": {
        "id": "PX2qUlOaUBBV"
      },
      "execution_count": null,
      "outputs": []
    },
    {
      "cell_type": "code",
      "source": [
        "print(bert_score_base_pubmedqa)\n",
        "print(bert_score_e)\n",
        "print(bert_score_f)\n",
        "print(bert_score_g)\n",
        "print(bert_score_h)"
      ],
      "metadata": {
        "id": "tM-k91NhUM7w"
      },
      "execution_count": null,
      "outputs": []
    },
    {
      "cell_type": "code",
      "source": [
        "# plot bert scores\n",
        "bert_score_dict = {\n",
        "    'P': (bert_score_base_pubmedqa['P'], bert_score_e['P'], bert_score_f['P'], bert_score_g['P'], bert_score_h['P']),\n",
        "    'R': (bert_score_base_pubmedqa['R'], bert_score_e['R'], bert_score_f['R'], bert_score_g['R'], bert_score_h['R']),\n",
        "    'F1': (bert_score_base_pubmedqa['F1'], bert_score_e['F1'], bert_score_f['F1'], bert_score_g['F1'], bert_score_h['F1'])\n",
        "}\n",
        "model_labels = ('Base', 'Model E', 'Model F', 'Model G', 'Model H')\n",
        "\n",
        "x = np.arange(len(model_labels))\n",
        "width = 0.2\n",
        "multiplier = 0\n",
        "\n",
        "fig, ax = plt.subplots(layout='constrained')\n",
        "\n",
        "for attribute, measurement in bert_score_dict.items():\n",
        "    offset = width * multiplier\n",
        "    msr = np.round(measurement, 4) # round to 4 decimal places for plot\n",
        "    rects = ax.bar(x + offset, msr, width, label=attribute)\n",
        "    ax.bar_label(rects, padding=1)\n",
        "    multiplier += 1\n",
        "\n",
        "ax.set_ylabel('Bert Score')\n",
        "ax.set_title('Bert Score Comparison')\n",
        "ax.set_xticks(x + width, model_labels)\n",
        "ax.legend(loc='upper left', ncols=4)\n",
        "ax.set_ylim(0, 1)\n",
        "\n",
        "plt.show()"
      ],
      "metadata": {
        "id": "rKJ15yvHYFoR"
      },
      "execution_count": null,
      "outputs": []
    },
    {
      "cell_type": "code",
      "source": [
        "# human evaluation\n",
        "def print_response(QA_NUM):\n",
        "  for i in range(QA_NUM):\n",
        "    print('-----------------------------------------')\n",
        "    print('\\nTest question: ' + qa_list[i][0])\n",
        "    print('\\nTest answer: ' + qa_list[i][1])\n",
        "    print('\\nBase: ' + base_pubmedqa_response_list[i])\n",
        "    print('\\nModel E: ' + e_response_list[i])\n",
        "    print('\\nModel F: ' + f_response_list[i])\n",
        "    print('\\nModel G: ' + g_response_list[i])\n",
        "    print('\\nModel H: ' + h_response_list[i])\n",
        "\n",
        "print_response(5)"
      ],
      "metadata": {
        "id": "ilTsBxeBAFD5"
      },
      "execution_count": null,
      "outputs": []
    },
    {
      "cell_type": "markdown",
      "source": [
        "## 7. Evaluation Summary\n",
        "Evaluation metrics do not show improvement over base model. The Llama 2 model does not disclose its training dataset, however as PubMedQA is public data, there exists the possiblity that it may have already been trained on this dataset.\n",
        "\n",
        "Alternatively, the training hyperparameters used in training and/or the volume of data used may have been insufficinet for the model to successfully learn the domain.\n",
        "\n",
        "Next steps:\n",
        "* Continue to experiment with further hyperparameter tuning\n",
        "* Increase volume of training data\n",
        "* Adjust system prompt, and model parameters on inference\n",
        "* Explore different dataset"
      ],
      "metadata": {
        "id": "A__kV9qaZ-lF"
      }
    },
    {
      "cell_type": "markdown",
      "source": [
        "\n",
        "\n",
        "---\n",
        "\n"
      ],
      "metadata": {
        "id": "mAaeQ9-vdDsU"
      }
    },
    {
      "cell_type": "markdown",
      "source": [
        "## 8. Model packaging\n",
        "This sections explored how to bundle the fine-tuned model with adapters and  including tokenizer, into an LLM that can be downloaded and used standalone. The intention was to investigate how it could be deployed to a cloud provider, and used on edge device or local PC via Ollama."
      ],
      "metadata": {
        "id": "JQszdTAUKLV0"
      }
    },
    {
      "cell_type": "code",
      "execution_count": null,
      "metadata": {
        "id": "BDQE4RP77ukr"
      },
      "outputs": [],
      "source": [
        "# clear gpu memory\n",
        "torch.cuda.empty_cache()\n",
        "torch.cuda.reset_max_memory_allocated()"
      ]
    },
    {
      "cell_type": "code",
      "source": [
        "# quantisation config to use less memory when loading model\n",
        "quant_config = BitsAndBytesConfig(\n",
        "    load_in_4bit=True,\n",
        "    bnb_4bit_use_double_quant=True,\n",
        "    bnb_4bit_compute_dtype=torch.bfloat16,\n",
        "    bnb_4bit_quant_type=\"nf4\"\n",
        ")"
      ],
      "metadata": {
        "id": "BF4tuHFrs5eq"
      },
      "execution_count": null,
      "outputs": []
    },
    {
      "cell_type": "code",
      "source": [
        "model = AutoModelForCausalLM.from_pretrained(\n",
        "    model_name,\n",
        "    #quantization_config=quant_config,\n",
        "    device_map=\"auto\"\n",
        "    )"
      ],
      "metadata": {
        "id": "4hxmKACEq5b0"
      },
      "execution_count": null,
      "outputs": []
    },
    {
      "cell_type": "code",
      "source": [
        "# initialise tokenizer and pipeline\n",
        "tokenizer = AutoTokenizer.from_pretrained(model_name, token=hf_token)\n",
        "tokenizer.pad_token = tokenizer.eos_token\n",
        "tokenizer.padding_side = \"right\""
      ],
      "metadata": {
        "id": "VzJ_y97nv9tP"
      },
      "execution_count": null,
      "outputs": []
    },
    {
      "cell_type": "code",
      "source": [
        "MODEL_A = \"digitalblue/ed_medical-2025-04-03_09.11.29\" # trained on 200 rows\n",
        "MODEL_B = \"digitalblue/ed_medical-2025-04-05_10.59.54\" # trained on 800 rows\n",
        "MODEL_C = \"digitalblue/ed_medical-2025-04-05_11.36.32\" # trained on 1600 rows\n",
        "MODEL_D = \"digitalblue/ed_medical-2025-04-06_10.40.29\" # trained on 1600 rows with NEFTune\n",
        "MODEL_E = \"digitalblue/ed_medical-2025-04-15_12.43.48\" # trained on 8000 rows of pubmedqa only w/ NEFTune\n",
        "MODEL_F = \"digitalblue/ed_medical-2025-05-05_23.51.25\" # trained on 9000 row, lower learing rate, 3 epochs"
      ],
      "metadata": {
        "id": "CdUzjGX2tDA9"
      },
      "execution_count": null,
      "outputs": []
    },
    {
      "cell_type": "code",
      "source": [
        "model_e = PeftModel.from_pretrained(model, MODEL_E)"
      ],
      "metadata": {
        "id": "SN8w-kretYUU"
      },
      "execution_count": null,
      "outputs": []
    },
    {
      "cell_type": "code",
      "source": [
        "print(model.lm_head.weight[0, :10])\n",
        "print(model_e.lm_head.weight[0, :10])\n",
        "print(model_f.lm_head.weight[0, :10])"
      ],
      "metadata": {
        "id": "U79DH4Lk0aR5"
      },
      "execution_count": null,
      "outputs": []
    },
    {
      "cell_type": "code",
      "source": [
        "model_e.print_trainable_parameters()\n",
        "model_f.print_trainable_parameters()"
      ],
      "metadata": {
        "id": "todITVof37oM"
      },
      "execution_count": null,
      "outputs": []
    },
    {
      "cell_type": "code",
      "source": [
        "messages = [\n",
        "    {\"role\": \"system\", \"content\": \"You are a helpful personalised medical assistant. In your response do not include any personal names and keep your answer professional and concise.\"},\n",
        "    {\"role\": \"user\", \"content\": \"Does methylphenidate improve the quality of life of children and adolescents with ADHD and difficult-to-treat epilepsies?\"}\n",
        "]"
      ],
      "metadata": {
        "id": "Ol5Mmmy42e3L"
      },
      "execution_count": null,
      "outputs": []
    },
    {
      "cell_type": "code",
      "source": [
        "og_output = model_e.generate(tokenizer.apply_chat_template(messages, return_tensors=\"pt\").to(\"cuda\"), max_new_tokens=250)"
      ],
      "metadata": {
        "id": "t6QxsMwg12U5"
      },
      "execution_count": null,
      "outputs": []
    },
    {
      "cell_type": "code",
      "source": [
        "tokenizer.decode(og_output[0], skip_special_tokens=False)"
      ],
      "metadata": {
        "id": "KyhDXKEc20Ym"
      },
      "execution_count": null,
      "outputs": []
    },
    {
      "cell_type": "code",
      "source": [
        "base_output = model.generate(tokenizer.apply_chat_template(messages, return_tensors=\"pt\").to(\"cuda\"), max_new_tokens=250)\n",
        "tokenizer.decode(base_output[0], skip_special_tokens=False)"
      ],
      "metadata": {
        "id": "BVDWR5fS3IZM"
      },
      "execution_count": null,
      "outputs": []
    },
    {
      "cell_type": "code",
      "source": [
        "merge_model_e = model_e.merge_and_unload()"
      ],
      "metadata": {
        "id": "6rysGRVjuOZk"
      },
      "execution_count": null,
      "outputs": []
    },
    {
      "cell_type": "code",
      "source": [
        "merge_model_f = model_f.merge_and_unload()"
      ],
      "metadata": {
        "id": "X9lRwB-B6HZV"
      },
      "execution_count": null,
      "outputs": []
    },
    {
      "cell_type": "code",
      "source": [
        "merge_model_f"
      ],
      "metadata": {
        "id": "coTU5T-K6OKq"
      },
      "execution_count": null,
      "outputs": []
    },
    {
      "cell_type": "code",
      "source": [
        "save_folder = \"digitalblue/model_e_merge_v2\""
      ],
      "metadata": {
        "id": "Hs_qKWUjub9V"
      },
      "execution_count": null,
      "outputs": []
    },
    {
      "cell_type": "code",
      "source": [
        "merge_model_e.save_pretrained(save_folder, safe_serialization=True)"
      ],
      "metadata": {
        "id": "BwoKMjcauzuQ"
      },
      "execution_count": null,
      "outputs": []
    },
    {
      "cell_type": "code",
      "source": [
        "tokenizer.save_pretrained(save_folder)"
      ],
      "metadata": {
        "id": "z9ALtLhVv3_N"
      },
      "execution_count": null,
      "outputs": []
    },
    {
      "cell_type": "code",
      "source": [
        "from huggingface_hub import create_repo\n",
        "\n",
        "repo_id = \"digitalblue/model_e_merge_v2\"\n",
        "create_repo(repo_id, repo_type=\"model\", exist_ok=True, private=True)"
      ],
      "metadata": {
        "id": "xFZxG48iMGro"
      },
      "execution_count": null,
      "outputs": []
    },
    {
      "cell_type": "code",
      "source": [
        "merge_model_e.push_to_hub(repo_id)\n",
        "tokenizer.push_to_hub(repo_id)"
      ],
      "metadata": {
        "id": "AF4UIVFnMd2O"
      },
      "execution_count": null,
      "outputs": []
    },
    {
      "cell_type": "code",
      "source": [
        "save_folder = \"digitalblue/model_f_merge\"\n",
        "merge_model_f.save_pretrained(save_folder, safe_serialization=True)\n",
        "tokenizer.save_pretrained(save_folder)\n",
        "\n",
        "repo_id = save_folder\n",
        "create_repo(repo_id, repo_type=\"model\", exist_ok=True, private=True)\n",
        "\n",
        "merge_model_f.push_to_hub(repo_id)\n",
        "tokenizer.push_to_hub(repo_id)"
      ],
      "metadata": {
        "id": "rh7io6HW7Als"
      },
      "execution_count": null,
      "outputs": []
    },
    {
      "cell_type": "code",
      "source": [
        "# Use a pipeline as a high-level helper\n",
        "from transformers import pipeline\n",
        "\n",
        "messages = [\n",
        "    {\"role\": \"user\", \"content\": \"Does methylphenidate improve the quality of life of children and adolescents with ADHD and difficult-to-treat epilepsies?\"},\n",
        "]\n",
        "pipe = pipeline(\"text-generation\", model=\"digitalblue/model_e_merge_v2\")\n",
        "pipe(messages)"
      ],
      "metadata": {
        "id": "qljeZQ1INvYV"
      },
      "execution_count": null,
      "outputs": []
    },
    {
      "cell_type": "code",
      "source": [
        "messages = [\n",
        "    {\"role\": \"system\", \"content\": \"You are a helpful personalised medical assistant. In your response do not include any personal names and keep your answer professional and concise.\"},\n",
        "    {\"role\": \"user\", \"content\": \"Does methylphenidate improve the quality of life of children and adolescents with ADHD and difficult-to-treat epilepsies?\"}\n",
        "]\n",
        "pipe(messages)"
      ],
      "metadata": {
        "id": "OXR2RZCYOMel"
      },
      "execution_count": null,
      "outputs": []
    },
    {
      "cell_type": "markdown",
      "source": [
        "## Print to PDF"
      ],
      "metadata": {
        "id": "-rzoLlpVbmKA"
      }
    },
    {
      "cell_type": "code",
      "source": [
        "#install necessary packages for printing to pdf\n",
        "!apt-get install texlive texlive-xetex texlive-latex-extra pandoc\n",
        "!pip install pypandoc\n",
        "!pip install nbconvert"
      ],
      "metadata": {
        "id": "2SKUvSusbYVu"
      },
      "execution_count": null,
      "outputs": []
    },
    {
      "cell_type": "code",
      "source": [
        "#Convert your notebook into PDF\n",
        "!jupyter nbconvert --to pdf '/content/drive/My Drive/Colab Notebooks/Ed LLM FineTuning_PubMedQA.ipynb'"
      ],
      "metadata": {
        "id": "_TwmgRcibaNe"
      },
      "execution_count": null,
      "outputs": []
    },
    {
      "cell_type": "code",
      "source": [],
      "metadata": {
        "id": "2LzWBEq7cQqn"
      },
      "execution_count": null,
      "outputs": []
    }
  ],
  "metadata": {
    "colab": {
      "provenance": [],
      "mount_file_id": "1Kh2len0SEWYqzObuw3YszHRIkeLe1zts",
      "authorship_tag": "ABX9TyOHHuDOHBAtPgT30ankR04+",
      "include_colab_link": true
    },
    "kernelspec": {
      "display_name": "Python 3",
      "name": "python3"
    },
    "language_info": {
      "name": "python"
    }
  },
  "nbformat": 4,
  "nbformat_minor": 0
}