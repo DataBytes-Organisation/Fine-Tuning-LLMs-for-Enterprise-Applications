{
  "nbformat": 4,
  "nbformat_minor": 0,
  "metadata": {
    "colab": {
      "provenance": [],
      "gpuType": "T4",
      "authorship_tag": "ABX9TyMHR+rAxRpFFf48+xoRSips",
      "include_colab_link": true
    },
    "kernelspec": {
      "name": "python3",
      "display_name": "Python 3"
    },
    "language_info": {
      "name": "python"
    },
    "widgets": {
      "application/vnd.jupyter.widget-state+json": {
        "4977e103a6414d1b9f08a33b74e23f3e": {
          "model_module": "@jupyter-widgets/controls",
          "model_name": "HBoxModel",
          "model_module_version": "1.5.0",
          "state": {
            "_dom_classes": [],
            "_model_module": "@jupyter-widgets/controls",
            "_model_module_version": "1.5.0",
            "_model_name": "HBoxModel",
            "_view_count": null,
            "_view_module": "@jupyter-widgets/controls",
            "_view_module_version": "1.5.0",
            "_view_name": "HBoxView",
            "box_style": "",
            "children": [
              "IPY_MODEL_295417c18bea4dacb52601cb6d5ff958",
              "IPY_MODEL_c8f54cac6e7b40bd8b0f226f18b1423b",
              "IPY_MODEL_002ac720559541d28f5e98cdb83c3c54"
            ],
            "layout": "IPY_MODEL_8abcd3039ae7402abfece19cab774311"
          }
        },
        "295417c18bea4dacb52601cb6d5ff958": {
          "model_module": "@jupyter-widgets/controls",
          "model_name": "HTMLModel",
          "model_module_version": "1.5.0",
          "state": {
            "_dom_classes": [],
            "_model_module": "@jupyter-widgets/controls",
            "_model_module_version": "1.5.0",
            "_model_name": "HTMLModel",
            "_view_count": null,
            "_view_module": "@jupyter-widgets/controls",
            "_view_module_version": "1.5.0",
            "_view_name": "HTMLView",
            "description": "",
            "description_tooltip": null,
            "layout": "IPY_MODEL_e3820a6f4415440db9cbf802c0c34806",
            "placeholder": "​",
            "style": "IPY_MODEL_595631a625a5407295e0d789716162f6",
            "value": "Loading checkpoint shards: 100%"
          }
        },
        "c8f54cac6e7b40bd8b0f226f18b1423b": {
          "model_module": "@jupyter-widgets/controls",
          "model_name": "FloatProgressModel",
          "model_module_version": "1.5.0",
          "state": {
            "_dom_classes": [],
            "_model_module": "@jupyter-widgets/controls",
            "_model_module_version": "1.5.0",
            "_model_name": "FloatProgressModel",
            "_view_count": null,
            "_view_module": "@jupyter-widgets/controls",
            "_view_module_version": "1.5.0",
            "_view_name": "ProgressView",
            "bar_style": "success",
            "description": "",
            "description_tooltip": null,
            "layout": "IPY_MODEL_5b49ff0b326642d6b812ff5c8adc4319",
            "max": 2,
            "min": 0,
            "orientation": "horizontal",
            "style": "IPY_MODEL_022cd49bf3a8444d8d8cb18ae5073d51",
            "value": 2
          }
        },
        "002ac720559541d28f5e98cdb83c3c54": {
          "model_module": "@jupyter-widgets/controls",
          "model_name": "HTMLModel",
          "model_module_version": "1.5.0",
          "state": {
            "_dom_classes": [],
            "_model_module": "@jupyter-widgets/controls",
            "_model_module_version": "1.5.0",
            "_model_name": "HTMLModel",
            "_view_count": null,
            "_view_module": "@jupyter-widgets/controls",
            "_view_module_version": "1.5.0",
            "_view_name": "HTMLView",
            "description": "",
            "description_tooltip": null,
            "layout": "IPY_MODEL_716867ed109b489f9b63e70df76cd432",
            "placeholder": "​",
            "style": "IPY_MODEL_03a28ce6bdca475d976d5d2293285766",
            "value": " 2/2 [00:54&lt;00:00, 25.18s/it]"
          }
        },
        "8abcd3039ae7402abfece19cab774311": {
          "model_module": "@jupyter-widgets/base",
          "model_name": "LayoutModel",
          "model_module_version": "1.2.0",
          "state": {
            "_model_module": "@jupyter-widgets/base",
            "_model_module_version": "1.2.0",
            "_model_name": "LayoutModel",
            "_view_count": null,
            "_view_module": "@jupyter-widgets/base",
            "_view_module_version": "1.2.0",
            "_view_name": "LayoutView",
            "align_content": null,
            "align_items": null,
            "align_self": null,
            "border": null,
            "bottom": null,
            "display": null,
            "flex": null,
            "flex_flow": null,
            "grid_area": null,
            "grid_auto_columns": null,
            "grid_auto_flow": null,
            "grid_auto_rows": null,
            "grid_column": null,
            "grid_gap": null,
            "grid_row": null,
            "grid_template_areas": null,
            "grid_template_columns": null,
            "grid_template_rows": null,
            "height": null,
            "justify_content": null,
            "justify_items": null,
            "left": null,
            "margin": null,
            "max_height": null,
            "max_width": null,
            "min_height": null,
            "min_width": null,
            "object_fit": null,
            "object_position": null,
            "order": null,
            "overflow": null,
            "overflow_x": null,
            "overflow_y": null,
            "padding": null,
            "right": null,
            "top": null,
            "visibility": null,
            "width": null
          }
        },
        "e3820a6f4415440db9cbf802c0c34806": {
          "model_module": "@jupyter-widgets/base",
          "model_name": "LayoutModel",
          "model_module_version": "1.2.0",
          "state": {
            "_model_module": "@jupyter-widgets/base",
            "_model_module_version": "1.2.0",
            "_model_name": "LayoutModel",
            "_view_count": null,
            "_view_module": "@jupyter-widgets/base",
            "_view_module_version": "1.2.0",
            "_view_name": "LayoutView",
            "align_content": null,
            "align_items": null,
            "align_self": null,
            "border": null,
            "bottom": null,
            "display": null,
            "flex": null,
            "flex_flow": null,
            "grid_area": null,
            "grid_auto_columns": null,
            "grid_auto_flow": null,
            "grid_auto_rows": null,
            "grid_column": null,
            "grid_gap": null,
            "grid_row": null,
            "grid_template_areas": null,
            "grid_template_columns": null,
            "grid_template_rows": null,
            "height": null,
            "justify_content": null,
            "justify_items": null,
            "left": null,
            "margin": null,
            "max_height": null,
            "max_width": null,
            "min_height": null,
            "min_width": null,
            "object_fit": null,
            "object_position": null,
            "order": null,
            "overflow": null,
            "overflow_x": null,
            "overflow_y": null,
            "padding": null,
            "right": null,
            "top": null,
            "visibility": null,
            "width": null
          }
        },
        "595631a625a5407295e0d789716162f6": {
          "model_module": "@jupyter-widgets/controls",
          "model_name": "DescriptionStyleModel",
          "model_module_version": "1.5.0",
          "state": {
            "_model_module": "@jupyter-widgets/controls",
            "_model_module_version": "1.5.0",
            "_model_name": "DescriptionStyleModel",
            "_view_count": null,
            "_view_module": "@jupyter-widgets/base",
            "_view_module_version": "1.2.0",
            "_view_name": "StyleView",
            "description_width": ""
          }
        },
        "5b49ff0b326642d6b812ff5c8adc4319": {
          "model_module": "@jupyter-widgets/base",
          "model_name": "LayoutModel",
          "model_module_version": "1.2.0",
          "state": {
            "_model_module": "@jupyter-widgets/base",
            "_model_module_version": "1.2.0",
            "_model_name": "LayoutModel",
            "_view_count": null,
            "_view_module": "@jupyter-widgets/base",
            "_view_module_version": "1.2.0",
            "_view_name": "LayoutView",
            "align_content": null,
            "align_items": null,
            "align_self": null,
            "border": null,
            "bottom": null,
            "display": null,
            "flex": null,
            "flex_flow": null,
            "grid_area": null,
            "grid_auto_columns": null,
            "grid_auto_flow": null,
            "grid_auto_rows": null,
            "grid_column": null,
            "grid_gap": null,
            "grid_row": null,
            "grid_template_areas": null,
            "grid_template_columns": null,
            "grid_template_rows": null,
            "height": null,
            "justify_content": null,
            "justify_items": null,
            "left": null,
            "margin": null,
            "max_height": null,
            "max_width": null,
            "min_height": null,
            "min_width": null,
            "object_fit": null,
            "object_position": null,
            "order": null,
            "overflow": null,
            "overflow_x": null,
            "overflow_y": null,
            "padding": null,
            "right": null,
            "top": null,
            "visibility": null,
            "width": null
          }
        },
        "022cd49bf3a8444d8d8cb18ae5073d51": {
          "model_module": "@jupyter-widgets/controls",
          "model_name": "ProgressStyleModel",
          "model_module_version": "1.5.0",
          "state": {
            "_model_module": "@jupyter-widgets/controls",
            "_model_module_version": "1.5.0",
            "_model_name": "ProgressStyleModel",
            "_view_count": null,
            "_view_module": "@jupyter-widgets/base",
            "_view_module_version": "1.2.0",
            "_view_name": "StyleView",
            "bar_color": null,
            "description_width": ""
          }
        },
        "716867ed109b489f9b63e70df76cd432": {
          "model_module": "@jupyter-widgets/base",
          "model_name": "LayoutModel",
          "model_module_version": "1.2.0",
          "state": {
            "_model_module": "@jupyter-widgets/base",
            "_model_module_version": "1.2.0",
            "_model_name": "LayoutModel",
            "_view_count": null,
            "_view_module": "@jupyter-widgets/base",
            "_view_module_version": "1.2.0",
            "_view_name": "LayoutView",
            "align_content": null,
            "align_items": null,
            "align_self": null,
            "border": null,
            "bottom": null,
            "display": null,
            "flex": null,
            "flex_flow": null,
            "grid_area": null,
            "grid_auto_columns": null,
            "grid_auto_flow": null,
            "grid_auto_rows": null,
            "grid_column": null,
            "grid_gap": null,
            "grid_row": null,
            "grid_template_areas": null,
            "grid_template_columns": null,
            "grid_template_rows": null,
            "height": null,
            "justify_content": null,
            "justify_items": null,
            "left": null,
            "margin": null,
            "max_height": null,
            "max_width": null,
            "min_height": null,
            "min_width": null,
            "object_fit": null,
            "object_position": null,
            "order": null,
            "overflow": null,
            "overflow_x": null,
            "overflow_y": null,
            "padding": null,
            "right": null,
            "top": null,
            "visibility": null,
            "width": null
          }
        },
        "03a28ce6bdca475d976d5d2293285766": {
          "model_module": "@jupyter-widgets/controls",
          "model_name": "DescriptionStyleModel",
          "model_module_version": "1.5.0",
          "state": {
            "_model_module": "@jupyter-widgets/controls",
            "_model_module_version": "1.5.0",
            "_model_name": "DescriptionStyleModel",
            "_view_count": null,
            "_view_module": "@jupyter-widgets/base",
            "_view_module_version": "1.2.0",
            "_view_name": "StyleView",
            "description_width": ""
          }
        }
      }
    },
    "accelerator": "GPU"
  },
  "cells": [
    {
      "cell_type": "markdown",
      "metadata": {
        "id": "view-in-github",
        "colab_type": "text"
      },
      "source": [
        "<a href=\"https://colab.research.google.com/github/DataBytes-Organisation/Fine-Tuning-LLMs-for-Enterprise-Applications/blob/ed_branch/Ed_LLM_FineTuning.ipynb\" target=\"_parent\"><img src=\"https://colab.research.google.com/assets/colab-badge.svg\" alt=\"Open In Colab\"/></a>"
      ]
    },
    {
      "cell_type": "markdown",
      "source": [
        "# Personalized Healthcare QA System (Chatbot)\n",
        "#### Ed:215279167\n",
        "---\n",
        "### Objective:\n",
        "Develop a healthcare chatbot that answers patient inquiries on medications, symptoms, and  treatments while reducing hallucinations.\n",
        "\n",
        "### Datasets:\n",
        "* MedicineQuAD – Medication-focused QA dataset.\n",
        "* MedQA (USMLE) – Medical board exam Q&A.\n",
        "* PubMedQA – Biomedical QA dataset.\n",
        "\n",
        "### Task Breakdown:\n",
        "1. Train models on medical QA datasets.\n",
        "2. Fine-tune for patient-friendly responses (simplified, clear language).\n",
        "3. Ensure context-aware, regulatory-compliant answers:  \n",
        "o Implement FDA/TGA guideline alignment.\n",
        "o Develop a retrieval-based validation for generated answers.\n",
        "4. Deploy as a chatbot interface (React-based UI + API integration).\n",
        "5. Implement real-time fact-checking:  \n",
        "o Confidence score visualization (green = high confidence, yellow = medium, red = low\n",
        "confidence).\n",
        "o Integration with PubMed and trusted medical sources.\n",
        "\n",
        "### Models to Use:\n",
        "• Llama-2 7B, Llama-2 13B, Falcon 7B, Mistral 7B, Mistral 8×7B, GPT-3.5-Turbo, Gemini Pro 1.0,\n",
        "Gemini 1.5 Pro, Gemini 1.5 Flash, Gemini 1.5 Flash 8B, Gemini 2.0 Flash Experimental, Flan\n",
        "T5 Large, Flan-T5 XL\n",
        "\n",
        "### Evaluation Metrics:\n",
        "* Medical factual accuracy (expert validation).\n",
        "* Answer clarity and patient-friendliness (user study assessment).\n",
        "* Trustworthiness Score (alignment with FDA/TGA guidelines)."
      ],
      "metadata": {
        "id": "PUb2oSz45XV4"
      }
    },
    {
      "cell_type": "markdown",
      "source": [
        "---\n",
        "### 1. Import libraries and model to prepaare for fine tuning"
      ],
      "metadata": {
        "id": "7C8_1rPk-OkG"
      }
    },
    {
      "cell_type": "code",
      "execution_count": 1,
      "metadata": {
        "id": "KqaBKB9e4Vhe"
      },
      "outputs": [],
      "source": [
        "from google.colab import userdata\n",
        "from huggingface_hub import login\n",
        "from transformers import AutoTokenizer\n",
        "import transformers\n",
        "import torch"
      ]
    },
    {
      "cell_type": "code",
      "source": [
        "# using hugging face to download model\n",
        "hf_token = userdata.get('HF_TOKEN')\n",
        "login(hf_token, add_to_git_credential=True)"
      ],
      "metadata": {
        "id": "K8r6Ypk6_x0S"
      },
      "execution_count": 2,
      "outputs": []
    },
    {
      "cell_type": "code",
      "source": [
        "model = \"meta-llama/Llama-2-7b-chat-hf\""
      ],
      "metadata": {
        "id": "N4wnNrTyAJKX"
      },
      "execution_count": 3,
      "outputs": []
    },
    {
      "cell_type": "code",
      "source": [
        "# initialise tokenizer and pipeline\n",
        "tokenizer = AutoTokenizer.from_pretrained(model, token=hf_token)\n",
        "\n",
        "pipeline = transformers.pipeline(\n",
        "    \"text-generation\",\n",
        "    model=model,\n",
        "    torch_dtype=torch.float16,\n",
        "    device_map=\"auto\",\n",
        ")"
      ],
      "metadata": {
        "colab": {
          "base_uri": "https://localhost:8080/",
          "height": 66,
          "referenced_widgets": [
            "4977e103a6414d1b9f08a33b74e23f3e",
            "295417c18bea4dacb52601cb6d5ff958",
            "c8f54cac6e7b40bd8b0f226f18b1423b",
            "002ac720559541d28f5e98cdb83c3c54",
            "8abcd3039ae7402abfece19cab774311",
            "e3820a6f4415440db9cbf802c0c34806",
            "595631a625a5407295e0d789716162f6",
            "5b49ff0b326642d6b812ff5c8adc4319",
            "022cd49bf3a8444d8d8cb18ae5073d51",
            "716867ed109b489f9b63e70df76cd432",
            "03a28ce6bdca475d976d5d2293285766"
          ]
        },
        "id": "xJK_xYZlCUbj",
        "outputId": "0d475e83-20b2-4cc1-c845-f79d0b9d000b"
      },
      "execution_count": 4,
      "outputs": [
        {
          "output_type": "display_data",
          "data": {
            "text/plain": [
              "Loading checkpoint shards:   0%|          | 0/2 [00:00<?, ?it/s]"
            ],
            "application/vnd.jupyter.widget-view+json": {
              "version_major": 2,
              "version_minor": 0,
              "model_id": "4977e103a6414d1b9f08a33b74e23f3e"
            }
          },
          "metadata": {}
        },
        {
          "output_type": "stream",
          "name": "stderr",
          "text": [
            "Device set to use cuda:0\n"
          ]
        }
      ]
    },
    {
      "cell_type": "code",
      "source": [
        "# prompt with test query to validate llm working\n",
        "sequences = pipeline(\n",
        "  \"\"\"\n",
        "  How can I get rid of the flu?\n",
        "  \"\"\",\n",
        "  do_sample=True,\n",
        "  top_k=10,\n",
        "  num_return_sequences=1,\n",
        "  eos_token_id=tokenizer.eos_token_id,\n",
        "  truncation=True,\n",
        "  max_length=300\n",
        ")\n",
        "\n",
        "for seq in sequences:\n",
        "    print(f\"Result: {seq['generated_text']}\")"
      ],
      "metadata": {
        "id": "EBCuhtaZKc-Z",
        "colab": {
          "base_uri": "https://localhost:8080/"
        },
        "outputId": "28a87727-49c0-48a5-f7de-5556df43457f"
      },
      "execution_count": 6,
      "outputs": [
        {
          "output_type": "stream",
          "name": "stdout",
          "text": [
            "Result: \n",
            "  How can I get rid of the flu?\n",
            "  \n",
            "  There are several ways to help get rid of the flu, including:\n",
            "  \n",
            "  Over-the-counter medications: These medications can help relieve symptoms such as fever, headache, and body aches. They work by reducing the inflammation in the body and can help you feel better faster.\n",
            "  \n",
            "  Home remedies: There are several home remedies that can help get rid of the flu, such as drinking plenty of fluids, getting enough rest, and using a humidifier to help loosen congestion.\n",
            "  \n",
            "  Antiviral medications: These medications can help reduce the severity and duration of the flu by targeting the virus itself. They are most effective when started within the first 48 hours of symptoms.\n",
            "  \n",
            "  Rest: Getting plenty of rest can help your body fight off the flu virus.\n",
            "  \n",
            "  Staying hydrated: Drinking plenty of fluids can help thin out mucus and make it easier to breathe.\n",
            "  \n",
            "  Overall, the best way to get rid of the flu is to take a combination of these approaches.\n",
            "\n",
            "\n"
          ]
        }
      ]
    },
    {
      "cell_type": "markdown",
      "source": [
        "### Implementation Strategy\n",
        "1. **Fine-Tuning Approach**\n",
        "* Use Supervised Fine-Tuning (SFT) and LoRA for efficient training.\n",
        "* Train each model separately, evaluating before and after fine-tuning.\n",
        "2. **Dataset Preprocessing**\n",
        "* Tokenization & data augmentation for question-answer pairs.\n",
        "* Alignment filtering to remove conflicting data.\n",
        "3. **Model Training Pipeline**\n",
        "* Step 1: Train models with pre-existing medical QA datasets.\n",
        "* Step 2: Implement LoRA-based fine-tuning to inject domain-specific expertise.\n",
        "* Step 3: Evaluate hallucination/misinformation rates pre- and post-fine-tuning.\n",
        "* Step 4: Deploy chatbot interface for real-time healthcare QA.\n",
        "4. **Chatbot Deployment for Personalized Healthcare QA**\n",
        "* Frontend: React-based UI.\n",
        "* Backend: Flask/FastAPI + model hosting on cloud GPUs.\n",
        "* Integration: Fact-checking module with real-time verification.\n",
        "* Confidence Display: Answers are color-coded based on accuracy scores."
      ],
      "metadata": {
        "id": "vqcpEQUh6kuV"
      }
    },
    {
      "cell_type": "code",
      "source": [],
      "metadata": {
        "id": "9tigpUr27IbZ"
      },
      "execution_count": null,
      "outputs": []
    },
    {
      "cell_type": "markdown",
      "source": [
        "### Expected Outcomes\n",
        "AI-Powered Healthcare Chatbot:\n",
        "* Patient-friendly responses with regulatory compliance.\n",
        "* Real-time fact-checking for accurate health guidance."
      ],
      "metadata": {
        "id": "vZOxK5xU7Lzx"
      }
    },
    {
      "cell_type": "code",
      "source": [],
      "metadata": {
        "id": "4t6dfvE87fv_"
      },
      "execution_count": null,
      "outputs": []
    },
    {
      "cell_type": "markdown",
      "source": [
        "### Data Selection and Training Strategy\n",
        "Datasets Suggested:\n",
        "* MedicineQuAD – Medication-focused QA dataset.\n",
        "* MedQA (USMLE) – Medical board exam Q&A dataset.\n",
        "* PubMedQA – Biomedical QA dataset.\n",
        "* MedDialog – Doctor-patient conversation dataset.\n",
        "\n",
        "Training Strategy:\n",
        "Use different datasets for different chatbot functions:\n",
        "* For general medical QA → Use MedQA + PubMedQA.\n",
        "* For medication-specific queries → Use MedicineQuAD.\n",
        "* For conversational style training → Use MedDialog.\n",
        "\n",
        "Why?\n",
        "* MedDialog fine-tunes the chatbot’s conversational style.\n",
        "* MedQA and PubMedQA ensure medical factual accuracy.\n",
        "* MedicineQuAD specializes in pharmaceutical knowledge.\n",
        "➡ Recommendation:\n",
        "\n",
        "Use all datasets, but weight them differently:\n",
        "* Core Training: MedQA + MedicineQuAD.\n",
        "* Evaluation: PubMedQA + MedDialog."
      ],
      "metadata": {
        "id": "AQno8ues7sgG"
      }
    },
    {
      "cell_type": "code",
      "source": [],
      "metadata": {
        "id": "BDQE4RP77ukr"
      },
      "execution_count": null,
      "outputs": []
    }
  ]
}