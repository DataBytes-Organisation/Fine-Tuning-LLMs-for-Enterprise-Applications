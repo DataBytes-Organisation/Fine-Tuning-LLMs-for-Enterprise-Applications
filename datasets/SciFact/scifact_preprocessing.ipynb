{
 "cells": [
  {
   "cell_type": "markdown",
   "metadata": {},
   "source": [
    "# SciFact Dataset Exploration and Preprocessing\n",
    "**Manusha Fernando | S223259359 | s223259359@deakin.edu.au**"
   ]
  },
  {
   "cell_type": "code",
   "execution_count": 1,
   "metadata": {},
   "outputs": [
    {
     "name": "stdout",
     "output_type": "stream",
     "text": [
      "Train shape: (809, 4)\n",
      "Dev shape: (300, 4)\n",
      "Test shape: (300, 2)\n",
      "Corpus shape: (5183, 4)\n",
      "\n",
      "Train columns: ['id', 'claim', 'evidence', 'cited_doc_ids']\n",
      "Dev columns: ['id', 'claim', 'evidence', 'cited_doc_ids']\n",
      "Test columns: ['id', 'claim']\n",
      "Corpus columns: ['doc_id', 'title', 'abstract', 'structured']\n"
     ]
    }
   ],
   "source": [
    "import numpy as np\n",
    "import matplotlib.pyplot as plt\n",
    "import pandas as pd\n",
    "\n",
    "# Importing the dataset\n",
    "dev_data = pd.read_json('claims_dev.jsonl', lines=True)\n",
    "test_data = pd.read_json('claims_test.jsonl', lines=True)\n",
    "train_data = pd.read_json('claims_train.jsonl', lines=True)\n",
    "corpus = pd.read_json('corpus.jsonl', lines=True)\n",
    "\n",
    "# Check shape\n",
    "print(\"Train shape:\", train_data.shape)\n",
    "print(\"Dev shape:\", dev_data.shape)\n",
    "print(\"Test shape:\", test_data.shape)\n",
    "print(\"Corpus shape:\", corpus.shape)\n",
    "\n",
    "# Check columns\n",
    "print(\"\\nTrain columns:\", train_data.columns.tolist())\n",
    "print(\"Dev columns:\", dev_data.columns.tolist())\n",
    "print(\"Test columns:\", test_data.columns.tolist())\n",
    "print(\"Corpus columns:\", corpus.columns.tolist())"
   ]
  },
  {
   "cell_type": "code",
   "execution_count": 2,
   "metadata": {},
   "outputs": [
    {
     "name": "stdout",
     "output_type": "stream",
     "text": [
      "\n",
      "Train missing values: 0\n",
      "Dev missing values: 0\n",
      "Test missing values: 0\n",
      "Corpus missing values: 0\n"
     ]
    }
   ],
   "source": [
    "# Check for missing values\n",
    "print(\"\\nTrain missing values:\", train_data.isnull().sum().sum())\n",
    "print(\"Dev missing values:\", dev_data.isnull().sum().sum())\n",
    "print(\"Test missing values:\", test_data.isnull().sum().sum())\n",
    "print(\"Corpus missing values:\", corpus.isnull().sum().sum())"
   ]
  },
  {
   "cell_type": "code",
   "execution_count": 3,
   "metadata": {},
   "outputs": [
    {
     "name": "stdout",
     "output_type": "stream",
     "text": [
      "\n",
      "Sample with evidence:\n"
     ]
    },
    {
     "data": {
      "text/html": [
       "<div>\n",
       "<style scoped>\n",
       "    .dataframe tbody tr th:only-of-type {\n",
       "        vertical-align: middle;\n",
       "    }\n",
       "\n",
       "    .dataframe tbody tr th {\n",
       "        vertical-align: top;\n",
       "    }\n",
       "\n",
       "    .dataframe thead th {\n",
       "        text-align: right;\n",
       "    }\n",
       "</style>\n",
       "<table border=\"1\" class=\"dataframe\">\n",
       "  <thead>\n",
       "    <tr style=\"text-align: right;\">\n",
       "      <th></th>\n",
       "      <th>id</th>\n",
       "      <th>claim</th>\n",
       "      <th>evidence</th>\n",
       "      <th>cited_doc_ids</th>\n",
       "    </tr>\n",
       "  </thead>\n",
       "  <tbody>\n",
       "    <tr>\n",
       "      <th>1</th>\n",
       "      <td>2</td>\n",
       "      <td>1 in 5 million in UK have abnormal PrP positiv...</td>\n",
       "      <td>{'13734012': [{'sentences': [4], 'label': 'CON...</td>\n",
       "      <td>[13734012]</td>\n",
       "    </tr>\n",
       "    <tr>\n",
       "      <th>4</th>\n",
       "      <td>9</td>\n",
       "      <td>32% of liver transplantation programs required...</td>\n",
       "      <td>{'44265107': [{'sentences': [15], 'label': 'SU...</td>\n",
       "      <td>[44265107]</td>\n",
       "    </tr>\n",
       "  </tbody>\n",
       "</table>\n",
       "</div>"
      ],
      "text/plain": [
       "   id                                              claim  \\\n",
       "1   2  1 in 5 million in UK have abnormal PrP positiv...   \n",
       "4   9  32% of liver transplantation programs required...   \n",
       "\n",
       "                                            evidence cited_doc_ids  \n",
       "1  {'13734012': [{'sentences': [4], 'label': 'CON...    [13734012]  \n",
       "4  {'44265107': [{'sentences': [15], 'label': 'SU...    [44265107]  "
      ]
     },
     "metadata": {},
     "output_type": "display_data"
    },
    {
     "name": "stdout",
     "output_type": "stream",
     "text": [
      "\n",
      "Sample with NO evidence:\n"
     ]
    },
    {
     "data": {
      "text/html": [
       "<div>\n",
       "<style scoped>\n",
       "    .dataframe tbody tr th:only-of-type {\n",
       "        vertical-align: middle;\n",
       "    }\n",
       "\n",
       "    .dataframe tbody tr th {\n",
       "        vertical-align: top;\n",
       "    }\n",
       "\n",
       "    .dataframe thead th {\n",
       "        text-align: right;\n",
       "    }\n",
       "</style>\n",
       "<table border=\"1\" class=\"dataframe\">\n",
       "  <thead>\n",
       "    <tr style=\"text-align: right;\">\n",
       "      <th></th>\n",
       "      <th>id</th>\n",
       "      <th>claim</th>\n",
       "      <th>evidence</th>\n",
       "      <th>cited_doc_ids</th>\n",
       "    </tr>\n",
       "  </thead>\n",
       "  <tbody>\n",
       "    <tr>\n",
       "      <th>0</th>\n",
       "      <td>0</td>\n",
       "      <td>0-dimensional biomaterials lack inductive prop...</td>\n",
       "      <td>{}</td>\n",
       "      <td>[31715818]</td>\n",
       "    </tr>\n",
       "    <tr>\n",
       "      <th>2</th>\n",
       "      <td>4</td>\n",
       "      <td>1-1% of colorectal cancer patients are diagnos...</td>\n",
       "      <td>{}</td>\n",
       "      <td>[22942787]</td>\n",
       "    </tr>\n",
       "  </tbody>\n",
       "</table>\n",
       "</div>"
      ],
      "text/plain": [
       "   id                                              claim evidence  \\\n",
       "0   0  0-dimensional biomaterials lack inductive prop...       {}   \n",
       "2   4  1-1% of colorectal cancer patients are diagnos...       {}   \n",
       "\n",
       "  cited_doc_ids  \n",
       "0    [31715818]  \n",
       "2    [22942787]  "
      ]
     },
     "metadata": {},
     "output_type": "display_data"
    }
   ],
   "source": [
    "# View some sample entries with and without evidence\n",
    "train_data_with_evidence = train_data[train_data['evidence'].apply(bool)]\n",
    "train_data_no_evidence = train_data[~train_data['evidence'].apply(bool)]\n",
    "\n",
    "print(\"\\nSample with evidence:\")\n",
    "display(train_data_with_evidence.head(2))\n",
    "\n",
    "print(\"\\nSample with NO evidence:\")\n",
    "display(train_data_no_evidence.head(2))"
   ]
  },
  {
   "cell_type": "code",
   "execution_count": 4,
   "metadata": {},
   "outputs": [
    {
     "data": {
      "text/html": [
       "<div>\n",
       "<style scoped>\n",
       "    .dataframe tbody tr th:only-of-type {\n",
       "        vertical-align: middle;\n",
       "    }\n",
       "\n",
       "    .dataframe tbody tr th {\n",
       "        vertical-align: top;\n",
       "    }\n",
       "\n",
       "    .dataframe thead th {\n",
       "        text-align: right;\n",
       "    }\n",
       "</style>\n",
       "<table border=\"1\" class=\"dataframe\">\n",
       "  <thead>\n",
       "    <tr style=\"text-align: right;\">\n",
       "      <th></th>\n",
       "      <th>claim</th>\n",
       "      <th>evidence_text</th>\n",
       "      <th>label</th>\n",
       "    </tr>\n",
       "  </thead>\n",
       "  <tbody>\n",
       "    <tr>\n",
       "      <th>0</th>\n",
       "      <td>0-dimensional biomaterials lack inductive prop...</td>\n",
       "      <td></td>\n",
       "      <td>Misleading</td>\n",
       "    </tr>\n",
       "    <tr>\n",
       "      <th>1</th>\n",
       "      <td>1 in 5 million in UK have abnormal PrP positiv...</td>\n",
       "      <td>RESULTS Of the 32,441 appendix samples 16 were...</td>\n",
       "      <td>False</td>\n",
       "    </tr>\n",
       "    <tr>\n",
       "      <th>2</th>\n",
       "      <td>1-1% of colorectal cancer patients are diagnos...</td>\n",
       "      <td></td>\n",
       "      <td>Misleading</td>\n",
       "    </tr>\n",
       "    <tr>\n",
       "      <th>3</th>\n",
       "      <td>10% of sudden infant death syndrome (SIDS) dea...</td>\n",
       "      <td></td>\n",
       "      <td>Misleading</td>\n",
       "    </tr>\n",
       "    <tr>\n",
       "      <th>4</th>\n",
       "      <td>32% of liver transplantation programs required...</td>\n",
       "      <td>Policies requiring discontinuation of methadon...</td>\n",
       "      <td>True</td>\n",
       "    </tr>\n",
       "  </tbody>\n",
       "</table>\n",
       "</div>"
      ],
      "text/plain": [
       "                                               claim  \\\n",
       "0  0-dimensional biomaterials lack inductive prop...   \n",
       "1  1 in 5 million in UK have abnormal PrP positiv...   \n",
       "2  1-1% of colorectal cancer patients are diagnos...   \n",
       "3  10% of sudden infant death syndrome (SIDS) dea...   \n",
       "4  32% of liver transplantation programs required...   \n",
       "\n",
       "                                       evidence_text       label  \n",
       "0                                                     Misleading  \n",
       "1  RESULTS Of the 32,441 appendix samples 16 were...       False  \n",
       "2                                                     Misleading  \n",
       "3                                                     Misleading  \n",
       "4  Policies requiring discontinuation of methadon...        True  "
      ]
     },
     "execution_count": 4,
     "metadata": {},
     "output_type": "execute_result"
    }
   ],
   "source": [
    "# Create a lookup from doc_id to abstract (joined text)\n",
    "corpus_lookup = {\n",
    "    str(row['doc_id']): row['abstract'] for _, row in corpus.iterrows()\n",
    "}\n",
    "\n",
    "# Function to extract label and evidence text\n",
    "def extract_3class_examples(df):\n",
    "    examples = []\n",
    "    for _, row in df.iterrows():\n",
    "        claim = row['claim']\n",
    "        evidence = row['evidence']\n",
    "        \n",
    "        if not evidence:\n",
    "            examples.append({\n",
    "                'claim': claim,\n",
    "                'evidence_text': \"\",\n",
    "                'label': \"Misleading\"\n",
    "            })\n",
    "            continue\n",
    "        \n",
    "        for doc_id, annotations in evidence.items():\n",
    "            abstract = corpus_lookup.get(doc_id)\n",
    "            if not abstract:\n",
    "                continue\n",
    "            for ann in annotations:\n",
    "                label_raw = ann.get('label', '').upper()\n",
    "                if label_raw == \"SUPPORT\":\n",
    "                    label = \"True\"\n",
    "                elif label_raw == \"CONTRADICT\":\n",
    "                    label = \"False\"\n",
    "                else:\n",
    "                    continue  # skip unknown labels\n",
    "\n",
    "                sent_indices = ann.get('sentences', [])\n",
    "                evidence_text = \" \".join(\n",
    "                    abstract[i] for i in sent_indices if i < len(abstract)\n",
    "                )\n",
    "\n",
    "                examples.append({\n",
    "                    'claim': claim,\n",
    "                    'evidence_text': evidence_text,\n",
    "                    'label': label\n",
    "                })\n",
    "    return pd.DataFrame(examples)\n",
    "\n",
    "# Create 3-class datasets\n",
    "train_3class = extract_3class_examples(train_data)\n",
    "dev_3class = extract_3class_examples(dev_data)\n",
    "\n",
    "# Preview\n",
    "train_3class.head()"
   ]
  },
  {
   "cell_type": "code",
   "execution_count": 9,
   "metadata": {},
   "outputs": [
    {
     "data": {
      "image/png": "[encoded data removed]",
      "text/plain": [
       "<Figure size 600x400 with 1 Axes>"
      ]
     },
     "metadata": {},
     "output_type": "display_data"
    },
    {
     "data": {
      "image/png": "[encoded data removed]",
      "text/plain": [
       "<Figure size 600x400 with 1 Axes>"
      ]
     },
     "metadata": {},
     "output_type": "display_data"
    }
   ],
   "source": [
    "import matplotlib.pyplot as plt\n",
    "import seaborn as sns\n",
    "\n",
    "# Set up consistent style\n",
    "sns.set(style=\"whitegrid\")\n",
    "plt.rcParams['figure.figsize'] = (6, 4)\n",
    "\n",
    "# Plot label distribution\n",
    "def plot_label_distribution(df, title):\n",
    "    ax = sns.countplot(data=df, x='label', hue='label', palette='Set2', legend=False)\n",
    "    plt.title(title)\n",
    "    plt.xlabel('Label')\n",
    "    plt.ylabel('Count')\n",
    "\n",
    "    # Add count labels on top of bars\n",
    "    for p in ax.patches:\n",
    "        height = int(p.get_height())\n",
    "        ax.annotate(f'{height}', (p.get_x() + p.get_width() / 2., height),\n",
    "                    ha='center', va='bottom', fontsize=10)\n",
    "\n",
    "    plt.show()\n",
    "\n",
    "# Plot train and dev\n",
    "plot_label_distribution(train_3class, \"Label Distribution - Train Set\")\n",
    "plot_label_distribution(dev_3class, \"Label Distribution - Dev Set\")"
   ]
  },
  {
   "cell_type": "code",
   "execution_count": 7,
   "metadata": {},
   "outputs": [
    {
     "name": "stdout",
     "output_type": "stream",
     "text": [
      "Saved train_3class.jsonl\n",
      "Saved dev_3class.jsonl\n"
     ]
    }
   ],
   "source": [
    "# Save the datasets as JSONL\n",
    "train_3class.to_json('train_3class.jsonl', orient='records', lines=True)\n",
    "print(\"Saved train_3class.jsonl\")\n",
    "dev_3class.to_json('dev_3class.jsonl', orient='records', lines=True)\n",
    "print(\"Saved dev_3class.jsonl\")"
   ]
  }
 ],
 "metadata": {
  "kernelspec": {
   "display_name": "base",
   "language": "python",
   "name": "python3"
  },
  "language_info": {
   "codemirror_mode": {
    "name": "ipython",
    "version": 3
   },
   "file_extension": ".py",
   "mimetype": "text/x-python",
   "name": "python",
   "nbconvert_exporter": "python",
   "pygments_lexer": "ipython3",
   "version": "3.12.4"
  }
 },
 "nbformat": 4,
 "nbformat_minor": 2
}
