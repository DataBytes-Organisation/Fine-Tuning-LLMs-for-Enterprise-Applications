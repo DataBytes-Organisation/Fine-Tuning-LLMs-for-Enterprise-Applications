{
 "cells": [
  {
   "cell_type": "markdown",
   "id": "096b39be",
   "metadata": {},
   "source": [
    "# Financial Risk Analysis FastAPI API\n",
    "\n",
    "This notebook contains the code and documentation for a FastAPI app that uses a fine-tuned causal language model to perform financial risk analysis from input text."
   ]
  },
  {
   "cell_type": "markdown",
   "id": "91bed001",
   "metadata": {},
   "source": [
    "## 1. Import Libraries"
   ]
  },
  {
   "cell_type": "code",
   "execution_count": null,
   "id": "7b65c3ae",
   "metadata": {},
   "outputs": [],
   "source": [
    "from fastapi import FastAPI\n",
    "from pydantic import BaseModel\n",
    "from transformers import AutoTokenizer, AutoModelForCausalLM\n",
    "import torch\n",
    "import time\n",
    "import os"
   ]
  },
  {
   "cell_type": "markdown",
   "id": "be568704",
   "metadata": {},
   "source": [
    "## 2. Setup Model Directory and Load Model & Tokenizer"
   ]
  },
  {
   "cell_type": "code",
   "execution_count": null,
   "id": "3ed70d2f",
   "metadata": {},
   "outputs": [],
   "source": [
    "# Resolve the absolute directory of the script and model path\n",
    "script_dir = os.path.dirname(os.path.abspath(__file__)) if '__file__' in globals() else os.getcwd()\n",
    "model_path = os.path.join(script_dir, \"mistral-combined-finetuned-weights\")\n",
    "\n",
    "# Load tokenizer and model locally from the specified folder\n",
    "tokenizer = AutoTokenizer.from_pretrained(model_path, local_files_only=True)\n",
    "model = AutoModelForCausalLM.from_pretrained(\n",
    "    model_path,\n",
    "    torch_dtype=torch.float16,\n",
    "    device_map=\"auto\",\n",
    "    local_files_only=True\n",
    ")\n",
    "model.eval()"
   ]
  },
  {
   "cell_type": "markdown",
   "id": "7a872e49",
   "metadata": {},
   "source": [
    "## 3. Initialize FastAPI App and Define Request Schema"
   ]
  },
  {
   "cell_type": "code",
   "execution_count": null,
   "id": "84aa101e",
   "metadata": {},
   "outputs": [],
   "source": [
    "# Initialize FastAPI app instance with a title\n",
    "app = FastAPI(title=\"Financial Risk Analysis API\")\n",
    "\n",
    "# Define the request schema using Pydantic for input validation\n",
    "class AnalysisRequest(BaseModel):\n",
    "    input_text: str                # Text to analyze for financial risk\n",
    "    max_new_tokens: int = 512     # Max tokens to generate (optional, default 512)\n",
    "    temperature: float = 0.7       # Sampling temperature for generation (optional)\n",
    "    top_p: float = 0.95            # Nucleus sampling probability (optional)\n"
   ]
  },
  {
   "cell_type": "markdown",
   "id": "83479745",
   "metadata": {},
   "source": [
    "## 4. Define Inference Function"
   ]
  },
  {
   "cell_type": "code",
   "execution_count": null,
   "id": "5cd7ef82",
   "metadata": {},
   "outputs": [],
   "source": [
    "def generate_analysis(input_data: str, max_new_tokens=512, temperature=0.7, top_p=0.95):\n",
    "    prompt = (\n",
    "        \"You are an expert financial risk analyst. Analyze the provided text for financial risks, \"\n",
    "        \"and output a structured assessment in JSON format including risk detection, specific risk flags, \"\n",
    "        \"financial exposure details, and analysis notes. \"\n",
    "        f\"{input_data}\"\n",
    "    )\n",
    "\n",
    "    inputs = tokenizer(prompt, return_tensors=\"pt\").to(model.device)\n",
    "\n",
    "    with torch.no_grad():\n",
    "        start = time.time()\n",
    "        outputs = model.generate(\n",
    "            **inputs,\n",
    "            max_new_tokens=max_new_tokens,\n",
    "            do_sample=True,\n",
    "            temperature=temperature,\n",
    "            top_p=top_p,\n",
    "            pad_token_id=tokenizer.eos_token_id\n",
    "        )\n",
    "        end = time.time()\n",
    "\n",
    "    result = tokenizer.decode(outputs[0], skip_special_tokens=True)\n",
    "    print(f\"\\n⏱️ Generation time: {end - start:.2f} seconds\")\n",
    "    return result\n"
   ]
  },
  {
   "cell_type": "markdown",
   "id": "66c4fa4b",
   "metadata": {},
   "source": [
    "## 5. Define API Endpoint"
   ]
  },
  {
   "cell_type": "code",
   "execution_count": null,
   "id": "0495e66c",
   "metadata": {},
   "outputs": [],
   "source": [
    "@app.post(\"/analyze\")\n",
    "def analyze_risk(request: AnalysisRequest):\n",
    "    output = generate_analysis(\n",
    "        input_data=request.input_text,\n",
    "        max_new_tokens=request.max_new_tokens,\n",
    "        temperature=request.temperature,\n",
    "        top_p=request.top_p\n",
    "    )\n",
    "    return {\"analysis\": output}\n"
   ]
  },
  {
   "cell_type": "markdown",
   "id": "83552fb3",
   "metadata": {},
   "source": [
    "## 6. Usage Instructions\n",
    "\n",
    "### Start the server (run in terminal):\n",
    "```bash\n",
    "uvicorn Daniel Gan.main:app --reload --host 0.0.0.0 --port 8000\n",
    "```\n",
    "\n",
    "### Make a POST request (example with curl):\n",
    "```bash\n",
    "curl -X POST \"http://localhost:8000/analyze\" -H \"Content-Type: application/json\" -d '{\n",
    "  \"input_text\": \"The company faces liquidity risks due to recent market volatility.\",\n",
    "  \"max_new_tokens\": 256,\n",
    "  \"temperature\": 0.7,\n",
    "  \"top_p\": 0.9\n",
    "}'\n",
    "```\n",
    "\n",
    "### Or using Python requests:\n",
    "```python\n",
    "import requests\n",
    "url = \"http://localhost:8000/analyze\"\n",
    "payload = {\n",
    "    \"input_text\": \"The company faces liquidity risks due to recent market volatility.\",\n",
    "    \"max_new_tokens\": 256,\n",
    "    \"temperature\": 0.7,\n",
    "    \"top_p\": 0.9\n",
    "}\n",
    "response = requests.post(url, json=payload)\n",
    "print(response.json()[\"analysis\"])\n",
    "```\n",
    "\n",
    "### Notes:\n",
    "- Ensure the model files are available locally in `mistral-combined-finetuned-weights` next to your script.\n",
    "- Adjust generation parameters to control the output.\n",
    "- The output is a JSON-formatted string describing detected financial risks.\n"
   ]
  }
 ],
 "metadata": {
  "language_info": {
   "name": "python"
  }
 },
 "nbformat": 4,
 "nbformat_minor": 5
}
