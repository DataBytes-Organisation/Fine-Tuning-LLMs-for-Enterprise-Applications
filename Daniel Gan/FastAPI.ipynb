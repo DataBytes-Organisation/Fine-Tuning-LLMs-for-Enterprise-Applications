{
 "cells": [
  {
   "cell_type": "code",
   "execution_count": 2,
   "id": "b56bcdf6",
   "metadata": {},
   "outputs": [
    {
     "name": "stderr",
     "output_type": "stream",
     "text": [
      "c:\\Users\\danie\\AppData\\Local\\Programs\\Python\\Python39\\lib\\site-packages\\accelerate\\utils\\modeling.py:1569: UserWarning: Current model requires 128 bytes of buffer for offloaded layers, which seems does not fit any GPU's remaining memory. If you are experiencing a OOM later, please consider using offload_buffers=True.\n",
      "  warnings.warn(\n"
     ]
    },
    {
     "data": {
      "application/vnd.jupyter.widget-view+json": {
       "model_id": "b313ef36952945ec9268d7276f976ff0",
       "version_major": 2,
       "version_minor": 0
      },
      "text/plain": [
       "Loading checkpoint shards:   0%|          | 0/3 [00:00<?, ?it/s]"
      ]
     },
     "metadata": {},
     "output_type": "display_data"
    },
    {
     "name": "stderr",
     "output_type": "stream",
     "text": [
      "Some parameters are on the meta device because they were offloaded to the cpu and disk.\n"
     ]
    }
   ],
   "source": [
    "from fastapi import FastAPI\n",
    "from pydantic import BaseModel\n",
    "from transformers import AutoTokenizer, AutoModelForCausalLM\n",
    "import torch\n",
    "import time\n",
    "\n",
    "model_path = \"./mistral-combined-finetuned-weights\"\n",
    "\n",
    "tokenizer = AutoTokenizer.from_pretrained(model_path, local_files_only=True)\n",
    "model = AutoModelForCausalLM.from_pretrained(\n",
    "    model_path,\n",
    "    torch_dtype=torch.float16,\n",
    "    device_map=\"auto\",\n",
    "    local_files_only=True\n",
    ")\n",
    "model.eval()\n",
    "\n",
    "# Initialize FastAPI\n",
    "app = FastAPI(title=\"Financial Risk Analysis API\")\n",
    "\n",
    "# Define request schema\n",
    "class AnalysisRequest(BaseModel):\n",
    "    input_text: str\n",
    "    max_new_tokens: int = 512\n",
    "    temperature: float = 0.7\n",
    "    top_p: float = 0.95\n",
    "\n",
    "# Define your inference function\n",
    "def generate_analysis(input_data: str, max_new_tokens=512, temperature=0.7, top_p=0.95):\n",
    "    prompt = (\n",
    "        \"You are an expert financial risk analyst. Analyze the provided text for financial risks, \"\n",
    "        \"and output a structured assessment in JSON format including risk detection, specific risk flags, \"\n",
    "        \"financial exposure details, and analysis notes. \"\n",
    "        f\"{input_data}\"\n",
    "    )\n",
    "\n",
    "    inputs = tokenizer(prompt, return_tensors=\"pt\").to(model.device)\n",
    "\n",
    "    with torch.no_grad():\n",
    "        start = time.time()\n",
    "        outputs = model.generate(\n",
    "            **inputs,\n",
    "            max_new_tokens=max_new_tokens,\n",
    "            do_sample=True,\n",
    "            temperature=temperature,\n",
    "            top_p=top_p,\n",
    "            pad_token_id=tokenizer.eos_token_id\n",
    "        )\n",
    "        end = time.time()\n",
    "\n",
    "    result = tokenizer.decode(outputs[0], skip_special_tokens=True)\n",
    "    print(f\"\\n⏱️ Generation time: {end - start:.2f} seconds\")\n",
    "    return result\n",
    "\n",
    "# Define the endpoint\n",
    "@app.post(\"/analyze\")\n",
    "def analyze_risk(request: AnalysisRequest):\n",
    "    output = generate_analysis(\n",
    "        input_data=request.input_text,\n",
    "        max_new_tokens=request.max_new_tokens,\n",
    "        temperature=request.temperature,\n",
    "        top_p=request.top_p\n",
    "    )\n",
    "    return {\"analysis\": output}\n"
   ]
  },
  {
   "cell_type": "markdown",
   "id": "be225fb3",
   "metadata": {},
   "source": [
    "uvicorn main:app --reload --host 0.0.0.0 --port 8000"
   ]
  }
 ],
 "metadata": {
  "kernelspec": {
   "display_name": "Python 3",
   "language": "python",
   "name": "python3"
  },
  "language_info": {
   "codemirror_mode": {
    "name": "ipython",
    "version": 3
   },
   "file_extension": ".py",
   "mimetype": "text/x-python",
   "name": "python",
   "nbconvert_exporter": "python",
   "pygments_lexer": "ipython3",
   "version": "3.9.7"
  }
 },
 "nbformat": 4,
 "nbformat_minor": 5
}
