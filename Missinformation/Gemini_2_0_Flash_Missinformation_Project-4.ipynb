{
  "nbformat": 4,
  "nbformat_minor": 0,
  "metadata": {
    "colab": {
      "provenance": [],
      "gpuType": "T4",
      "cell_execution_strategy": "setup"
    },
    "kernelspec": {
      "name": "python3",
      "display_name": "Python 3"
    },
    "language_info": {
      "name": "python"
    },
    "accelerator": "GPU",
    "widgets": {
      "application/vnd.jupyter.widget-state+json": {
        "769fc8b20e334397b559ed8783c93a83": {
          "model_module": "@jupyter-widgets/controls",
          "model_name": "HBoxModel",
          "model_module_version": "1.5.0",
          "state": {
            "_dom_classes": [],
            "_model_module": "@jupyter-widgets/controls",
            "_model_module_version": "1.5.0",
            "_model_name": "HBoxModel",
            "_view_count": null,
            "_view_module": "@jupyter-widgets/controls",
            "_view_module_version": "1.5.0",
            "_view_name": "HBoxView",
            "box_style": "",
            "children": [
              "IPY_MODEL_3ced7224cfce4c95841e632c0d3f3209",
              "IPY_MODEL_7069fff76c6e4f68a881445c9cfcaa89",
              "IPY_MODEL_27fd6b81d93d4a49b5645f9e873c164c"
            ],
            "layout": "IPY_MODEL_63b6d5f706354198896c69e676ee1425"
          }
        },
        "3ced7224cfce4c95841e632c0d3f3209": {
          "model_module": "@jupyter-widgets/controls",
          "model_name": "HTMLModel",
          "model_module_version": "1.5.0",
          "state": {
            "_dom_classes": [],
            "_model_module": "@jupyter-widgets/controls",
            "_model_module_version": "1.5.0",
            "_model_name": "HTMLModel",
            "_view_count": null,
            "_view_module": "@jupyter-widgets/controls",
            "_view_module_version": "1.5.0",
            "_view_name": "HTMLView",
            "description": "",
            "description_tooltip": null,
            "layout": "IPY_MODEL_bb5598422d04422286c7518ca5f27cd9",
            "placeholder": "​",
            "style": "IPY_MODEL_23b921efb1a143a08d45bf542eefb7be",
            "value": "tokenizer_config.json: 100%"
          }
        },
        "7069fff76c6e4f68a881445c9cfcaa89": {
          "model_module": "@jupyter-widgets/controls",
          "model_name": "FloatProgressModel",
          "model_module_version": "1.5.0",
          "state": {
            "_dom_classes": [],
            "_model_module": "@jupyter-widgets/controls",
            "_model_module_version": "1.5.0",
            "_model_name": "FloatProgressModel",
            "_view_count": null,
            "_view_module": "@jupyter-widgets/controls",
            "_view_module_version": "1.5.0",
            "_view_name": "ProgressView",
            "bar_style": "success",
            "description": "",
            "description_tooltip": null,
            "layout": "IPY_MODEL_8ef9e59156524607b570488006e361b3",
            "max": 48,
            "min": 0,
            "orientation": "horizontal",
            "style": "IPY_MODEL_e533abf0e1c346738b21a5dc72a5da3b",
            "value": 48
          }
        },
        "27fd6b81d93d4a49b5645f9e873c164c": {
          "model_module": "@jupyter-widgets/controls",
          "model_name": "HTMLModel",
          "model_module_version": "1.5.0",
          "state": {
            "_dom_classes": [],
            "_model_module": "@jupyter-widgets/controls",
            "_model_module_version": "1.5.0",
            "_model_name": "HTMLModel",
            "_view_count": null,
            "_view_module": "@jupyter-widgets/controls",
            "_view_module_version": "1.5.0",
            "_view_name": "HTMLView",
            "description": "",
            "description_tooltip": null,
            "layout": "IPY_MODEL_93c1f91252134db49c0fc9ff56431999",
            "placeholder": "​",
            "style": "IPY_MODEL_a76c18125e804b839a1fc940ca8989de",
            "value": " 48.0/48.0 [00:00&lt;00:00, 4.89kB/s]"
          }
        },
        "63b6d5f706354198896c69e676ee1425": {
          "model_module": "@jupyter-widgets/base",
          "model_name": "LayoutModel",
          "model_module_version": "1.2.0",
          "state": {
            "_model_module": "@jupyter-widgets/base",
            "_model_module_version": "1.2.0",
            "_model_name": "LayoutModel",
            "_view_count": null,
            "_view_module": "@jupyter-widgets/base",
            "_view_module_version": "1.2.0",
            "_view_name": "LayoutView",
            "align_content": null,
            "align_items": null,
            "align_self": null,
            "border": null,
            "bottom": null,
            "display": null,
            "flex": null,
            "flex_flow": null,
            "grid_area": null,
            "grid_auto_columns": null,
            "grid_auto_flow": null,
            "grid_auto_rows": null,
            "grid_column": null,
            "grid_gap": null,
            "grid_row": null,
            "grid_template_areas": null,
            "grid_template_columns": null,
            "grid_template_rows": null,
            "height": null,
            "justify_content": null,
            "justify_items": null,
            "left": null,
            "margin": null,
            "max_height": null,
            "max_width": null,
            "min_height": null,
            "min_width": null,
            "object_fit": null,
            "object_position": null,
            "order": null,
            "overflow": null,
            "overflow_x": null,
            "overflow_y": null,
            "padding": null,
            "right": null,
            "top": null,
            "visibility": null,
            "width": null
          }
        },
        "bb5598422d04422286c7518ca5f27cd9": {
          "model_module": "@jupyter-widgets/base",
          "model_name": "LayoutModel",
          "model_module_version": "1.2.0",
          "state": {
            "_model_module": "@jupyter-widgets/base",
            "_model_module_version": "1.2.0",
            "_model_name": "LayoutModel",
            "_view_count": null,
            "_view_module": "@jupyter-widgets/base",
            "_view_module_version": "1.2.0",
            "_view_name": "LayoutView",
            "align_content": null,
            "align_items": null,
            "align_self": null,
            "border": null,
            "bottom": null,
            "display": null,
            "flex": null,
            "flex_flow": null,
            "grid_area": null,
            "grid_auto_columns": null,
            "grid_auto_flow": null,
            "grid_auto_rows": null,
            "grid_column": null,
            "grid_gap": null,
            "grid_row": null,
            "grid_template_areas": null,
            "grid_template_columns": null,
            "grid_template_rows": null,
            "height": null,
            "justify_content": null,
            "justify_items": null,
            "left": null,
            "margin": null,
            "max_height": null,
            "max_width": null,
            "min_height": null,
            "min_width": null,
            "object_fit": null,
            "object_position": null,
            "order": null,
            "overflow": null,
            "overflow_x": null,
            "overflow_y": null,
            "padding": null,
            "right": null,
            "top": null,
            "visibility": null,
            "width": null
          }
        },
        "23b921efb1a143a08d45bf542eefb7be": {
          "model_module": "@jupyter-widgets/controls",
          "model_name": "DescriptionStyleModel",
          "model_module_version": "1.5.0",
          "state": {
            "_model_module": "@jupyter-widgets/controls",
            "_model_module_version": "1.5.0",
            "_model_name": "DescriptionStyleModel",
            "_view_count": null,
            "_view_module": "@jupyter-widgets/base",
            "_view_module_version": "1.2.0",
            "_view_name": "StyleView",
            "description_width": ""
          }
        },
        "8ef9e59156524607b570488006e361b3": {
          "model_module": "@jupyter-widgets/base",
          "model_name": "LayoutModel",
          "model_module_version": "1.2.0",
          "state": {
            "_model_module": "@jupyter-widgets/base",
            "_model_module_version": "1.2.0",
            "_model_name": "LayoutModel",
            "_view_count": null,
            "_view_module": "@jupyter-widgets/base",
            "_view_module_version": "1.2.0",
            "_view_name": "LayoutView",
            "align_content": null,
            "align_items": null,
            "align_self": null,
            "border": null,
            "bottom": null,
            "display": null,
            "flex": null,
            "flex_flow": null,
            "grid_area": null,
            "grid_auto_columns": null,
            "grid_auto_flow": null,
            "grid_auto_rows": null,
            "grid_column": null,
            "grid_gap": null,
            "grid_row": null,
            "grid_template_areas": null,
            "grid_template_columns": null,
            "grid_template_rows": null,
            "height": null,
            "justify_content": null,
            "justify_items": null,
            "left": null,
            "margin": null,
            "max_height": null,
            "max_width": null,
            "min_height": null,
            "min_width": null,
            "object_fit": null,
            "object_position": null,
            "order": null,
            "overflow": null,
            "overflow_x": null,
            "overflow_y": null,
            "padding": null,
            "right": null,
            "top": null,
            "visibility": null,
            "width": null
          }
        },
        "e533abf0e1c346738b21a5dc72a5da3b": {
          "model_module": "@jupyter-widgets/controls",
          "model_name": "ProgressStyleModel",
          "model_module_version": "1.5.0",
          "state": {
            "_model_module": "@jupyter-widgets/controls",
            "_model_module_version": "1.5.0",
            "_model_name": "ProgressStyleModel",
            "_view_count": null,
            "_view_module": "@jupyter-widgets/base",
            "_view_module_version": "1.2.0",
            "_view_name": "StyleView",
            "bar_color": null,
            "description_width": ""
          }
        },
        "93c1f91252134db49c0fc9ff56431999": {
          "model_module": "@jupyter-widgets/base",
          "model_name": "LayoutModel",
          "model_module_version": "1.2.0",
          "state": {
            "_model_module": "@jupyter-widgets/base",
            "_model_module_version": "1.2.0",
            "_model_name": "LayoutModel",
            "_view_count": null,
            "_view_module": "@jupyter-widgets/base",
            "_view_module_version": "1.2.0",
            "_view_name": "LayoutView",
            "align_content": null,
            "align_items": null,
            "align_self": null,
            "border": null,
            "bottom": null,
            "display": null,
            "flex": null,
            "flex_flow": null,
            "grid_area": null,
            "grid_auto_columns": null,
            "grid_auto_flow": null,
            "grid_auto_rows": null,
            "grid_column": null,
            "grid_gap": null,
            "grid_row": null,
            "grid_template_areas": null,
            "grid_template_columns": null,
            "grid_template_rows": null,
            "height": null,
            "justify_content": null,
            "justify_items": null,
            "left": null,
            "margin": null,
            "max_height": null,
            "max_width": null,
            "min_height": null,
            "min_width": null,
            "object_fit": null,
            "object_position": null,
            "order": null,
            "overflow": null,
            "overflow_x": null,
            "overflow_y": null,
            "padding": null,
            "right": null,
            "top": null,
            "visibility": null,
            "width": null
          }
        },
        "a76c18125e804b839a1fc940ca8989de": {
          "model_module": "@jupyter-widgets/controls",
          "model_name": "DescriptionStyleModel",
          "model_module_version": "1.5.0",
          "state": {
            "_model_module": "@jupyter-widgets/controls",
            "_model_module_version": "1.5.0",
            "_model_name": "DescriptionStyleModel",
            "_view_count": null,
            "_view_module": "@jupyter-widgets/base",
            "_view_module_version": "1.2.0",
            "_view_name": "StyleView",
            "description_width": ""
          }
        },
        "e44a0495420b4554a5d45a0e0e02c906": {
          "model_module": "@jupyter-widgets/controls",
          "model_name": "HBoxModel",
          "model_module_version": "1.5.0",
          "state": {
            "_dom_classes": [],
            "_model_module": "@jupyter-widgets/controls",
            "_model_module_version": "1.5.0",
            "_model_name": "HBoxModel",
            "_view_count": null,
            "_view_module": "@jupyter-widgets/controls",
            "_view_module_version": "1.5.0",
            "_view_name": "HBoxView",
            "box_style": "",
            "children": [
              "IPY_MODEL_69e1ee93f9a34dfaa343bd3fcea9093d",
              "IPY_MODEL_aff961c619dd40e6a82ba95ce6d0b568",
              "IPY_MODEL_d2d6380293834c8098886f8700de4a78"
            ],
            "layout": "IPY_MODEL_dc11b3fc83bd42f7af440715ac9c275d"
          }
        },
        "69e1ee93f9a34dfaa343bd3fcea9093d": {
          "model_module": "@jupyter-widgets/controls",
          "model_name": "HTMLModel",
          "model_module_version": "1.5.0",
          "state": {
            "_dom_classes": [],
            "_model_module": "@jupyter-widgets/controls",
            "_model_module_version": "1.5.0",
            "_model_name": "HTMLModel",
            "_view_count": null,
            "_view_module": "@jupyter-widgets/controls",
            "_view_module_version": "1.5.0",
            "_view_name": "HTMLView",
            "description": "",
            "description_tooltip": null,
            "layout": "IPY_MODEL_137eabe4b75b4179883b240784bcaaf8",
            "placeholder": "​",
            "style": "IPY_MODEL_91ab0bdc1b86445090fff476090d04be",
            "value": "vocab.txt: 100%"
          }
        },
        "aff961c619dd40e6a82ba95ce6d0b568": {
          "model_module": "@jupyter-widgets/controls",
          "model_name": "FloatProgressModel",
          "model_module_version": "1.5.0",
          "state": {
            "_dom_classes": [],
            "_model_module": "@jupyter-widgets/controls",
            "_model_module_version": "1.5.0",
            "_model_name": "FloatProgressModel",
            "_view_count": null,
            "_view_module": "@jupyter-widgets/controls",
            "_view_module_version": "1.5.0",
            "_view_name": "ProgressView",
            "bar_style": "success",
            "description": "",
            "description_tooltip": null,
            "layout": "IPY_MODEL_e154fe78dadd4fa8abc73e334eaad0bb",
            "max": 231508,
            "min": 0,
            "orientation": "horizontal",
            "style": "IPY_MODEL_ec2d6b9540c7468eb91409f68261a306",
            "value": 231508
          }
        },
        "d2d6380293834c8098886f8700de4a78": {
          "model_module": "@jupyter-widgets/controls",
          "model_name": "HTMLModel",
          "model_module_version": "1.5.0",
          "state": {
            "_dom_classes": [],
            "_model_module": "@jupyter-widgets/controls",
            "_model_module_version": "1.5.0",
            "_model_name": "HTMLModel",
            "_view_count": null,
            "_view_module": "@jupyter-widgets/controls",
            "_view_module_version": "1.5.0",
            "_view_name": "HTMLView",
            "description": "",
            "description_tooltip": null,
            "layout": "IPY_MODEL_a42a64fe98064517a268aa718fc728ed",
            "placeholder": "​",
            "style": "IPY_MODEL_e7fe94553aeb411399a4c5b9d742c8f1",
            "value": " 232k/232k [00:00&lt;00:00, 2.60MB/s]"
          }
        },
        "dc11b3fc83bd42f7af440715ac9c275d": {
          "model_module": "@jupyter-widgets/base",
          "model_name": "LayoutModel",
          "model_module_version": "1.2.0",
          "state": {
            "_model_module": "@jupyter-widgets/base",
            "_model_module_version": "1.2.0",
            "_model_name": "LayoutModel",
            "_view_count": null,
            "_view_module": "@jupyter-widgets/base",
            "_view_module_version": "1.2.0",
            "_view_name": "LayoutView",
            "align_content": null,
            "align_items": null,
            "align_self": null,
            "border": null,
            "bottom": null,
            "display": null,
            "flex": null,
            "flex_flow": null,
            "grid_area": null,
            "grid_auto_columns": null,
            "grid_auto_flow": null,
            "grid_auto_rows": null,
            "grid_column": null,
            "grid_gap": null,
            "grid_row": null,
            "grid_template_areas": null,
            "grid_template_columns": null,
            "grid_template_rows": null,
            "height": null,
            "justify_content": null,
            "justify_items": null,
            "left": null,
            "margin": null,
            "max_height": null,
            "max_width": null,
            "min_height": null,
            "min_width": null,
            "object_fit": null,
            "object_position": null,
            "order": null,
            "overflow": null,
            "overflow_x": null,
            "overflow_y": null,
            "padding": null,
            "right": null,
            "top": null,
            "visibility": null,
            "width": null
          }
        },
        "137eabe4b75b4179883b240784bcaaf8": {
          "model_module": "@jupyter-widgets/base",
          "model_name": "LayoutModel",
          "model_module_version": "1.2.0",
          "state": {
            "_model_module": "@jupyter-widgets/base",
            "_model_module_version": "1.2.0",
            "_model_name": "LayoutModel",
            "_view_count": null,
            "_view_module": "@jupyter-widgets/base",
            "_view_module_version": "1.2.0",
            "_view_name": "LayoutView",
            "align_content": null,
            "align_items": null,
            "align_self": null,
            "border": null,
            "bottom": null,
            "display": null,
            "flex": null,
            "flex_flow": null,
            "grid_area": null,
            "grid_auto_columns": null,
            "grid_auto_flow": null,
            "grid_auto_rows": null,
            "grid_column": null,
            "grid_gap": null,
            "grid_row": null,
            "grid_template_areas": null,
            "grid_template_columns": null,
            "grid_template_rows": null,
            "height": null,
            "justify_content": null,
            "justify_items": null,
            "left": null,
            "margin": null,
            "max_height": null,
            "max_width": null,
            "min_height": null,
            "min_width": null,
            "object_fit": null,
            "object_position": null,
            "order": null,
            "overflow": null,
            "overflow_x": null,
            "overflow_y": null,
            "padding": null,
            "right": null,
            "top": null,
            "visibility": null,
            "width": null
          }
        },
        "91ab0bdc1b86445090fff476090d04be": {
          "model_module": "@jupyter-widgets/controls",
          "model_name": "DescriptionStyleModel",
          "model_module_version": "1.5.0",
          "state": {
            "_model_module": "@jupyter-widgets/controls",
            "_model_module_version": "1.5.0",
            "_model_name": "DescriptionStyleModel",
            "_view_count": null,
            "_view_module": "@jupyter-widgets/base",
            "_view_module_version": "1.2.0",
            "_view_name": "StyleView",
            "description_width": ""
          }
        },
        "e154fe78dadd4fa8abc73e334eaad0bb": {
          "model_module": "@jupyter-widgets/base",
          "model_name": "LayoutModel",
          "model_module_version": "1.2.0",
          "state": {
            "_model_module": "@jupyter-widgets/base",
            "_model_module_version": "1.2.0",
            "_model_name": "LayoutModel",
            "_view_count": null,
            "_view_module": "@jupyter-widgets/base",
            "_view_module_version": "1.2.0",
            "_view_name": "LayoutView",
            "align_content": null,
            "align_items": null,
            "align_self": null,
            "border": null,
            "bottom": null,
            "display": null,
            "flex": null,
            "flex_flow": null,
            "grid_area": null,
            "grid_auto_columns": null,
            "grid_auto_flow": null,
            "grid_auto_rows": null,
            "grid_column": null,
            "grid_gap": null,
            "grid_row": null,
            "grid_template_areas": null,
            "grid_template_columns": null,
            "grid_template_rows": null,
            "height": null,
            "justify_content": null,
            "justify_items": null,
            "left": null,
            "margin": null,
            "max_height": null,
            "max_width": null,
            "min_height": null,
            "min_width": null,
            "object_fit": null,
            "object_position": null,
            "order": null,
            "overflow": null,
            "overflow_x": null,
            "overflow_y": null,
            "padding": null,
            "right": null,
            "top": null,
            "visibility": null,
            "width": null
          }
        },
        "ec2d6b9540c7468eb91409f68261a306": {
          "model_module": "@jupyter-widgets/controls",
          "model_name": "ProgressStyleModel",
          "model_module_version": "1.5.0",
          "state": {
            "_model_module": "@jupyter-widgets/controls",
            "_model_module_version": "1.5.0",
            "_model_name": "ProgressStyleModel",
            "_view_count": null,
            "_view_module": "@jupyter-widgets/base",
            "_view_module_version": "1.2.0",
            "_view_name": "StyleView",
            "bar_color": null,
            "description_width": ""
          }
        },
        "a42a64fe98064517a268aa718fc728ed": {
          "model_module": "@jupyter-widgets/base",
          "model_name": "LayoutModel",
          "model_module_version": "1.2.0",
          "state": {
            "_model_module": "@jupyter-widgets/base",
            "_model_module_version": "1.2.0",
            "_model_name": "LayoutModel",
            "_view_count": null,
            "_view_module": "@jupyter-widgets/base",
            "_view_module_version": "1.2.0",
            "_view_name": "LayoutView",
            "align_content": null,
            "align_items": null,
            "align_self": null,
            "border": null,
            "bottom": null,
            "display": null,
            "flex": null,
            "flex_flow": null,
            "grid_area": null,
            "grid_auto_columns": null,
            "grid_auto_flow": null,
            "grid_auto_rows": null,
            "grid_column": null,
            "grid_gap": null,
            "grid_row": null,
            "grid_template_areas": null,
            "grid_template_columns": null,
            "grid_template_rows": null,
            "height": null,
            "justify_content": null,
            "justify_items": null,
            "left": null,
            "margin": null,
            "max_height": null,
            "max_width": null,
            "min_height": null,
            "min_width": null,
            "object_fit": null,
            "object_position": null,
            "order": null,
            "overflow": null,
            "overflow_x": null,
            "overflow_y": null,
            "padding": null,
            "right": null,
            "top": null,
            "visibility": null,
            "width": null
          }
        },
        "e7fe94553aeb411399a4c5b9d742c8f1": {
          "model_module": "@jupyter-widgets/controls",
          "model_name": "DescriptionStyleModel",
          "model_module_version": "1.5.0",
          "state": {
            "_model_module": "@jupyter-widgets/controls",
            "_model_module_version": "1.5.0",
            "_model_name": "DescriptionStyleModel",
            "_view_count": null,
            "_view_module": "@jupyter-widgets/base",
            "_view_module_version": "1.2.0",
            "_view_name": "StyleView",
            "description_width": ""
          }
        },
        "b1d4fbd490214c46b7fd17dbb535275e": {
          "model_module": "@jupyter-widgets/controls",
          "model_name": "HBoxModel",
          "model_module_version": "1.5.0",
          "state": {
            "_dom_classes": [],
            "_model_module": "@jupyter-widgets/controls",
            "_model_module_version": "1.5.0",
            "_model_name": "HBoxModel",
            "_view_count": null,
            "_view_module": "@jupyter-widgets/controls",
            "_view_module_version": "1.5.0",
            "_view_name": "HBoxView",
            "box_style": "",
            "children": [
              "IPY_MODEL_c52c0d20122d419db29a2f0bbb6f651a",
              "IPY_MODEL_d8ca5cbb5fa34523b1c4a5ef5d96f214",
              "IPY_MODEL_18d9038bb1a54628a6f31bce956dde0a"
            ],
            "layout": "IPY_MODEL_fd964740a45843e4b1bfe0711de8ed5e"
          }
        },
        "c52c0d20122d419db29a2f0bbb6f651a": {
          "model_module": "@jupyter-widgets/controls",
          "model_name": "HTMLModel",
          "model_module_version": "1.5.0",
          "state": {
            "_dom_classes": [],
            "_model_module": "@jupyter-widgets/controls",
            "_model_module_version": "1.5.0",
            "_model_name": "HTMLModel",
            "_view_count": null,
            "_view_module": "@jupyter-widgets/controls",
            "_view_module_version": "1.5.0",
            "_view_name": "HTMLView",
            "description": "",
            "description_tooltip": null,
            "layout": "IPY_MODEL_8108b3d7750f425aa67a37d020d26de6",
            "placeholder": "​",
            "style": "IPY_MODEL_af9ef968cacc41c289744dd9d89df065",
            "value": "tokenizer.json: 100%"
          }
        },
        "d8ca5cbb5fa34523b1c4a5ef5d96f214": {
          "model_module": "@jupyter-widgets/controls",
          "model_name": "FloatProgressModel",
          "model_module_version": "1.5.0",
          "state": {
            "_dom_classes": [],
            "_model_module": "@jupyter-widgets/controls",
            "_model_module_version": "1.5.0",
            "_model_name": "FloatProgressModel",
            "_view_count": null,
            "_view_module": "@jupyter-widgets/controls",
            "_view_module_version": "1.5.0",
            "_view_name": "ProgressView",
            "bar_style": "success",
            "description": "",
            "description_tooltip": null,
            "layout": "IPY_MODEL_e0b1ea5bd98b41cc805d24313a83ae29",
            "max": 466062,
            "min": 0,
            "orientation": "horizontal",
            "style": "IPY_MODEL_e7e97cfb0dfc4c2da185a189eb635473",
            "value": 466062
          }
        },
        "18d9038bb1a54628a6f31bce956dde0a": {
          "model_module": "@jupyter-widgets/controls",
          "model_name": "HTMLModel",
          "model_module_version": "1.5.0",
          "state": {
            "_dom_classes": [],
            "_model_module": "@jupyter-widgets/controls",
            "_model_module_version": "1.5.0",
            "_model_name": "HTMLModel",
            "_view_count": null,
            "_view_module": "@jupyter-widgets/controls",
            "_view_module_version": "1.5.0",
            "_view_name": "HTMLView",
            "description": "",
            "description_tooltip": null,
            "layout": "IPY_MODEL_c6f93091150c49f9b11bace3e24da1bf",
            "placeholder": "​",
            "style": "IPY_MODEL_55b4641a761b4234a53f7fb1c4c434f1",
            "value": " 466k/466k [00:00&lt;00:00, 5.64MB/s]"
          }
        },
        "fd964740a45843e4b1bfe0711de8ed5e": {
          "model_module": "@jupyter-widgets/base",
          "model_name": "LayoutModel",
          "model_module_version": "1.2.0",
          "state": {
            "_model_module": "@jupyter-widgets/base",
            "_model_module_version": "1.2.0",
            "_model_name": "LayoutModel",
            "_view_count": null,
            "_view_module": "@jupyter-widgets/base",
            "_view_module_version": "1.2.0",
            "_view_name": "LayoutView",
            "align_content": null,
            "align_items": null,
            "align_self": null,
            "border": null,
            "bottom": null,
            "display": null,
            "flex": null,
            "flex_flow": null,
            "grid_area": null,
            "grid_auto_columns": null,
            "grid_auto_flow": null,
            "grid_auto_rows": null,
            "grid_column": null,
            "grid_gap": null,
            "grid_row": null,
            "grid_template_areas": null,
            "grid_template_columns": null,
            "grid_template_rows": null,
            "height": null,
            "justify_content": null,
            "justify_items": null,
            "left": null,
            "margin": null,
            "max_height": null,
            "max_width": null,
            "min_height": null,
            "min_width": null,
            "object_fit": null,
            "object_position": null,
            "order": null,
            "overflow": null,
            "overflow_x": null,
            "overflow_y": null,
            "padding": null,
            "right": null,
            "top": null,
            "visibility": null,
            "width": null
          }
        },
        "8108b3d7750f425aa67a37d020d26de6": {
          "model_module": "@jupyter-widgets/base",
          "model_name": "LayoutModel",
          "model_module_version": "1.2.0",
          "state": {
            "_model_module": "@jupyter-widgets/base",
            "_model_module_version": "1.2.0",
            "_model_name": "LayoutModel",
            "_view_count": null,
            "_view_module": "@jupyter-widgets/base",
            "_view_module_version": "1.2.0",
            "_view_name": "LayoutView",
            "align_content": null,
            "align_items": null,
            "align_self": null,
            "border": null,
            "bottom": null,
            "display": null,
            "flex": null,
            "flex_flow": null,
            "grid_area": null,
            "grid_auto_columns": null,
            "grid_auto_flow": null,
            "grid_auto_rows": null,
            "grid_column": null,
            "grid_gap": null,
            "grid_row": null,
            "grid_template_areas": null,
            "grid_template_columns": null,
            "grid_template_rows": null,
            "height": null,
            "justify_content": null,
            "justify_items": null,
            "left": null,
            "margin": null,
            "max_height": null,
            "max_width": null,
            "min_height": null,
            "min_width": null,
            "object_fit": null,
            "object_position": null,
            "order": null,
            "overflow": null,
            "overflow_x": null,
            "overflow_y": null,
            "padding": null,
            "right": null,
            "top": null,
            "visibility": null,
            "width": null
          }
        },
        "af9ef968cacc41c289744dd9d89df065": {
          "model_module": "@jupyter-widgets/controls",
          "model_name": "DescriptionStyleModel",
          "model_module_version": "1.5.0",
          "state": {
            "_model_module": "@jupyter-widgets/controls",
            "_model_module_version": "1.5.0",
            "_model_name": "DescriptionStyleModel",
            "_view_count": null,
            "_view_module": "@jupyter-widgets/base",
            "_view_module_version": "1.2.0",
            "_view_name": "StyleView",
            "description_width": ""
          }
        },
        "e0b1ea5bd98b41cc805d24313a83ae29": {
          "model_module": "@jupyter-widgets/base",
          "model_name": "LayoutModel",
          "model_module_version": "1.2.0",
          "state": {
            "_model_module": "@jupyter-widgets/base",
            "_model_module_version": "1.2.0",
            "_model_name": "LayoutModel",
            "_view_count": null,
            "_view_module": "@jupyter-widgets/base",
            "_view_module_version": "1.2.0",
            "_view_name": "LayoutView",
            "align_content": null,
            "align_items": null,
            "align_self": null,
            "border": null,
            "bottom": null,
            "display": null,
            "flex": null,
            "flex_flow": null,
            "grid_area": null,
            "grid_auto_columns": null,
            "grid_auto_flow": null,
            "grid_auto_rows": null,
            "grid_column": null,
            "grid_gap": null,
            "grid_row": null,
            "grid_template_areas": null,
            "grid_template_columns": null,
            "grid_template_rows": null,
            "height": null,
            "justify_content": null,
            "justify_items": null,
            "left": null,
            "margin": null,
            "max_height": null,
            "max_width": null,
            "min_height": null,
            "min_width": null,
            "object_fit": null,
            "object_position": null,
            "order": null,
            "overflow": null,
            "overflow_x": null,
            "overflow_y": null,
            "padding": null,
            "right": null,
            "top": null,
            "visibility": null,
            "width": null
          }
        },
        "e7e97cfb0dfc4c2da185a189eb635473": {
          "model_module": "@jupyter-widgets/controls",
          "model_name": "ProgressStyleModel",
          "model_module_version": "1.5.0",
          "state": {
            "_model_module": "@jupyter-widgets/controls",
            "_model_module_version": "1.5.0",
            "_model_name": "ProgressStyleModel",
            "_view_count": null,
            "_view_module": "@jupyter-widgets/base",
            "_view_module_version": "1.2.0",
            "_view_name": "StyleView",
            "bar_color": null,
            "description_width": ""
          }
        },
        "c6f93091150c49f9b11bace3e24da1bf": {
          "model_module": "@jupyter-widgets/base",
          "model_name": "LayoutModel",
          "model_module_version": "1.2.0",
          "state": {
            "_model_module": "@jupyter-widgets/base",
            "_model_module_version": "1.2.0",
            "_model_name": "LayoutModel",
            "_view_count": null,
            "_view_module": "@jupyter-widgets/base",
            "_view_module_version": "1.2.0",
            "_view_name": "LayoutView",
            "align_content": null,
            "align_items": null,
            "align_self": null,
            "border": null,
            "bottom": null,
            "display": null,
            "flex": null,
            "flex_flow": null,
            "grid_area": null,
            "grid_auto_columns": null,
            "grid_auto_flow": null,
            "grid_auto_rows": null,
            "grid_column": null,
            "grid_gap": null,
            "grid_row": null,
            "grid_template_areas": null,
            "grid_template_columns": null,
            "grid_template_rows": null,
            "height": null,
            "justify_content": null,
            "justify_items": null,
            "left": null,
            "margin": null,
            "max_height": null,
            "max_width": null,
            "min_height": null,
            "min_width": null,
            "object_fit": null,
            "object_position": null,
            "order": null,
            "overflow": null,
            "overflow_x": null,
            "overflow_y": null,
            "padding": null,
            "right": null,
            "top": null,
            "visibility": null,
            "width": null
          }
        },
        "55b4641a761b4234a53f7fb1c4c434f1": {
          "model_module": "@jupyter-widgets/controls",
          "model_name": "DescriptionStyleModel",
          "model_module_version": "1.5.0",
          "state": {
            "_model_module": "@jupyter-widgets/controls",
            "_model_module_version": "1.5.0",
            "_model_name": "DescriptionStyleModel",
            "_view_count": null,
            "_view_module": "@jupyter-widgets/base",
            "_view_module_version": "1.2.0",
            "_view_name": "StyleView",
            "description_width": ""
          }
        },
        "8ec71db33a504962bf56378ecd86c038": {
          "model_module": "@jupyter-widgets/controls",
          "model_name": "HBoxModel",
          "model_module_version": "1.5.0",
          "state": {
            "_dom_classes": [],
            "_model_module": "@jupyter-widgets/controls",
            "_model_module_version": "1.5.0",
            "_model_name": "HBoxModel",
            "_view_count": null,
            "_view_module": "@jupyter-widgets/controls",
            "_view_module_version": "1.5.0",
            "_view_name": "HBoxView",
            "box_style": "",
            "children": [
              "IPY_MODEL_d18df95858f64df892ede7372831bdff",
              "IPY_MODEL_e7aa2ecb8db843a983744459d0201f21",
              "IPY_MODEL_85616995236c41b3bb2d836612689e2f"
            ],
            "layout": "IPY_MODEL_74896107ed474705a0792a04aed6e799"
          }
        },
        "d18df95858f64df892ede7372831bdff": {
          "model_module": "@jupyter-widgets/controls",
          "model_name": "HTMLModel",
          "model_module_version": "1.5.0",
          "state": {
            "_dom_classes": [],
            "_model_module": "@jupyter-widgets/controls",
            "_model_module_version": "1.5.0",
            "_model_name": "HTMLModel",
            "_view_count": null,
            "_view_module": "@jupyter-widgets/controls",
            "_view_module_version": "1.5.0",
            "_view_name": "HTMLView",
            "description": "",
            "description_tooltip": null,
            "layout": "IPY_MODEL_bc79896bfe88476c904ce71311e3b0bd",
            "placeholder": "​",
            "style": "IPY_MODEL_0ed066e825654d87ba70108b9b18a492",
            "value": "config.json: 100%"
          }
        },
        "e7aa2ecb8db843a983744459d0201f21": {
          "model_module": "@jupyter-widgets/controls",
          "model_name": "FloatProgressModel",
          "model_module_version": "1.5.0",
          "state": {
            "_dom_classes": [],
            "_model_module": "@jupyter-widgets/controls",
            "_model_module_version": "1.5.0",
            "_model_name": "FloatProgressModel",
            "_view_count": null,
            "_view_module": "@jupyter-widgets/controls",
            "_view_module_version": "1.5.0",
            "_view_name": "ProgressView",
            "bar_style": "success",
            "description": "",
            "description_tooltip": null,
            "layout": "IPY_MODEL_21c7e2b4002f4dbeb758ac7904c9a693",
            "max": 570,
            "min": 0,
            "orientation": "horizontal",
            "style": "IPY_MODEL_a35e167b55754e448cba3053d18b0d73",
            "value": 570
          }
        },
        "85616995236c41b3bb2d836612689e2f": {
          "model_module": "@jupyter-widgets/controls",
          "model_name": "HTMLModel",
          "model_module_version": "1.5.0",
          "state": {
            "_dom_classes": [],
            "_model_module": "@jupyter-widgets/controls",
            "_model_module_version": "1.5.0",
            "_model_name": "HTMLModel",
            "_view_count": null,
            "_view_module": "@jupyter-widgets/controls",
            "_view_module_version": "1.5.0",
            "_view_name": "HTMLView",
            "description": "",
            "description_tooltip": null,
            "layout": "IPY_MODEL_bad8f881c3134c9d800b10a8e20e9903",
            "placeholder": "​",
            "style": "IPY_MODEL_4a0bc609eec54d4c89ed9a94d573ad12",
            "value": " 570/570 [00:00&lt;00:00, 46.3kB/s]"
          }
        },
        "74896107ed474705a0792a04aed6e799": {
          "model_module": "@jupyter-widgets/base",
          "model_name": "LayoutModel",
          "model_module_version": "1.2.0",
          "state": {
            "_model_module": "@jupyter-widgets/base",
            "_model_module_version": "1.2.0",
            "_model_name": "LayoutModel",
            "_view_count": null,
            "_view_module": "@jupyter-widgets/base",
            "_view_module_version": "1.2.0",
            "_view_name": "LayoutView",
            "align_content": null,
            "align_items": null,
            "align_self": null,
            "border": null,
            "bottom": null,
            "display": null,
            "flex": null,
            "flex_flow": null,
            "grid_area": null,
            "grid_auto_columns": null,
            "grid_auto_flow": null,
            "grid_auto_rows": null,
            "grid_column": null,
            "grid_gap": null,
            "grid_row": null,
            "grid_template_areas": null,
            "grid_template_columns": null,
            "grid_template_rows": null,
            "height": null,
            "justify_content": null,
            "justify_items": null,
            "left": null,
            "margin": null,
            "max_height": null,
            "max_width": null,
            "min_height": null,
            "min_width": null,
            "object_fit": null,
            "object_position": null,
            "order": null,
            "overflow": null,
            "overflow_x": null,
            "overflow_y": null,
            "padding": null,
            "right": null,
            "top": null,
            "visibility": null,
            "width": null
          }
        },
        "bc79896bfe88476c904ce71311e3b0bd": {
          "model_module": "@jupyter-widgets/base",
          "model_name": "LayoutModel",
          "model_module_version": "1.2.0",
          "state": {
            "_model_module": "@jupyter-widgets/base",
            "_model_module_version": "1.2.0",
            "_model_name": "LayoutModel",
            "_view_count": null,
            "_view_module": "@jupyter-widgets/base",
            "_view_module_version": "1.2.0",
            "_view_name": "LayoutView",
            "align_content": null,
            "align_items": null,
            "align_self": null,
            "border": null,
            "bottom": null,
            "display": null,
            "flex": null,
            "flex_flow": null,
            "grid_area": null,
            "grid_auto_columns": null,
            "grid_auto_flow": null,
            "grid_auto_rows": null,
            "grid_column": null,
            "grid_gap": null,
            "grid_row": null,
            "grid_template_areas": null,
            "grid_template_columns": null,
            "grid_template_rows": null,
            "height": null,
            "justify_content": null,
            "justify_items": null,
            "left": null,
            "margin": null,
            "max_height": null,
            "max_width": null,
            "min_height": null,
            "min_width": null,
            "object_fit": null,
            "object_position": null,
            "order": null,
            "overflow": null,
            "overflow_x": null,
            "overflow_y": null,
            "padding": null,
            "right": null,
            "top": null,
            "visibility": null,
            "width": null
          }
        },
        "0ed066e825654d87ba70108b9b18a492": {
          "model_module": "@jupyter-widgets/controls",
          "model_name": "DescriptionStyleModel",
          "model_module_version": "1.5.0",
          "state": {
            "_model_module": "@jupyter-widgets/controls",
            "_model_module_version": "1.5.0",
            "_model_name": "DescriptionStyleModel",
            "_view_count": null,
            "_view_module": "@jupyter-widgets/base",
            "_view_module_version": "1.2.0",
            "_view_name": "StyleView",
            "description_width": ""
          }
        },
        "21c7e2b4002f4dbeb758ac7904c9a693": {
          "model_module": "@jupyter-widgets/base",
          "model_name": "LayoutModel",
          "model_module_version": "1.2.0",
          "state": {
            "_model_module": "@jupyter-widgets/base",
            "_model_module_version": "1.2.0",
            "_model_name": "LayoutModel",
            "_view_count": null,
            "_view_module": "@jupyter-widgets/base",
            "_view_module_version": "1.2.0",
            "_view_name": "LayoutView",
            "align_content": null,
            "align_items": null,
            "align_self": null,
            "border": null,
            "bottom": null,
            "display": null,
            "flex": null,
            "flex_flow": null,
            "grid_area": null,
            "grid_auto_columns": null,
            "grid_auto_flow": null,
            "grid_auto_rows": null,
            "grid_column": null,
            "grid_gap": null,
            "grid_row": null,
            "grid_template_areas": null,
            "grid_template_columns": null,
            "grid_template_rows": null,
            "height": null,
            "justify_content": null,
            "justify_items": null,
            "left": null,
            "margin": null,
            "max_height": null,
            "max_width": null,
            "min_height": null,
            "min_width": null,
            "object_fit": null,
            "object_position": null,
            "order": null,
            "overflow": null,
            "overflow_x": null,
            "overflow_y": null,
            "padding": null,
            "right": null,
            "top": null,
            "visibility": null,
            "width": null
          }
        },
        "a35e167b55754e448cba3053d18b0d73": {
          "model_module": "@jupyter-widgets/controls",
          "model_name": "ProgressStyleModel",
          "model_module_version": "1.5.0",
          "state": {
            "_model_module": "@jupyter-widgets/controls",
            "_model_module_version": "1.5.0",
            "_model_name": "ProgressStyleModel",
            "_view_count": null,
            "_view_module": "@jupyter-widgets/base",
            "_view_module_version": "1.2.0",
            "_view_name": "StyleView",
            "bar_color": null,
            "description_width": ""
          }
        },
        "bad8f881c3134c9d800b10a8e20e9903": {
          "model_module": "@jupyter-widgets/base",
          "model_name": "LayoutModel",
          "model_module_version": "1.2.0",
          "state": {
            "_model_module": "@jupyter-widgets/base",
            "_model_module_version": "1.2.0",
            "_model_name": "LayoutModel",
            "_view_count": null,
            "_view_module": "@jupyter-widgets/base",
            "_view_module_version": "1.2.0",
            "_view_name": "LayoutView",
            "align_content": null,
            "align_items": null,
            "align_self": null,
            "border": null,
            "bottom": null,
            "display": null,
            "flex": null,
            "flex_flow": null,
            "grid_area": null,
            "grid_auto_columns": null,
            "grid_auto_flow": null,
            "grid_auto_rows": null,
            "grid_column": null,
            "grid_gap": null,
            "grid_row": null,
            "grid_template_areas": null,
            "grid_template_columns": null,
            "grid_template_rows": null,
            "height": null,
            "justify_content": null,
            "justify_items": null,
            "left": null,
            "margin": null,
            "max_height": null,
            "max_width": null,
            "min_height": null,
            "min_width": null,
            "object_fit": null,
            "object_position": null,
            "order": null,
            "overflow": null,
            "overflow_x": null,
            "overflow_y": null,
            "padding": null,
            "right": null,
            "top": null,
            "visibility": null,
            "width": null
          }
        },
        "4a0bc609eec54d4c89ed9a94d573ad12": {
          "model_module": "@jupyter-widgets/controls",
          "model_name": "DescriptionStyleModel",
          "model_module_version": "1.5.0",
          "state": {
            "_model_module": "@jupyter-widgets/controls",
            "_model_module_version": "1.5.0",
            "_model_name": "DescriptionStyleModel",
            "_view_count": null,
            "_view_module": "@jupyter-widgets/base",
            "_view_module_version": "1.2.0",
            "_view_name": "StyleView",
            "description_width": ""
          }
        },
        "2ff70ae6fd7d4a49806eb8c4b9b246d2": {
          "model_module": "@jupyter-widgets/controls",
          "model_name": "HBoxModel",
          "model_module_version": "1.5.0",
          "state": {
            "_dom_classes": [],
            "_model_module": "@jupyter-widgets/controls",
            "_model_module_version": "1.5.0",
            "_model_name": "HBoxModel",
            "_view_count": null,
            "_view_module": "@jupyter-widgets/controls",
            "_view_module_version": "1.5.0",
            "_view_name": "HBoxView",
            "box_style": "",
            "children": [
              "IPY_MODEL_782aa8f6d1b34d54ab1cb0b0c4e30821",
              "IPY_MODEL_ca46cd81b20d4f0c91ade7591630f78a",
              "IPY_MODEL_ae67a25ff8cc41ffbe5b8790459350a4"
            ],
            "layout": "IPY_MODEL_95d0be1295a34086a235b6aa4196417d"
          }
        },
        "782aa8f6d1b34d54ab1cb0b0c4e30821": {
          "model_module": "@jupyter-widgets/controls",
          "model_name": "HTMLModel",
          "model_module_version": "1.5.0",
          "state": {
            "_dom_classes": [],
            "_model_module": "@jupyter-widgets/controls",
            "_model_module_version": "1.5.0",
            "_model_name": "HTMLModel",
            "_view_count": null,
            "_view_module": "@jupyter-widgets/controls",
            "_view_module_version": "1.5.0",
            "_view_name": "HTMLView",
            "description": "",
            "description_tooltip": null,
            "layout": "IPY_MODEL_8dc20a6ba3e54b419ad931941f3f3fce",
            "placeholder": "​",
            "style": "IPY_MODEL_7eb724e550334af0a80efba6bd6ee2b1",
            "value": "model.safetensors: 100%"
          }
        },
        "ca46cd81b20d4f0c91ade7591630f78a": {
          "model_module": "@jupyter-widgets/controls",
          "model_name": "FloatProgressModel",
          "model_module_version": "1.5.0",
          "state": {
            "_dom_classes": [],
            "_model_module": "@jupyter-widgets/controls",
            "_model_module_version": "1.5.0",
            "_model_name": "FloatProgressModel",
            "_view_count": null,
            "_view_module": "@jupyter-widgets/controls",
            "_view_module_version": "1.5.0",
            "_view_name": "ProgressView",
            "bar_style": "success",
            "description": "",
            "description_tooltip": null,
            "layout": "IPY_MODEL_618d07d786e04b318509aaf7c87062c4",
            "max": 440449768,
            "min": 0,
            "orientation": "horizontal",
            "style": "IPY_MODEL_4a8b1a42f2e44d10a02a37e35bba2637",
            "value": 440449768
          }
        },
        "ae67a25ff8cc41ffbe5b8790459350a4": {
          "model_module": "@jupyter-widgets/controls",
          "model_name": "HTMLModel",
          "model_module_version": "1.5.0",
          "state": {
            "_dom_classes": [],
            "_model_module": "@jupyter-widgets/controls",
            "_model_module_version": "1.5.0",
            "_model_name": "HTMLModel",
            "_view_count": null,
            "_view_module": "@jupyter-widgets/controls",
            "_view_module_version": "1.5.0",
            "_view_name": "HTMLView",
            "description": "",
            "description_tooltip": null,
            "layout": "IPY_MODEL_0d62d41180794d669d862899d4b30fbd",
            "placeholder": "​",
            "style": "IPY_MODEL_568725ab7a034fd8bdd01c9360571ac6",
            "value": " 440M/440M [00:06&lt;00:00, 102MB/s]"
          }
        },
        "95d0be1295a34086a235b6aa4196417d": {
          "model_module": "@jupyter-widgets/base",
          "model_name": "LayoutModel",
          "model_module_version": "1.2.0",
          "state": {
            "_model_module": "@jupyter-widgets/base",
            "_model_module_version": "1.2.0",
            "_model_name": "LayoutModel",
            "_view_count": null,
            "_view_module": "@jupyter-widgets/base",
            "_view_module_version": "1.2.0",
            "_view_name": "LayoutView",
            "align_content": null,
            "align_items": null,
            "align_self": null,
            "border": null,
            "bottom": null,
            "display": null,
            "flex": null,
            "flex_flow": null,
            "grid_area": null,
            "grid_auto_columns": null,
            "grid_auto_flow": null,
            "grid_auto_rows": null,
            "grid_column": null,
            "grid_gap": null,
            "grid_row": null,
            "grid_template_areas": null,
            "grid_template_columns": null,
            "grid_template_rows": null,
            "height": null,
            "justify_content": null,
            "justify_items": null,
            "left": null,
            "margin": null,
            "max_height": null,
            "max_width": null,
            "min_height": null,
            "min_width": null,
            "object_fit": null,
            "object_position": null,
            "order": null,
            "overflow": null,
            "overflow_x": null,
            "overflow_y": null,
            "padding": null,
            "right": null,
            "top": null,
            "visibility": null,
            "width": null
          }
        },
        "8dc20a6ba3e54b419ad931941f3f3fce": {
          "model_module": "@jupyter-widgets/base",
          "model_name": "LayoutModel",
          "model_module_version": "1.2.0",
          "state": {
            "_model_module": "@jupyter-widgets/base",
            "_model_module_version": "1.2.0",
            "_model_name": "LayoutModel",
            "_view_count": null,
            "_view_module": "@jupyter-widgets/base",
            "_view_module_version": "1.2.0",
            "_view_name": "LayoutView",
            "align_content": null,
            "align_items": null,
            "align_self": null,
            "border": null,
            "bottom": null,
            "display": null,
            "flex": null,
            "flex_flow": null,
            "grid_area": null,
            "grid_auto_columns": null,
            "grid_auto_flow": null,
            "grid_auto_rows": null,
            "grid_column": null,
            "grid_gap": null,
            "grid_row": null,
            "grid_template_areas": null,
            "grid_template_columns": null,
            "grid_template_rows": null,
            "height": null,
            "justify_content": null,
            "justify_items": null,
            "left": null,
            "margin": null,
            "max_height": null,
            "max_width": null,
            "min_height": null,
            "min_width": null,
            "object_fit": null,
            "object_position": null,
            "order": null,
            "overflow": null,
            "overflow_x": null,
            "overflow_y": null,
            "padding": null,
            "right": null,
            "top": null,
            "visibility": null,
            "width": null
          }
        },
        "7eb724e550334af0a80efba6bd6ee2b1": {
          "model_module": "@jupyter-widgets/controls",
          "model_name": "DescriptionStyleModel",
          "model_module_version": "1.5.0",
          "state": {
            "_model_module": "@jupyter-widgets/controls",
            "_model_module_version": "1.5.0",
            "_model_name": "DescriptionStyleModel",
            "_view_count": null,
            "_view_module": "@jupyter-widgets/base",
            "_view_module_version": "1.2.0",
            "_view_name": "StyleView",
            "description_width": ""
          }
        },
        "618d07d786e04b318509aaf7c87062c4": {
          "model_module": "@jupyter-widgets/base",
          "model_name": "LayoutModel",
          "model_module_version": "1.2.0",
          "state": {
            "_model_module": "@jupyter-widgets/base",
            "_model_module_version": "1.2.0",
            "_model_name": "LayoutModel",
            "_view_count": null,
            "_view_module": "@jupyter-widgets/base",
            "_view_module_version": "1.2.0",
            "_view_name": "LayoutView",
            "align_content": null,
            "align_items": null,
            "align_self": null,
            "border": null,
            "bottom": null,
            "display": null,
            "flex": null,
            "flex_flow": null,
            "grid_area": null,
            "grid_auto_columns": null,
            "grid_auto_flow": null,
            "grid_auto_rows": null,
            "grid_column": null,
            "grid_gap": null,
            "grid_row": null,
            "grid_template_areas": null,
            "grid_template_columns": null,
            "grid_template_rows": null,
            "height": null,
            "justify_content": null,
            "justify_items": null,
            "left": null,
            "margin": null,
            "max_height": null,
            "max_width": null,
            "min_height": null,
            "min_width": null,
            "object_fit": null,
            "object_position": null,
            "order": null,
            "overflow": null,
            "overflow_x": null,
            "overflow_y": null,
            "padding": null,
            "right": null,
            "top": null,
            "visibility": null,
            "width": null
          }
        },
        "4a8b1a42f2e44d10a02a37e35bba2637": {
          "model_module": "@jupyter-widgets/controls",
          "model_name": "ProgressStyleModel",
          "model_module_version": "1.5.0",
          "state": {
            "_model_module": "@jupyter-widgets/controls",
            "_model_module_version": "1.5.0",
            "_model_name": "ProgressStyleModel",
            "_view_count": null,
            "_view_module": "@jupyter-widgets/base",
            "_view_module_version": "1.2.0",
            "_view_name": "StyleView",
            "bar_color": null,
            "description_width": ""
          }
        },
        "0d62d41180794d669d862899d4b30fbd": {
          "model_module": "@jupyter-widgets/base",
          "model_name": "LayoutModel",
          "model_module_version": "1.2.0",
          "state": {
            "_model_module": "@jupyter-widgets/base",
            "_model_module_version": "1.2.0",
            "_model_name": "LayoutModel",
            "_view_count": null,
            "_view_module": "@jupyter-widgets/base",
            "_view_module_version": "1.2.0",
            "_view_name": "LayoutView",
            "align_content": null,
            "align_items": null,
            "align_self": null,
            "border": null,
            "bottom": null,
            "display": null,
            "flex": null,
            "flex_flow": null,
            "grid_area": null,
            "grid_auto_columns": null,
            "grid_auto_flow": null,
            "grid_auto_rows": null,
            "grid_column": null,
            "grid_gap": null,
            "grid_row": null,
            "grid_template_areas": null,
            "grid_template_columns": null,
            "grid_template_rows": null,
            "height": null,
            "justify_content": null,
            "justify_items": null,
            "left": null,
            "margin": null,
            "max_height": null,
            "max_width": null,
            "min_height": null,
            "min_width": null,
            "object_fit": null,
            "object_position": null,
            "order": null,
            "overflow": null,
            "overflow_x": null,
            "overflow_y": null,
            "padding": null,
            "right": null,
            "top": null,
            "visibility": null,
            "width": null
          }
        },
        "568725ab7a034fd8bdd01c9360571ac6": {
          "model_module": "@jupyter-widgets/controls",
          "model_name": "DescriptionStyleModel",
          "model_module_version": "1.5.0",
          "state": {
            "_model_module": "@jupyter-widgets/controls",
            "_model_module_version": "1.5.0",
            "_model_name": "DescriptionStyleModel",
            "_view_count": null,
            "_view_module": "@jupyter-widgets/base",
            "_view_module_version": "1.2.0",
            "_view_name": "StyleView",
            "description_width": ""
          }
        }
      }
    }
  },
  "cells": [
    {
      "cell_type": "markdown",
      "source": [
        "#1. Load Dataset:"
      ],
      "metadata": {
        "id": "Z_XGRcBwQsp1"
      }
    },
    {
      "cell_type": "code",
      "source": [
        "!nvidia-smi"
      ],
      "metadata": {
        "colab": {
          "base_uri": "https://localhost:8080/"
        },
        "id": "RFat0v5kOgLn",
        "outputId": "240a9a1f-3bdf-402d-fcab-360aece03f09"
      },
      "execution_count": null,
      "outputs": [
        {
          "output_type": "stream",
          "name": "stdout",
          "text": [
            "Tue May 13 06:00:11 2025       \n",
            "+-----------------------------------------------------------------------------------------+\n",
            "| NVIDIA-SMI 550.54.15              Driver Version: 550.54.15      CUDA Version: 12.4     |\n",
            "|-----------------------------------------+------------------------+----------------------+\n",
            "| GPU  Name                 Persistence-M | Bus-Id          Disp.A | Volatile Uncorr. ECC |\n",
            "| Fan  Temp   Perf          Pwr:Usage/Cap |           Memory-Usage | GPU-Util  Compute M. |\n",
            "|                                         |                        |               MIG M. |\n",
            "|=========================================+========================+======================|\n",
            "|   0  Tesla T4                       Off |   00000000:00:04.0 Off |                    0 |\n",
            "| N/A   70C    P0             30W /   70W |    2466MiB /  15360MiB |      0%      Default |\n",
            "|                                         |                        |                  N/A |\n",
            "+-----------------------------------------+------------------------+----------------------+\n",
            "                                                                                         \n",
            "+-----------------------------------------------------------------------------------------+\n",
            "| Processes:                                                                              |\n",
            "|  GPU   GI   CI        PID   Type   Process name                              GPU Memory |\n",
            "|        ID   ID                                                               Usage      |\n",
            "|=========================================================================================|\n",
            "+-----------------------------------------------------------------------------------------+\n"
          ]
        }
      ]
    },
    {
      "cell_type": "code",
      "source": [
        "!pip install transformers torch scikit-learn pandas"
      ],
      "metadata": {
        "collapsed": true,
        "id": "Okuuu6Bjo8Oj"
      },
      "execution_count": null,
      "outputs": []
    },
    {
      "cell_type": "code",
      "source": [
        "import re\n",
        "import os\n",
        "import json\n",
        "import pandas as pd\n",
        "import matplotlib.pyplot as plt\n",
        "import torch\n",
        "from sklearn.model_selection import train_test_split\n",
        "from sklearn.metrics import accuracy_score, precision_score, recall_score, f1_score, roc_auc_score\n",
        "#Pre-train BERT:\n",
        "from transformers import BertTokenizer, BertForSequenceClassification, Trainer, TrainingArguments\n",
        "from sklearn.preprocessing import LabelEncoder\n",
        "from peft import get_peft_model, LoraConfig\n",
        "#Confidence Score System:\n",
        "import requests\n",
        "from Bio import Entrez\n",
        "from langchain import LLMChain, PromptTemplate\n",
        "from langchain.chains import RetrievalQA\n",
        "from langchain.vectorstores import FAISS\n",
        "from langchain.embeddings import OpenAIEmbeddings\n",
        "#Gemini Model:\n",
        "from google import genai\n",
        "from google.genai import types\n",
        "import base64\n",
        "import google.generativeai as genai"
      ],
      "metadata": {
        "id": "U3asu9PuegM4"
      },
      "execution_count": null,
      "outputs": []
    },
    {
      "cell_type": "markdown",
      "source": [
        "(1) Covid Fake News Dataset:"
      ],
      "metadata": {
        "id": "3eXhEn3Kpjer"
      }
    },
    {
      "cell_type": "code",
      "source": [
        "# List of JSON files to process\n",
        "json_files = [\n",
        "    'Cleaned_Covid19_Train.json',\n",
        "    'Cleaned_Covid19_Dev.json',\n",
        "]\n",
        "data_dict = {}\n",
        "# Process each JSON file\n",
        "for json_file in json_files:\n",
        "    # Load the dataset\n",
        "    with open(json_file, 'r') as file:\n",
        "        data = json.load(file)\n",
        "\n",
        "    # Prepare a list to hold the processed data\n",
        "    jsonl_data = []\n",
        "\n",
        "    # Extract and process each entry\n",
        "    for entry in data:\n",
        "        # Extract the id, tweet, and label\n",
        "        tweet = entry['tweet']\n",
        "        label = entry['label']\n",
        "\n",
        "        # Tokenize the tweet\n",
        "        tokens = re.findall(r'\\b\\w+\\b', tweet)  # Keep only words and numbers\n",
        "        reconstructed_tweet = ' '.join(tokens)\n",
        "\n",
        "        # Prepare the JSONL entry with the required structure\n",
        "        jsonl_entry = {\n",
        "            \"systemInstruction\": {\n",
        "                \"role\": \"assistant\",  # Example role, adjust as needed\n",
        "                \"parts\": [\n",
        "                    {\n",
        "                        \"text\": \"Classification the content is Fake, Real, or Misleading\"  # Example instruction, adjust as needed\n",
        "                    }\n",
        "                ]\n",
        "            },\n",
        "            \"contents\": [\n",
        "                {\n",
        "                    \"role\": \"user\",\n",
        "                    \"parts\": [\n",
        "                        {\n",
        "                            \"text\": f\"TRANSCRIPT: \\n{reconstructed_tweet}\\n\\n LABEL:\"\n",
        "                        }\n",
        "                    ]\n",
        "                },\n",
        "                {\n",
        "                    \"role\": \"model\",\n",
        "                    \"parts\": [\n",
        "                        {\n",
        "                            \"text\": label  # The label indicating the model's response\n",
        "                        }\n",
        "                    ]\n",
        "                }\n",
        "            ]\n",
        "        }\n",
        "        jsonl_data.append(jsonl_entry)\n",
        "\n",
        "   # Write the processed data to a JSONL file\n",
        "    output_file = json_file.replace('.json', '.jsonl')  # Change the extension to .jsonl\n",
        "    with open(output_file, 'w') as outfile:\n",
        "        for entry in jsonl_data:\n",
        "            json.dump(entry, outfile)\n",
        "            outfile.write('\\n')  # Write each entry on a new line\n",
        "    print(f\"Processed {json_file} and saved to {output_file}.\")\n",
        "    data_dict[json_file] = jsonl_data\n",
        "# Access the data using the correct keys - the original filenames\n",
        "covid_train_data = data_dict['Cleaned_Covid19_Train.json']  # Corrected key\n",
        "covid_dev_data = data_dict['Cleaned_Covid19_Dev.json']  # Corrected key\n",
        "# Print the first few entries for verification\n",
        "print(f\"First few entries from claims_test_data:\\n{covid_train_data[:5]}\")\n"
      ],
      "metadata": {
        "colab": {
          "base_uri": "https://localhost:8080/"
        },
        "id": "JwQ_6FFg7oAv",
        "outputId": "ab26e48a-0567-4c01-8755-e51847627c78"
      },
      "execution_count": null,
      "outputs": [
        {
          "output_type": "stream",
          "name": "stdout",
          "text": [
            "Processed Cleaned_Covid19_Train.json and saved to Cleaned_Covid19_Train.jsonl.\n",
            "Processed Cleaned_Covid19_Dev.json and saved to Cleaned_Covid19_Dev.jsonl.\n",
            "First few entries from claims_test_data:\n",
            "[{'systemInstruction': {'role': 'assistant', 'parts': [{'text': 'Classification the content is Fake, Real, or Misleading'}]}, 'contents': [{'role': 'user', 'parts': [{'text': 'TRANSCRIPT: \\nThe CDC currently reports 99031 deaths In general the discrepancies in death counts between different sources are small and explicable The death toll stands at roughly 100000 people today\\n\\n LABEL:'}]}, {'role': 'model', 'parts': [{'text': 'real'}]}]}, {'systemInstruction': {'role': 'assistant', 'parts': [{'text': 'Classification the content is Fake, Real, or Misleading'}]}, 'contents': [{'role': 'user', 'parts': [{'text': 'TRANSCRIPT: \\nStates reported 1121 deaths a small rise from last Tuesday Southern states reported 640 of those deaths https t co YASGRTT4ux\\n\\n LABEL:'}]}, {'role': 'model', 'parts': [{'text': 'real'}]}]}, {'systemInstruction': {'role': 'assistant', 'parts': [{'text': 'Classification the content is Fake, Real, or Misleading'}]}, 'contents': [{'role': 'user', 'parts': [{'text': 'TRANSCRIPT: \\nPolitically Correct Woman Almost Uses Pandemic as Excuse Not to Reuse Plastic Bag https t co thF8GuNFPe coronavirus nashville\\n\\n LABEL:'}]}, {'role': 'model', 'parts': [{'text': 'fake'}]}]}, {'systemInstruction': {'role': 'assistant', 'parts': [{'text': 'Classification the content is Fake, Real, or Misleading'}]}, 'contents': [{'role': 'user', 'parts': [{'text': 'TRANSCRIPT: \\nIndiaFightsCorona We have 1524 COVID testing laboratories in India and as on 25th August 2020 36827520 tests have been done ProfBhargava DG ICMRDELHI StaySafe IndiaWillWin https t co Yh3ZxknnhZ\\n\\n LABEL:'}]}, {'role': 'model', 'parts': [{'text': 'real'}]}]}, {'systemInstruction': {'role': 'assistant', 'parts': [{'text': 'Classification the content is Fake, Real, or Misleading'}]}, 'contents': [{'role': 'user', 'parts': [{'text': 'TRANSCRIPT: \\nPopulous states can generate large case counts but if you look at the new cases per million today 9 smaller states are showing more cases per million than California or Texas AL AR ID KS KY LA MS NV and SC https t co 1pYW6cWRaS\\n\\n LABEL:'}]}, {'role': 'model', 'parts': [{'text': 'real'}]}]}]\n"
          ]
        }
      ]
    },
    {
      "cell_type": "markdown",
      "source": [
        "(2) Health Fact Dataset:"
      ],
      "metadata": {
        "id": "e1ZjuHZQpn27"
      }
    },
    {
      "cell_type": "code",
      "source": [
        "import json\n",
        "import re\n",
        "import os\n",
        "\n",
        "# List of JSON files to process\n",
        "json_files = [\n",
        "    'healthfact_traindata.json',\n",
        "    'cleaned_healthfact_test.json',\n",
        "    'cleaned_healthfact_dev.json'\n",
        "]\n",
        "data_dict = {}\n",
        "# Process each JSON file\n",
        "for json_file in json_files:\n",
        "    # Prepare a list to hold the processed data\n",
        "    jsonl_data = []\n",
        "    # Load the dataset\n",
        "    with open(json_file, 'r') as file:\n",
        "        # Read each line as a separate JSON object\n",
        "        for line in file:\n",
        "            try:\n",
        "                entry = json.loads(line)\n",
        "                # Extract the claim, explanation, and label\n",
        "                claim = entry['claim']\n",
        "                explanation = entry['explanation']\n",
        "                label = entry['label']\n",
        "\n",
        "                # Tokenize the claim\n",
        "                tokens = re.findall(r'\\b\\w+\\b', claim)  # Keep only words and numbers\n",
        "                reconstructed_claim = ' '.join(tokens)\n",
        "\n",
        "                # Prepare the JSONL entry in the required format\n",
        "                jsonl_entry = {\n",
        "                    \"systemInstruction\": {\n",
        "                        \"role\": \"assistant\",  # Example role, adjust as needed\n",
        "                        \"parts\": [\n",
        "                            {\n",
        "                                \"text\": \"You are a helpful assistant.\"  # Example instruction, adjust as needed\n",
        "                            }\n",
        "                        ]\n",
        "                    },\n",
        "                    \"contents\": [\n",
        "                        {\n",
        "                            \"role\": \"user\",\n",
        "                            \"parts\": [\n",
        "                                {\n",
        "                                    \"text\": f\"CLAIM: {reconstructed_claim}\\nEXPLANATION: {explanation}\\nLABEL: {label}\"\n",
        "                                }\n",
        "                            ]\n",
        "                        },\n",
        "                        {\n",
        "                            \"role\": \"model\",\n",
        "                            \"parts\": [\n",
        "                                {\n",
        "                                    \"text\": label  # The label indicating the model's response\n",
        "                                }\n",
        "                            ]\n",
        "                        }\n",
        "                    ]\n",
        "                }\n",
        "                jsonl_data.append(jsonl_entry)\n",
        "            except json.JSONDecodeError as e:\n",
        "                print(f\"Error decoding JSON: {e}\")\n",
        "    # Use the correct key to store the data in the dictionary - keep the original filenames as keys\n",
        "    data_dict[json_file] = jsonl_data\n",
        "# Access the data using the correct keys - the original filenames\n",
        "healthfact_train_data = data_dict['healthfact_traindata.json']  # Corrected key\n",
        "healthfact_test_data = data_dict['cleaned_healthfact_test.json']  # Corrected key\n",
        "healthfact_dev_data = data_dict['cleaned_healthfact_dev.json']  # Corrected key\n",
        "# Print the first few entries for verification\n",
        "print(f\"First few entries from healthfact_train_data:\\n{healthfact_train_data[:5]}\")\n",
        "# Optionally, write the processed data to JSONL files\n",
        "for json_file, jsonl_data in data_dict.items():\n",
        "    output_file = json_file.replace('.json', '.jsonl')  # Change the extension to .jsonl\n",
        "    with open(output_file, 'w') as outfile:\n",
        "        for entry in jsonl_data:\n",
        "            json.dump(entry, outfile)\n",
        "            outfile.write('\\n')  # Write each entry on a new line\n",
        "    print(f\"Processed {json_file} and saved to {output_file}.\")"
      ],
      "metadata": {
        "colab": {
          "base_uri": "https://localhost:8080/"
        },
        "id": "EuNam_-35mLp",
        "outputId": "01b27f82-e7ff-4f99-ac77-ca815436e0db"
      },
      "execution_count": null,
      "outputs": [
        {
          "output_type": "stream",
          "name": "stdout",
          "text": [
            "First few entries from healthfact_train_data:\n",
            "[{'systemInstruction': {'role': 'assistant', 'parts': [{'text': 'You are a helpful assistant.'}]}, 'contents': [{'role': 'user', 'parts': [{'text': 'CLAIM: The money the Clinton Foundation took from from foreign governments while Hillary Clinton was secretary of state is clearly illegal The Constitution says you can t take this stuff\\nEXPLANATION: \"Gingrich said the Clinton Foundation \"\"took money from from foreign governments while (Hillary Clinton) was secretary of state. It is clearly illegal. … The Constitution says you can’t take this stuff.\"\" A clause in the Constitution does prohibit U.S. officials such as former Secretary of State Hillary Clinton from receiving gifts, or emoluments, from foreign governments. But the gifts in this case were donations from foreign governments that went to the Clinton Foundation, not Hillary Clinton. She was not part of the foundation her husband founded while she was secretary of state. Does that violate the Constitution? Some libertarian-minded constitutional law experts say it very well could. Others are skeptical. What’s clear is there is room for ambiguity, and the donations are anything but \"\"clearly illegal.\"\" The reality is this a hazy part of U.S. constitutional\\xa0law. \\nLABEL: false'}]}, {'role': 'model', 'parts': [{'text': 'false'}]}]}, {'systemInstruction': {'role': 'assistant', 'parts': [{'text': 'You are a helpful assistant.'}]}, 'contents': [{'role': 'user', 'parts': [{'text': 'CLAIM: Annual Mammograms May Have More False Positives\\nEXPLANATION: This article reports on the results of a study of nearly 170,000 women who had screening mammograms beginning between age 40-59. The study found that over ten years of screening mammograms, over half of the women will experience a false-positive recall for additional mammography. In addition, 7%-9% of the women will have a biopsy for a suspicious lump which is not cancerous. Both of those percentages decrease if the woman is screened every other year rather than every year. Even with biennial mammography, 41% of women will experience a\\xa0recall over 10 years of mammography. The study’s Principal Investigator emphasized that “in most cases, a recall doesn’t mean you have cancer.”\\xa0 She hoped this knowledge would reduce the anxiety of women who are recalled. The story never explained the size of the decrease in the number of false positives between annual (61.3%) and biennial screening (41.6%). Our first two reviewers were a researcher who specializes in health decisions and a breast cancer survivor trained in evidence by the Natiional Breast Cancer Coalition’s Project LEAD. This study is valuable because it helps to quantify and compare the harms of annual and biennial screening, specifically the number of false positives and the number of unnecessary biopsies. Prior to this study, estimates of false positive screening mammography rates varied widely. The critical question is whether you can do less frequent screening, subject women to fewer harms and get similar results in terms of detection of “early stage” cancer. This study’s data seems to suggest that answer is yes.\\nLABEL: MISLEADING'}]}, {'role': 'model', 'parts': [{'text': 'MISLEADING'}]}]}, {'systemInstruction': {'role': 'assistant', 'parts': [{'text': 'You are a helpful assistant.'}]}, 'contents': [{'role': 'user', 'parts': [{'text': 'CLAIM: SBRT Offers Prostate Cancer Patients High Cancer Control and Low Toxicity in Fewer Treatments\\nEXPLANATION: This news release describes five-year outcomes for 309 men with early-stage prostate cancer who received stereotactic body radiation therapy (SBRT), which delivers targeted doses of radiation cheaper and faster than the prevailing radiation therapy treatment for prostate cancer. The study measured the rates of severe injury to surrounding tissues and disease-free survival. The news release said it’s the first large, multi-institutional study of this technology in prostate cancer with long-term follow-up, involving patients at 21 community, regional, and academic hospitals across the U.S. The release does a good job of quantifying the evidence but could have helped readers better understand the implications of the data by giving cost and safety comparisons with other radiation treatment, and by discussing limitations related to using a historical control group (rather than a contemporaneous control group) which introduces potential for bias. The release is based on a study presented at the American Society for Radiation Oncology (ASTRO) annual conference. The study abstract can be found on page 4 of this document. Prostate cancer is a commonly diagnosed condition in men that is associated with aging. Many patients don’t realize that prostate cancer is not a uniformly fatal disease. For men with low risk disease, active surveillance without treatment is a viable option. Even for men with higher risk disease where treatment is warranted, one needs to follow patients for 10-15 years to identify a survival benefit from treatment. This is useful context to keep in mind when examining this new study of patients with low and intermediate risk prostate cancer. The results present a rosy picture of SBRT, in terms of both benefits and harms. However, without a contemporaneous control group, such as those receiving intensity-modulated radiation therapy (IMRT) or even active surveillance, one cannot be sure that these favorable results are due to the treatment itself or the patients who were selected for treatment. Comparing results of individuals who are likely to live a long time with their disease to those treated at some point in the past is rife with problems and such studies, called case series, are deemed to be low on the ladder of scientific rigor. Even the low rate of complications, while very reassuring, still would benefit from a comparison to patients treated with other forms of radiation at the same time period.\\nLABEL: MISLEADING'}]}, {'role': 'model', 'parts': [{'text': 'MISLEADING'}]}]}, {'systemInstruction': {'role': 'assistant', 'parts': [{'text': 'You are a helpful assistant.'}]}, 'contents': [{'role': 'user', 'parts': [{'text': 'CLAIM: Study Vaccine for Breast Ovarian Cancer Has Potential\\nEXPLANATION: While the story does many things well, the overall framing of the story is that the vaccine “shows promise,” when the evidence actually points in the other direction. Because only one patient in the study remains cancer free and because that patient may very well have benefited from an earlier cancer vaccine and other complicating factors, we question the decision to write this story in the first place. Right now, there more than 10,000 cancer-related clinical trials recruiting patients. Cancer has foiled scientists repeatedly with treatments that initially seemed promising in the laboratory or in a very small group of people and later proved unworkable on a larger scale. It’s a difficult task — but a crucial one — for reporters to ask tough questions of the evidence and a wide range of sources before deciding whether one of these thousands of experimental treatment options merits coverage.\\nLABEL: true'}]}, {'role': 'model', 'parts': [{'text': 'true'}]}]}, {'systemInstruction': {'role': 'assistant', 'parts': [{'text': 'You are a helpful assistant.'}]}, 'contents': [{'role': 'user', 'parts': [{'text': 'CLAIM: Some appendicitis cases may not require emergency surgery\\nEXPLANATION: We really don’t understand why only a handful of mainstream news organizations reported this story. (At least in what we found.) The most common emergency surgery in the world. Rushing to emergency surgery may not carry any benefit. Waiting a few hours may be safer and less expensive. Why is that not a story? We applaud USA Today for finding time and space – and clearly it didn’t need to free up much space to do a good job telling the story. The story explains that as many as 300,000 appendectomies are done each year in the US. That figure alone explains why this is an important study to report.\\nLABEL: true'}]}, {'role': 'model', 'parts': [{'text': 'true'}]}]}]\n",
            "Processed healthfact_traindata.json and saved to healthfact_traindata.jsonl.\n",
            "Processed cleaned_healthfact_test.json and saved to cleaned_healthfact_test.jsonl.\n",
            "Processed cleaned_healthfact_dev.json and saved to cleaned_healthfact_dev.jsonl.\n"
          ]
        }
      ]
    },
    {
      "cell_type": "markdown",
      "source": [
        "(3) Scifact Dataset:"
      ],
      "metadata": {
        "id": "f3XEdBxGpsVJ"
      }
    },
    {
      "cell_type": "code",
      "source": [
        "import json\n",
        "import re\n",
        "\n",
        "# List of JSONL files to process\n",
        "jsonl_files = [\n",
        "    'dev_3class.jsonl',\n",
        "    'train_3class.jsonl'\n",
        "]\n",
        "data_dict = {}\n",
        "# Process each JSONL file\n",
        "for jsonl_file in jsonl_files:\n",
        "    # Prepare a list to hold the processed data\n",
        "    processed_data = []\n",
        "\n",
        "    # Load the dataset\n",
        "    with open(jsonl_file, 'r') as file:\n",
        "        for line in file:\n",
        "            try:\n",
        "                entry = json.loads(line)\n",
        "\n",
        "                # Extract the claim, explanation, and label\n",
        "                claim = entry['claim']\n",
        "                explanation = entry['evidence_text']\n",
        "                label = entry['label']\n",
        "\n",
        "                # Tokenize the claim\n",
        "                tokens = re.findall(r'\\b\\w+\\b', claim)  # Keep only words and numbers\n",
        "                reconstructed_claim = ' '.join(tokens)\n",
        "\n",
        "                # Prepare the JSONL entry in the required format\n",
        "                jsonl_entry = {\n",
        "                    \"systemInstruction\": {\n",
        "                        \"role\": \"assistant\",  # Example role, adjust as needed\n",
        "                        \"parts\": [\n",
        "                            {\n",
        "                                \"text\": \"You are a helpful assistant.\"  # Example instruction, adjust as needed\n",
        "                            }\n",
        "                        ]\n",
        "                    },\n",
        "                    \"contents\": [\n",
        "                        {\n",
        "                            \"role\": \"user\",\n",
        "                            \"parts\": [\n",
        "                                {\n",
        "                                    \"text\": f\"CLAIM: {reconstructed_claim}\\nEVIDENCE: {explanation}\\nLABEL: {label}\"\n",
        "                                }\n",
        "                            ]\n",
        "                        },\n",
        "                        {\n",
        "                            \"role\": \"model\",\n",
        "                            \"parts\": [\n",
        "                                {\n",
        "                                    \"text\": label  # The label indicating the model's response\n",
        "                                }\n",
        "                            ]\n",
        "                        }\n",
        "                    ]\n",
        "                }\n",
        "                # Append the modified entry to the processed data list\n",
        "                processed_data.append(jsonl_entry)  # Append the processed data\n",
        "            except json.JSONDecodeError as e:\n",
        "                print(f\"Error decoding JSON: {e}\")\n",
        "    # Store the processed data in the dictionary\n",
        "    data_dict[jsonl_file] = processed_data\n",
        "# Access the data using the correct keys - the original filenames\n",
        "scifact_train_data = data_dict['train_3class.jsonl']  # Corrected key\n",
        "scifact_test_data = data_dict['dev_3class.jsonl']  # Corrected key\n",
        "# Print the first few entries for verification\n",
        "print(f\"First few entries from scifact_train_data:\\n{scifact_train_data[:5]}\")\n",
        "# Optionally, write the processed data to new JSONL files\n",
        "for jsonl_file, processed_data in data_dict.items():\n",
        "    output_file = jsonl_file.replace('.jsonl', '_processed.jsonl')  # Change the extension to _processed.jsonl\n",
        "    with open(output_file, 'w') as outfile:\n",
        "        for entry in processed_data:\n",
        "            json.dump(entry, outfile)\n",
        "            outfile.write('\\n')  # Write each entry on a new line\n",
        "    print(f\"Processed {jsonl_file} and saved to {output_file}.\")"
      ],
      "metadata": {
        "colab": {
          "base_uri": "https://localhost:8080/"
        },
        "id": "pxHFCj_16QWW",
        "outputId": "000a5a0d-a2a6-4c13-8c29-1a15fb1c989a"
      },
      "execution_count": null,
      "outputs": [
        {
          "output_type": "stream",
          "name": "stdout",
          "text": [
            "First few entries from scifact_train_data:\n",
            "[{'systemInstruction': {'role': 'assistant', 'parts': [{'text': 'You are a helpful assistant.'}]}, 'contents': [{'role': 'user', 'parts': [{'text': 'CLAIM: 0 dimensional biomaterials lack inductive properties\\nEVIDENCE: \\nLABEL: Misleading'}]}, {'role': 'model', 'parts': [{'text': 'Misleading'}]}]}, {'systemInstruction': {'role': 'assistant', 'parts': [{'text': 'You are a helpful assistant.'}]}, 'contents': [{'role': 'user', 'parts': [{'text': 'CLAIM: 1 in 5 million in UK have abnormal PrP positivity\\nEVIDENCE: RESULTS Of the 32,441 appendix samples 16 were positive for abnormal PrP, indicating an overall prevalence of 493 per million population (95% confidence interval 282 to 801 per million).\\nLABEL: False'}]}, {'role': 'model', 'parts': [{'text': 'False'}]}]}, {'systemInstruction': {'role': 'assistant', 'parts': [{'text': 'You are a helpful assistant.'}]}, 'contents': [{'role': 'user', 'parts': [{'text': 'CLAIM: 1 1 of colorectal cancer patients are diagnosed with regional or distant metastases\\nEVIDENCE: \\nLABEL: Misleading'}]}, {'role': 'model', 'parts': [{'text': 'Misleading'}]}]}, {'systemInstruction': {'role': 'assistant', 'parts': [{'text': 'You are a helpful assistant.'}]}, 'contents': [{'role': 'user', 'parts': [{'text': 'CLAIM: 10 of sudden infant death syndrome SIDS deaths happen in newborns aged less than 6 months\\nEVIDENCE: \\nLABEL: Misleading'}]}, {'role': 'model', 'parts': [{'text': 'Misleading'}]}]}, {'systemInstruction': {'role': 'assistant', 'parts': [{'text': 'You are a helpful assistant.'}]}, 'contents': [{'role': 'user', 'parts': [{'text': 'CLAIM: 32 of liver transplantation programs required patients to discontinue methadone treatment in 2001\\nEVIDENCE: Policies requiring discontinuation of methadone in 32% of all programs contradict the evidence base for efficacy of long-term replacement therapies and potentially result in relapse of previously stable patients.\\nLABEL: True'}]}, {'role': 'model', 'parts': [{'text': 'True'}]}]}]\n",
            "Processed dev_3class.jsonl and saved to dev_3class_processed.jsonl.\n",
            "Processed train_3class.jsonl and saved to train_3class_processed.jsonl.\n"
          ]
        }
      ]
    },
    {
      "cell_type": "markdown",
      "source": [
        "#2. Data Exploration\n"
      ],
      "metadata": {
        "id": "X4a4-19uZrp8"
      }
    },
    {
      "cell_type": "code",
      "source": [
        "# Function to explore a dataset\n",
        "def explore_dataset(data, dataset_name):\n",
        "    print(f\"Exploring dataset: {dataset_name}\")\n",
        "    print(f\"Number of entries: {len(data)}\")\n",
        "\n",
        "    # Convert to DataFrame for easier analysis\n",
        "    df = pd.DataFrame(data)\n",
        "\n",
        "    # Display the first few entries\n",
        "    print(\"First few entries:\")\n",
        "    print(df.head())\n",
        "\n",
        "    # Display basic statistics\n",
        "    print(\"\\nBasic statistics:\")\n",
        "    print(df.describe(include='all'))\n",
        "\n",
        "    # Check the distribution of labels (if applicable)\n",
        "    if 'label' in df.columns:\n",
        "        label_counts = df['label'].value_counts()\n",
        "        print(\"\\nLabel distribution:\")\n",
        "        print(label_counts)\n",
        "\n",
        "        # Plot the label distribution\n",
        "        label_counts.plot(kind='bar', title='Label Distribution')\n",
        "        plt.xlabel('Labels')\n",
        "        plt.ylabel('Counts')\n",
        "        plt.show()\n",
        "\n",
        "    print(\"\\n\" + \"-\" * 40 + \"\\n\")\n",
        "\n",
        "# Explore each dataset\n",
        "explore_dataset(covid_train_data, \"Cleaned Covid19 Train Data\")\n",
        "explore_dataset(healthfact_train_data, \"Healthfact Train Data\")\n",
        "explore_dataset(scifact_train_data, \"SciFact Train Data\")"
      ],
      "metadata": {
        "id": "VNgxtFLmZHRp",
        "colab": {
          "base_uri": "https://localhost:8080/"
        },
        "outputId": "301ef167-a15c-4b6a-c7e2-353180ab4c43"
      },
      "execution_count": null,
      "outputs": [
        {
          "output_type": "stream",
          "name": "stdout",
          "text": [
            "Exploring dataset: Cleaned Covid19 Train Data\n",
            "Number of entries: 6420\n",
            "First few entries:\n",
            "                                   systemInstruction  \\\n",
            "0  {'role': 'assistant', 'parts': [{'text': 'Clas...   \n",
            "1  {'role': 'assistant', 'parts': [{'text': 'Clas...   \n",
            "2  {'role': 'assistant', 'parts': [{'text': 'Clas...   \n",
            "3  {'role': 'assistant', 'parts': [{'text': 'Clas...   \n",
            "4  {'role': 'assistant', 'parts': [{'text': 'Clas...   \n",
            "\n",
            "                                            contents  \n",
            "0  [{'role': 'user', 'parts': [{'text': 'TRANSCRI...  \n",
            "1  [{'role': 'user', 'parts': [{'text': 'TRANSCRI...  \n",
            "2  [{'role': 'user', 'parts': [{'text': 'TRANSCRI...  \n",
            "3  [{'role': 'user', 'parts': [{'text': 'TRANSCRI...  \n",
            "4  [{'role': 'user', 'parts': [{'text': 'TRANSCRI...  \n",
            "\n",
            "Basic statistics:\n",
            "                                        systemInstruction  \\\n",
            "count                                                6420   \n",
            "unique                                                  1   \n",
            "top     {'role': 'assistant', 'parts': [{'text': 'Clas...   \n",
            "freq                                                 6420   \n",
            "\n",
            "                                                 contents  \n",
            "count                                                6420  \n",
            "unique                                               6379  \n",
            "top     [{'role': 'user', 'parts': [{'text': 'TRANSCRI...  \n",
            "freq                                                    3  \n",
            "\n",
            "----------------------------------------\n",
            "\n",
            "Exploring dataset: Healthfact Train Data\n",
            "Number of entries: 9804\n",
            "First few entries:\n",
            "                                   systemInstruction  \\\n",
            "0  {'role': 'assistant', 'parts': [{'text': 'You ...   \n",
            "1  {'role': 'assistant', 'parts': [{'text': 'You ...   \n",
            "2  {'role': 'assistant', 'parts': [{'text': 'You ...   \n",
            "3  {'role': 'assistant', 'parts': [{'text': 'You ...   \n",
            "4  {'role': 'assistant', 'parts': [{'text': 'You ...   \n",
            "\n",
            "                                            contents  \n",
            "0  [{'role': 'user', 'parts': [{'text': 'CLAIM: T...  \n",
            "1  [{'role': 'user', 'parts': [{'text': 'CLAIM: A...  \n",
            "2  [{'role': 'user', 'parts': [{'text': 'CLAIM: S...  \n",
            "3  [{'role': 'user', 'parts': [{'text': 'CLAIM: S...  \n",
            "4  [{'role': 'user', 'parts': [{'text': 'CLAIM: S...  \n",
            "\n",
            "Basic statistics:\n",
            "                                        systemInstruction  \\\n",
            "count                                                9804   \n",
            "unique                                                  1   \n",
            "top     {'role': 'assistant', 'parts': [{'text': 'You ...   \n",
            "freq                                                 9804   \n",
            "\n",
            "                                                 contents  \n",
            "count                                                9804  \n",
            "unique                                               9803  \n",
            "top     [{'role': 'user', 'parts': [{'text': 'CLAIM: P...  \n",
            "freq                                                    2  \n",
            "\n",
            "----------------------------------------\n",
            "\n",
            "Exploring dataset: SciFact Train Data\n",
            "Number of entries: 1261\n",
            "First few entries:\n",
            "                                   systemInstruction  \\\n",
            "0  {'role': 'assistant', 'parts': [{'text': 'You ...   \n",
            "1  {'role': 'assistant', 'parts': [{'text': 'You ...   \n",
            "2  {'role': 'assistant', 'parts': [{'text': 'You ...   \n",
            "3  {'role': 'assistant', 'parts': [{'text': 'You ...   \n",
            "4  {'role': 'assistant', 'parts': [{'text': 'You ...   \n",
            "\n",
            "                                            contents  \n",
            "0  [{'role': 'user', 'parts': [{'text': 'CLAIM: 0...  \n",
            "1  [{'role': 'user', 'parts': [{'text': 'CLAIM: 1...  \n",
            "2  [{'role': 'user', 'parts': [{'text': 'CLAIM: 1...  \n",
            "3  [{'role': 'user', 'parts': [{'text': 'CLAIM: 1...  \n",
            "4  [{'role': 'user', 'parts': [{'text': 'CLAIM: 3...  \n",
            "\n",
            "Basic statistics:\n",
            "                                        systemInstruction  \\\n",
            "count                                                1261   \n",
            "unique                                                  1   \n",
            "top     {'role': 'assistant', 'parts': [{'text': 'You ...   \n",
            "freq                                                 1261   \n",
            "\n",
            "                                                 contents  \n",
            "count                                                1261  \n",
            "unique                                               1258  \n",
            "top     [{'role': 'user', 'parts': [{'text': 'CLAIM: A...  \n",
            "freq                                                    2  \n",
            "\n",
            "----------------------------------------\n",
            "\n"
          ]
        }
      ]
    },
    {
      "cell_type": "markdown",
      "source": [
        "#3. Training Strategy"
      ],
      "metadata": {
        "id": "B6KxZXiLmevV"
      }
    },
    {
      "cell_type": "code",
      "source": [
        "# Convert datasets to DataFrames for easier manipulation\n",
        "healthfact_df = pd.DataFrame(healthfact_train_data)\n",
        "scifact_df = pd.DataFrame(scifact_train_data)\n",
        "\n",
        "# Combine HealthFact and SciFact datasets for pre-training\n",
        "combined_pretrain_df = pd.concat([healthfact_df, scifact_df], ignore_index=True)\n",
        "\n",
        "# Save the combined dataset for pre-training\n",
        "combined_pretrain_df.to_json('combined_pretrain_data.jsonl', orient='records', lines=True)\n",
        "\n",
        "# Convert COVID-19 dataset to DataFrame\n",
        "covid_df = pd.DataFrame(covid_train_data)\n",
        "\n",
        "# Save the COVID-19 dataset for fine-tuning\n",
        "covid_df.to_json('covid_finetune_data.jsonl', orient='records', lines=True)\n",
        "\n",
        "print(\"Datasets combined and saved for train dataset:\")\n",
        "print(\"1. Combined Pre-train Data: combined_pretrain_data.jsonl\")\n",
        "print(\"2. COVID-19 Fine-tune Data: covid_finetune_data.jsonl\")"
      ],
      "metadata": {
        "id": "EeP3UXv7ed7K",
        "colab": {
          "base_uri": "https://localhost:8080/"
        },
        "outputId": "939a2eb9-7ea8-4d69-8113-6b620397daa4"
      },
      "execution_count": null,
      "outputs": [
        {
          "output_type": "stream",
          "name": "stdout",
          "text": [
            "Datasets combined and saved for train dataset:\n",
            "1. Combined Pre-train Data: combined_pretrain_data.jsonl\n",
            "2. COVID-19 Fine-tune Data: covid_finetune_data.jsonl\n"
          ]
        }
      ]
    },
    {
      "cell_type": "code",
      "source": [
        "# Convert datasets to DataFrames for easier manipulation\n",
        "healthfact_df_test = pd.DataFrame(healthfact_test_data)\n",
        "scifact_df_test = pd.DataFrame(scifact_test_data)\n",
        "\n",
        "# Combine HealthFact and SciFact datasets for pre-training\n",
        "combined_pretrain_df_test = pd.concat([healthfact_df_test, scifact_df_test], ignore_index=True)\n",
        "\n",
        "# Save the combined dataset for pre-training\n",
        "combined_pretrain_df_test.to_json('combined_pretrain_test_data.jsonl', orient='records', lines=True)\n",
        "\n",
        "# Convert COVID-19 dataset to DataFrame\n",
        "covid_df_test = pd.DataFrame(covid_dev_data)\n",
        "\n",
        "# Save the COVID-19 dataset for fine-tuning\n",
        "covid_df_test.to_json('covid_finetune_test_data.jsonl', orient='records', lines=True)\n",
        "\n",
        "print(\"Datasets combined and saved for Test dataset:\")\n",
        "print(\"1. Combined Pre-train Data: combined_pretrain_test_data.jsonl\")\n",
        "print(\"2. COVID-19 Fine-tune Data: covid_finetune_test_data.jsonl\")"
      ],
      "metadata": {
        "id": "yLMGK6vWoOVL",
        "colab": {
          "base_uri": "https://localhost:8080/"
        },
        "outputId": "bae314f3-6671-4ed3-e306-5e020c253595"
      },
      "execution_count": null,
      "outputs": [
        {
          "output_type": "stream",
          "name": "stdout",
          "text": [
            "Datasets combined and saved for Test dataset:\n",
            "1. Combined Pre-train Data: combined_pretrain_test_data.jsonl\n",
            "2. COVID-19 Fine-tune Data: covid_finetune_test_data.jsonl\n"
          ]
        }
      ]
    },
    {
      "cell_type": "markdown",
      "source": [
        "#4. Before Fine Tuning Gemini 2.0 Flash Model Prompt + Label"
      ],
      "metadata": {
        "id": "6Q1rx9IdF38m"
      }
    },
    {
      "cell_type": "code",
      "source": [
        "# Define a fine-tuning function using Gemini API\n",
        "def generate_response(prompt):\n",
        "    response = model.generate_content(prompt)\n",
        "    return response.text\n",
        "\n",
        "# Example few-shot training prompt\n",
        "prompt = \"\"\"\n",
        "Claim: \"6 10 Sky s EdConwaySky explains the latest COVID19 data and government announcement Get more on the coronavirus data here https t co jvGZlSbFjH https t co PygSKXesBg\"\n",
        "\"\"\"\n",
        "\n",
        "response = generate_response(prompt)\n",
        "print(response)"
      ],
      "metadata": {
        "id": "Rjy4fARVHzE5"
      },
      "execution_count": null,
      "outputs": []
    },
    {
      "cell_type": "markdown",
      "source": [
        "\n",
        "\n",
        "---\n",
        "\n",
        "\n",
        "This claim appears to be a tweet or social media post promoting a segment on Sky News with Ed Conway explaining the latest COVID-19 data and government announcement. It also provides links to further information.\n",
        "\n",
        "**Here's a breakdown of the elements:**\n",
        "\n",
        "* **\"6 10\"**: This likely refers to the time the tweet was posted, possibly 6:10 AM or PM.\n",
        "* **\"Sky s\"**:  This is likely a shortened form of \"Sky News's\".\n",
        "* **\"EdConwaySky\"**: This is probably the Twitter handle for Ed Conway, who is likely a Sky News correspondent.\n",
        "* **\"explains the latest COVID19 data and government announcement\"**: This describes the content of the segment being promoted.\n",
        "* **\"Get more on the coronavirus data here\"**: This is a call to action, encouraging viewers to click on the provided links.\n",
        "* **\"https t co jvGZlSbFjH https t co PygSKXesBg\"**: These are shortened URLs likely leading to Sky News's website or relevant articles.  It's important to note that link shorteners like \"t.co\" can hide the true destination of the link.\n",
        "\n",
        "**Potential Issues and Things to Consider:**\n",
        "\n",
        "* **Data Accuracy:**  While the claim itself isn't making a specific factual statement, the accuracy of the COVID-19 data presented in the Sky News segment would be dependent on the sources used by Ed Conway.\n",
        "* **Bias:**  It's important to be aware of potential biases. Sky News, like any news organization, has a perspective. Viewers should critically evaluate the information presented.\n",
        "* **Outdated Information:**  COVID-19 data and government announcements change rapidly. The information presented in the segment might be outdated by the time you see the tweet.\n",
        "* **Link Safety:** Always be cautious when clicking on shortened links, especially from unfamiliar sources.  While Sky News is a reputable organization, it's good practice to be vigilant.  You can use a link expander to see the actual URL before clicking.\n",
        "\n",
        "**In Conclusion:**\n",
        "\n",
        "The claim itself is a straightforward promotion of a news segment.  However, critical evaluation of the information presented in the segment is still necessary.  Consider the source, potential biases, the date of the information, and always be cautious when clicking on links.\n",
        "\n",
        "\n",
        "---\n",
        "\n",
        "\n"
      ],
      "metadata": {
        "id": "xXGoc0vdULFW"
      }
    },
    {
      "cell_type": "markdown",
      "source": [
        "#5. Model Initialization"
      ],
      "metadata": {
        "id": "G5hIuDJZENIa"
      }
    },
    {
      "cell_type": "code",
      "source": [
        "!pip install --upgrade google-genai\n",
        "!gcloud auth application-default login\n",
        "!pip install --upgrade google-cloud-aiplatform"
      ],
      "metadata": {
        "id": "97wlUenNTxsG"
      },
      "execution_count": null,
      "outputs": []
    },
    {
      "cell_type": "code",
      "source": [
        "\n",
        "from google.colab import auth as google_auth\n",
        "google_auth.authenticate_user()\n",
        "\n",
        "import vertexai\n",
        "from vertexai.generative_models import GenerativeModel\n",
        "from vertexai.preview.tuning import sft\n",
        "\n",
        "vertexai.init(project=\"sit319-25t1-nguyen-ae806d0\", location=\"us-central1\")#sit319 because my fund for Google Cloud belong to SIT319\n",
        "\n",
        "gemini_pro = GenerativeModel(\"gemini-2.0-flash-lite-001\")\n",
        "\n",
        "sft_tuning_job = sft.train(\n",
        "    source_model=gemini_pro,\n",
        "    train_dataset=\"gs://daftt/Cleaned_Covid19_Train-7.jsonl\",\n",
        "    tuned_model_display_name=\"covid_tuning\",\n",
        "    epochs=100,\n",
        "    learning_rate_multiplier=1,\n",
        ")\n"
      ],
      "metadata": {
        "id": "Px4UAskvPlJf"
      },
      "execution_count": null,
      "outputs": []
    },
    {
      "cell_type": "markdown",
      "source": [
        "\n",
        "\n",
        "---\n",
        "\n",
        "/usr/local/lib/python3.11/dist-packages/google/auth/_default.py:76: UserWarning: Your application has authenticated using end user credentials from Google Cloud SDK without a quota project. You might receive a \"quota exceeded\" or \"API not enabled\" error. See the following page for troubleshooting: https://cloud.google.com/docs/authentication/adc-troubleshooting/user-creds.\n",
        "  warnings.warn(_CLOUD_SDK_CREDENTIALS_WARNING)\n",
        "\n",
        "INFO:vertexai.tuning._tuning:Creating SupervisedTuningJob\n",
        "/usr/local/lib/python3.11/dist-packages/google/auth/_default.py:76: UserWarning: Your application has authenticated using end user credentials from Google Cloud SDK without a quota project. You might receive a \"quota exceeded\" or \"API not enabled\" error. See the following page for troubleshooting: https://cloud.google.com/docs/authentication/adc-troubleshooting/user-creds.\n",
        "  warnings.warn(_CLOUD_SDK_CREDENTIALS_WARNING)\n",
        "\n",
        "INFO:vertexai.tuning._tuning:SupervisedTuningJob created. Resource name: projects/181085238689/locations/us-central1/tuningJobs/1012173862948831232\n",
        "\n",
        "INFO:vertexai.tuning._tuning:To use this SupervisedTuningJob in another session:\n",
        "INFO:vertexai.tuning._tuning:tuning_job = sft.SupervisedTuningJob('projects/181085238689/locations/us-central1/tuningJobs/1012173862948831232')\n",
        "\n",
        "INFO:vertexai.tuning._tuning:View Tuning Job:\n",
        "https://console.cloud.google.com/vertex-ai/generative/language/locations/us-central1/tuning/tuningJob/1012173862948831232?project=181085238689\n",
        "\n",
        "\n",
        "\n",
        "---\n",
        "\n"
      ],
      "metadata": {
        "id": "HIuYO0dCUTAk"
      }
    },
    {
      "cell_type": "markdown",
      "source": [
        "#6. Training and Evaluation fine tuning: Gemini 2.0 Flash + BERT"
      ],
      "metadata": {
        "id": "BIp9_ymxp8nC"
      }
    },
    {
      "cell_type": "markdown",
      "source": [
        "A. Pre-train on HealthFact + SciFact for General fact-checking ability."
      ],
      "metadata": {
        "id": "dVO7TDavELNo"
      }
    },
    {
      "cell_type": "code",
      "source": [
        "import pandas as pd\n",
        "import torch\n",
        "from sklearn.metrics import accuracy_score, precision_score, recall_score, f1_score, roc_auc_score\n",
        "from transformers import BertTokenizer, BertForSequenceClassification, Trainer, TrainingArguments\n",
        "from sklearn.preprocessing import LabelEncoder\n",
        "# Load the combined pre-training dataset (HealthFact + SciFact)\n",
        "train_combined_data = pd.read_json('combined_pretrain_data.jsonl', lines=True)\n",
        "val_combined_data = pd.read_json('combined_pretrain_test_data.jsonl', lines=True)\n",
        "\n",
        "# Load the COVID-19 fine-tuning dataset\n",
        "train_covid_data = pd.read_json('covid_finetune_data.jsonl', lines=True)\n",
        "val_covid_data = pd.read_json('covid_finetune_test_data.jsonl', lines=True)\n",
        "\n",
        "# Assuming the datasets have 'claim' and 'label' columns\n",
        "# Extract claims and labels from nested structure for pre-training\n",
        "train_claims = train_combined_data['contents'].apply(lambda x: x[0]['parts'][0]['text']).tolist()\n",
        "train_labels = train_combined_data['contents'].apply(lambda x: x[1]['parts'][0]['text']).tolist()\n",
        "val_claims = val_combined_data['contents'].apply(lambda x: x[0]['parts'][0]['text']).tolist()\n",
        "val_labels = val_combined_data['contents'].apply(lambda x: x[1]['parts'][0]['text']).tolist()\n",
        "\n",
        "# Convert string labels to integers\n",
        "label_encoder = LabelEncoder()\n",
        "train_labels = label_encoder.fit_transform(train_labels)\n",
        "val_labels = label_encoder.transform(val_labels)\n",
        "\n",
        "# Load the BERT tokenizer\n",
        "tokenizer = BertTokenizer.from_pretrained('bert-base-uncased')\n",
        "\n",
        "# Tokenize the input data for pre-training\n",
        "train_encodings = tokenizer(train_claims, truncation=True, padding=True, max_length=128)\n",
        "val_encodings = tokenizer(val_claims, truncation=True, padding=True, max_length=128)\n",
        "\n",
        "# Create a dataset class\n",
        "class ClaimsDataset(torch.utils.data.Dataset):\n",
        "    def __init__(self, encodings, labels):\n",
        "        self.encodings = encodings\n",
        "        self.labels = labels\n",
        "\n",
        "    def __getitem__(self, idx):\n",
        "        item = {key: torch.tensor(val[idx]) for key, val in self.encodings.items()}\n",
        "        item['labels'] = torch.tensor(self.labels[idx])\n",
        "        return item\n",
        "\n",
        "    def __len__(self):\n",
        "        return len(self.labels)\n",
        "\n",
        "# Create datasets for pre-training\n",
        "train_dataset = ClaimsDataset(train_encodings, train_labels)\n",
        "val_dataset = ClaimsDataset(val_encodings, val_labels)\n",
        "\n",
        "# Load the BERT model\n",
        "model = BertForSequenceClassification.from_pretrained('bert-base-uncased', num_labels=len(set(train_labels)))\n",
        "\n",
        "# Define training arguments for pre-training with validation loss logging\n",
        "training_args = TrainingArguments(\n",
        "    output_dir='./results/pretrain',\n",
        "    num_train_epochs=3,\n",
        "    per_device_train_batch_size=8,\n",
        "    per_device_eval_batch_size=8,\n",
        "    warmup_steps=500,\n",
        "    weight_decay=0.01,\n",
        "    logging_dir='./logs/pretrain',\n",
        "    logging_steps=10,\n",
        "    eval_strategy=\"epoch\",  # Updated to eval_strategy\n",
        ")\n",
        "\n",
        "# Create a Trainer instance for pre-training\n",
        "trainer = Trainer(\n",
        "    model=model,\n",
        "    args=training_args,\n",
        "    train_dataset=train_dataset,\n",
        "    eval_dataset=val_dataset,\n",
        "    compute_metrics=lambda p: {\n",
        "        'accuracy': accuracy_score(p.label_ids, p.predictions.argmax(-1)),\n",
        "        'precision': precision_score(p.label_ids, p.predictions.argmax(-1), average='weighted'),\n",
        "        'recall': recall_score(p.label_ids, p.predictions.argmax(-1), average='weighted'),\n",
        "        'f1': f1_score(p.label_ids, p.predictions.argmax(-1), average='weighted'),\n",
        "        'roc_auc': roc_auc_score(p.label_ids, torch.softmax(torch.tensor(p.predictions), dim=1).numpy(), multi_class='ovr'),\n",
        "    },\n",
        ")\n",
        "\n",
        "# Pre-train the model\n",
        "trainer.train()\n",
        "# Save the model and tokenizer\n",
        "model_save_path = \"./my_trained_model\"  # Choose your desired save path\n",
        "model.save_pretrained(model_save_path)\n",
        "tokenizer.save_pretrained(model_save_path)\n",
        "\n",
        "print(f\"Model and tokenizer saved to: {model_save_path}\")"
      ],
      "metadata": {
        "colab": {
          "base_uri": "https://localhost:8080/",
          "height": 756,
          "referenced_widgets": [
            "769fc8b20e334397b559ed8783c93a83",
            "3ced7224cfce4c95841e632c0d3f3209",
            "7069fff76c6e4f68a881445c9cfcaa89",
            "27fd6b81d93d4a49b5645f9e873c164c",
            "63b6d5f706354198896c69e676ee1425",
            "bb5598422d04422286c7518ca5f27cd9",
            "23b921efb1a143a08d45bf542eefb7be",
            "8ef9e59156524607b570488006e361b3",
            "e533abf0e1c346738b21a5dc72a5da3b",
            "93c1f91252134db49c0fc9ff56431999",
            "a76c18125e804b839a1fc940ca8989de",
            "e44a0495420b4554a5d45a0e0e02c906",
            "69e1ee93f9a34dfaa343bd3fcea9093d",
            "aff961c619dd40e6a82ba95ce6d0b568",
            "d2d6380293834c8098886f8700de4a78",
            "dc11b3fc83bd42f7af440715ac9c275d",
            "137eabe4b75b4179883b240784bcaaf8",
            "91ab0bdc1b86445090fff476090d04be",
            "e154fe78dadd4fa8abc73e334eaad0bb",
            "ec2d6b9540c7468eb91409f68261a306",
            "a42a64fe98064517a268aa718fc728ed",
            "e7fe94553aeb411399a4c5b9d742c8f1",
            "b1d4fbd490214c46b7fd17dbb535275e",
            "c52c0d20122d419db29a2f0bbb6f651a",
            "d8ca5cbb5fa34523b1c4a5ef5d96f214",
            "18d9038bb1a54628a6f31bce956dde0a",
            "fd964740a45843e4b1bfe0711de8ed5e",
            "8108b3d7750f425aa67a37d020d26de6",
            "af9ef968cacc41c289744dd9d89df065",
            "e0b1ea5bd98b41cc805d24313a83ae29",
            "e7e97cfb0dfc4c2da185a189eb635473",
            "c6f93091150c49f9b11bace3e24da1bf",
            "55b4641a761b4234a53f7fb1c4c434f1",
            "8ec71db33a504962bf56378ecd86c038",
            "d18df95858f64df892ede7372831bdff",
            "e7aa2ecb8db843a983744459d0201f21",
            "85616995236c41b3bb2d836612689e2f",
            "74896107ed474705a0792a04aed6e799",
            "bc79896bfe88476c904ce71311e3b0bd",
            "0ed066e825654d87ba70108b9b18a492",
            "21c7e2b4002f4dbeb758ac7904c9a693",
            "a35e167b55754e448cba3053d18b0d73",
            "bad8f881c3134c9d800b10a8e20e9903",
            "4a0bc609eec54d4c89ed9a94d573ad12",
            "2ff70ae6fd7d4a49806eb8c4b9b246d2",
            "782aa8f6d1b34d54ab1cb0b0c4e30821",
            "ca46cd81b20d4f0c91ade7591630f78a",
            "ae67a25ff8cc41ffbe5b8790459350a4",
            "95d0be1295a34086a235b6aa4196417d",
            "8dc20a6ba3e54b419ad931941f3f3fce",
            "7eb724e550334af0a80efba6bd6ee2b1",
            "618d07d786e04b318509aaf7c87062c4",
            "4a8b1a42f2e44d10a02a37e35bba2637",
            "0d62d41180794d669d862899d4b30fbd",
            "568725ab7a034fd8bdd01c9360571ac6"
          ]
        },
        "id": "YhePayrT7zD4",
        "outputId": "99eb00c0-389f-4412-a0d8-89aab3790a1b"
      },
      "execution_count": null,
      "outputs": [
        {
          "output_type": "stream",
          "name": "stderr",
          "text": [
            "/usr/local/lib/python3.11/dist-packages/huggingface_hub/utils/_auth.py:94: UserWarning: \n",
            "The secret `HF_TOKEN` does not exist in your Colab secrets.\n",
            "To authenticate with the Hugging Face Hub, create a token in your settings tab (https://huggingface.co/settings/tokens), set it as secret in your Google Colab and restart your session.\n",
            "You will be able to reuse this secret in all of your notebooks.\n",
            "Please note that authentication is recommended but still optional to access public models or datasets.\n",
            "  warnings.warn(\n"
          ]
        },
        {
          "output_type": "display_data",
          "data": {
            "text/plain": [
              "tokenizer_config.json:   0%|          | 0.00/48.0 [00:00<?, ?B/s]"
            ],
            "application/vnd.jupyter.widget-view+json": {
              "version_major": 2,
              "version_minor": 0,
              "model_id": "769fc8b20e334397b559ed8783c93a83"
            }
          },
          "metadata": {}
        },
        {
          "output_type": "display_data",
          "data": {
            "text/plain": [
              "vocab.txt:   0%|          | 0.00/232k [00:00<?, ?B/s]"
            ],
            "application/vnd.jupyter.widget-view+json": {
              "version_major": 2,
              "version_minor": 0,
              "model_id": "e44a0495420b4554a5d45a0e0e02c906"
            }
          },
          "metadata": {}
        },
        {
          "output_type": "display_data",
          "data": {
            "text/plain": [
              "tokenizer.json:   0%|          | 0.00/466k [00:00<?, ?B/s]"
            ],
            "application/vnd.jupyter.widget-view+json": {
              "version_major": 2,
              "version_minor": 0,
              "model_id": "b1d4fbd490214c46b7fd17dbb535275e"
            }
          },
          "metadata": {}
        },
        {
          "output_type": "display_data",
          "data": {
            "text/plain": [
              "config.json:   0%|          | 0.00/570 [00:00<?, ?B/s]"
            ],
            "application/vnd.jupyter.widget-view+json": {
              "version_major": 2,
              "version_minor": 0,
              "model_id": "8ec71db33a504962bf56378ecd86c038"
            }
          },
          "metadata": {}
        },
        {
          "output_type": "display_data",
          "data": {
            "text/plain": [
              "model.safetensors:   0%|          | 0.00/440M [00:00<?, ?B/s]"
            ],
            "application/vnd.jupyter.widget-view+json": {
              "version_major": 2,
              "version_minor": 0,
              "model_id": "2ff70ae6fd7d4a49806eb8c4b9b246d2"
            }
          },
          "metadata": {}
        },
        {
          "output_type": "stream",
          "name": "stderr",
          "text": [
            "Some weights of BertForSequenceClassification were not initialized from the model checkpoint at bert-base-uncased and are newly initialized: ['classifier.bias', 'classifier.weight']\n",
            "You should probably TRAIN this model on a down-stream task to be able to use it for predictions and inference.\n",
            "\u001b[34m\u001b[1mwandb\u001b[0m: \u001b[33mWARNING\u001b[0m The `run_name` is currently set to the same value as `TrainingArguments.output_dir`. If this was not intended, please specify a different run name by setting the `TrainingArguments.run_name` parameter.\n"
          ]
        },
        {
          "output_type": "display_data",
          "data": {
            "text/plain": [
              "<IPython.core.display.Javascript object>"
            ],
            "application/javascript": [
              "\n",
              "        window._wandbApiKey = new Promise((resolve, reject) => {\n",
              "            function loadScript(url) {\n",
              "            return new Promise(function(resolve, reject) {\n",
              "                let newScript = document.createElement(\"script\");\n",
              "                newScript.onerror = reject;\n",
              "                newScript.onload = resolve;\n",
              "                document.body.appendChild(newScript);\n",
              "                newScript.src = url;\n",
              "            });\n",
              "            }\n",
              "            loadScript(\"https://cdn.jsdelivr.net/npm/postmate/build/postmate.min.js\").then(() => {\n",
              "            const iframe = document.createElement('iframe')\n",
              "            iframe.style.cssText = \"width:0;height:0;border:none\"\n",
              "            document.body.appendChild(iframe)\n",
              "            const handshake = new Postmate({\n",
              "                container: iframe,\n",
              "                url: 'https://wandb.ai/authorize'\n",
              "            });\n",
              "            const timeout = setTimeout(() => reject(\"Couldn't auto authenticate\"), 5000)\n",
              "            handshake.then(function(child) {\n",
              "                child.on('authorize', data => {\n",
              "                    clearTimeout(timeout)\n",
              "                    resolve(data)\n",
              "                });\n",
              "            });\n",
              "            })\n",
              "        });\n",
              "    "
            ]
          },
          "metadata": {}
        },
        {
          "output_type": "stream",
          "name": "stderr",
          "text": [
            "\u001b[34m\u001b[1mwandb\u001b[0m: Logging into wandb.ai. (Learn how to deploy a W&B server locally: https://wandb.me/wandb-server)\n",
            "\u001b[34m\u001b[1mwandb\u001b[0m: You can find your API key in your browser here: https://wandb.ai/authorize?ref=models\n",
            "wandb: Paste an API key from your profile and hit enter:"
          ]
        },
        {
          "name": "stdout",
          "output_type": "stream",
          "text": [
            " ··········\n"
          ]
        },
        {
          "output_type": "stream",
          "name": "stderr",
          "text": [
            "\u001b[34m\u001b[1mwandb\u001b[0m: \u001b[33mWARNING\u001b[0m If you're specifying your api key in code, ensure this code is not shared publicly.\n",
            "\u001b[34m\u001b[1mwandb\u001b[0m: \u001b[33mWARNING\u001b[0m Consider setting the WANDB_API_KEY environment variable, or running `wandb login` from the command line.\n",
            "\u001b[34m\u001b[1mwandb\u001b[0m: No netrc file found, creating one.\n",
            "\u001b[34m\u001b[1mwandb\u001b[0m: Appending key for api.wandb.ai to your netrc file: /root/.netrc\n",
            "\u001b[34m\u001b[1mwandb\u001b[0m: Currently logged in as: \u001b[33mhieunguyen23032001\u001b[0m (\u001b[33mhieunguyen23032001-deakin-university\u001b[0m) to \u001b[32mhttps://api.wandb.ai\u001b[0m. Use \u001b[1m`wandb login --relogin`\u001b[0m to force relogin\n"
          ]
        },
        {
          "output_type": "display_data",
          "data": {
            "text/plain": [
              "<IPython.core.display.HTML object>"
            ],
            "text/html": [
              "Tracking run with wandb version 0.19.11"
            ]
          },
          "metadata": {}
        },
        {
          "output_type": "display_data",
          "data": {
            "text/plain": [
              "<IPython.core.display.HTML object>"
            ],
            "text/html": [
              "Run data is saved locally in <code>/content/wandb/run-20250513_052637-k7ad0pp8</code>"
            ]
          },
          "metadata": {}
        },
        {
          "output_type": "display_data",
          "data": {
            "text/plain": [
              "<IPython.core.display.HTML object>"
            ],
            "text/html": [
              "Syncing run <strong><a href='https://wandb.ai/hieunguyen23032001-deakin-university/huggingface/runs/k7ad0pp8' target=\"_blank\">./results/pretrain</a></strong> to <a href='https://wandb.ai/hieunguyen23032001-deakin-university/huggingface' target=\"_blank\">Weights & Biases</a> (<a href='https://wandb.me/developer-guide' target=\"_blank\">docs</a>)<br>"
            ]
          },
          "metadata": {}
        },
        {
          "output_type": "display_data",
          "data": {
            "text/plain": [
              "<IPython.core.display.HTML object>"
            ],
            "text/html": [
              " View project at <a href='https://wandb.ai/hieunguyen23032001-deakin-university/huggingface' target=\"_blank\">https://wandb.ai/hieunguyen23032001-deakin-university/huggingface</a>"
            ]
          },
          "metadata": {}
        },
        {
          "output_type": "display_data",
          "data": {
            "text/plain": [
              "<IPython.core.display.HTML object>"
            ],
            "text/html": [
              " View run at <a href='https://wandb.ai/hieunguyen23032001-deakin-university/huggingface/runs/k7ad0pp8' target=\"_blank\">https://wandb.ai/hieunguyen23032001-deakin-university/huggingface/runs/k7ad0pp8</a>"
            ]
          },
          "metadata": {}
        },
        {
          "output_type": "display_data",
          "data": {
            "text/plain": [
              "<IPython.core.display.HTML object>"
            ],
            "text/html": [
              "\n",
              "    <div>\n",
              "      \n",
              "      <progress value='4152' max='4152' style='width:300px; height:20px; vertical-align: middle;'></progress>\n",
              "      [4152/4152 15:29, Epoch 3/3]\n",
              "    </div>\n",
              "    <table border=\"1\" class=\"dataframe\">\n",
              "  <thead>\n",
              " <tr style=\"text-align: left;\">\n",
              "      <th>Epoch</th>\n",
              "      <th>Training Loss</th>\n",
              "      <th>Validation Loss</th>\n",
              "      <th>Accuracy</th>\n",
              "      <th>Precision</th>\n",
              "      <th>Recall</th>\n",
              "      <th>F1</th>\n",
              "      <th>Roc Auc</th>\n",
              "    </tr>\n",
              "  </thead>\n",
              "  <tbody>\n",
              "    <tr>\n",
              "      <td>1</td>\n",
              "      <td>0.297300</td>\n",
              "      <td>0.288650</td>\n",
              "      <td>0.875817</td>\n",
              "      <td>0.885717</td>\n",
              "      <td>0.875817</td>\n",
              "      <td>0.877511</td>\n",
              "      <td>0.989003</td>\n",
              "    </tr>\n",
              "    <tr>\n",
              "      <td>2</td>\n",
              "      <td>0.357900</td>\n",
              "      <td>0.281554</td>\n",
              "      <td>0.890077</td>\n",
              "      <td>0.892447</td>\n",
              "      <td>0.890077</td>\n",
              "      <td>0.889494</td>\n",
              "      <td>0.991119</td>\n",
              "    </tr>\n",
              "    <tr>\n",
              "      <td>3</td>\n",
              "      <td>0.208000</td>\n",
              "      <td>0.349890</td>\n",
              "      <td>0.898990</td>\n",
              "      <td>0.902847</td>\n",
              "      <td>0.898990</td>\n",
              "      <td>0.900310</td>\n",
              "      <td>0.991414</td>\n",
              "    </tr>\n",
              "  </tbody>\n",
              "</table><p>"
            ]
          },
          "metadata": {}
        },
        {
          "output_type": "stream",
          "name": "stdout",
          "text": [
            "Model and tokenizer saved to: ./my_trained_model\n"
          ]
        }
      ]
    },
    {
      "cell_type": "markdown",
      "source": [
        "B. Training and Evaluation Covid Fake News Dataset"
      ],
      "metadata": {
        "id": "ztvTrWw8EW2H"
      }
    },
    {
      "cell_type": "code",
      "source": [
        "# Prepare the training and validation data\n",
        "# Prepare the training and validation data\n",
        "train_covid_claims = train_covid_data['contents'].apply(lambda x: x[0]['parts'][0]['text']).tolist()\n",
        "train_covid_labels = train_covid_data['contents'].apply(lambda x: x[1]['parts'][0]['text']).tolist()\n",
        "val_covid_claims = val_covid_data['contents'].apply(lambda x: x[0]['parts'][0]['text']).tolist()\n",
        "val_covid_labels = val_covid_data['contents'].apply(lambda x: x[1]['parts'][0]['text']).tolist()\n",
        "\n",
        "# Convert string labels to integers\n",
        "label_encoder = LabelEncoder()\n",
        "train_covid_labels = label_encoder.fit_transform(train_covid_labels)\n",
        "val_covid_labels = label_encoder.transform(val_covid_labels)\n",
        "\n",
        "# Load the BERT tokenizer\n",
        "tokenizer = BertTokenizer.from_pretrained('bert-base-uncased')\n",
        "\n",
        "# Tokenize the input data for pre-training\n",
        "train_encodings = tokenizer(train_covid_claims, truncation=True, padding=True, max_length=128)\n",
        "val_encodings = tokenizer(val_covid_claims, truncation=True, padding=True, max_length=128)\n",
        "\n",
        "# Create datasets for pre-training\n",
        "train_dataset = ClaimsDataset(train_encodings, train_labels)\n",
        "val_dataset = ClaimsDataset(val_encodings, val_labels)\n",
        "\n",
        "# Load the BERT model\n",
        "model = BertForSequenceClassification.from_pretrained('bert-base-uncased', num_labels=len(set(train_covid_labels)))\n",
        "\n",
        "# Pre-train the model\n",
        "trainer.train()"
      ],
      "metadata": {
        "id": "AP1HZrcN-YTR",
        "colab": {
          "base_uri": "https://localhost:8080/",
          "height": 273
        },
        "outputId": "1d8d41cf-10b3-41b4-e136-220213b29793"
      },
      "execution_count": null,
      "outputs": [
        {
          "output_type": "stream",
          "name": "stderr",
          "text": [
            "Some weights of BertForSequenceClassification were not initialized from the model checkpoint at bert-base-uncased and are newly initialized: ['classifier.bias', 'classifier.weight']\n",
            "You should probably TRAIN this model on a down-stream task to be able to use it for predictions and inference.\n"
          ]
        },
        {
          "output_type": "display_data",
          "data": {
            "text/plain": [
              "<IPython.core.display.HTML object>"
            ],
            "text/html": [
              "\n",
              "    <div>\n",
              "      \n",
              "      <progress value='4152' max='4152' style='width:300px; height:20px; vertical-align: middle;'></progress>\n",
              "      [4152/4152 15:42, Epoch 3/3]\n",
              "    </div>\n",
              "    <table border=\"1\" class=\"dataframe\">\n",
              "  <thead>\n",
              " <tr style=\"text-align: left;\">\n",
              "      <th>Epoch</th>\n",
              "      <th>Training Loss</th>\n",
              "      <th>Validation Loss</th>\n",
              "      <th>Accuracy</th>\n",
              "      <th>Precision</th>\n",
              "      <th>Recall</th>\n",
              "      <th>F1</th>\n",
              "      <th>Roc Auc</th>\n",
              "    </tr>\n",
              "  </thead>\n",
              "  <tbody>\n",
              "    <tr>\n",
              "      <td>1</td>\n",
              "      <td>0.401200</td>\n",
              "      <td>0.396093</td>\n",
              "      <td>0.887701</td>\n",
              "      <td>0.890988</td>\n",
              "      <td>0.887701</td>\n",
              "      <td>0.888816</td>\n",
              "      <td>0.990407</td>\n",
              "    </tr>\n",
              "    <tr>\n",
              "      <td>2</td>\n",
              "      <td>0.177600</td>\n",
              "      <td>0.489731</td>\n",
              "      <td>0.888295</td>\n",
              "      <td>0.889070</td>\n",
              "      <td>0.888295</td>\n",
              "      <td>0.887639</td>\n",
              "      <td>0.990609</td>\n",
              "    </tr>\n",
              "    <tr>\n",
              "      <td>3</td>\n",
              "      <td>0.119300</td>\n",
              "      <td>0.606078</td>\n",
              "      <td>0.888889</td>\n",
              "      <td>0.892492</td>\n",
              "      <td>0.888889</td>\n",
              "      <td>0.890275</td>\n",
              "      <td>0.990721</td>\n",
              "    </tr>\n",
              "  </tbody>\n",
              "</table><p>"
            ]
          },
          "metadata": {}
        },
        {
          "output_type": "execute_result",
          "data": {
            "text/plain": [
              "TrainOutput(global_step=4152, training_loss=0.15090772818669906, metrics={'train_runtime': 942.5088, 'train_samples_per_second': 35.22, 'train_steps_per_second': 4.405, 'total_flos': 2183571289474560.0, 'train_loss': 0.15090772818669906, 'epoch': 3.0})"
            ]
          },
          "metadata": {},
          "execution_count": 11
        }
      ]
    },
    {
      "cell_type": "markdown",
      "source": [
        "#7. Test Prompt and Label"
      ],
      "metadata": {
        "id": "9pBr10wrTz1o"
      }
    },
    {
      "cell_type": "code",
      "source": [
        "def generate():\n",
        "  client = genai.Client(\n",
        "      vertexai=True,\n",
        "      project=\"181085238689\",\n",
        "      location=\"us-central1\",\n",
        "  )\n",
        "\n",
        "  msg3_text1 = types.Part.from_text(text=\"\"\"Clearly the Obama administration did not leave any kind of game plan for something like this\"\"\")\n",
        "\n",
        "  model = \"projects/181085238689/locations/us-central1/endpoints/5419770989749731328\"\n",
        "  contents = [\n",
        "    types.Content(\n",
        "      role=\"user\",\n",
        "      parts=[\n",
        "        types.Part.from_text(text=\"\"\"Multiple Facebook posts claim that Aussies will be fined if they are found to be talking about conspiracies to do with COVID 19 The posts included a screenshot of a segment from an Australian breakfast television show as evidence for the claim\"\"\")\n",
        "      ]\n",
        "    ),\n",
        "    types.Content(\n",
        "      role=\"model\",\n",
        "      parts=[\n",
        "        types.Part.from_text(text=label)\n",
        "      ]\n",
        "    ),\n",
        "    types.Content(\n",
        "      role=\"user\",\n",
        "      parts=[\n",
        "        msg3_text1\n",
        "      ]\n",
        "    ),\n",
        "  ]\n",
        "  generate_content_config = types.GenerateContentConfig(\n",
        "    temperature = 0.2,\n",
        "    top_p = 0.8,\n",
        "    max_output_tokens = 1024,\n",
        "    response_modalities = [\"TEXT\"],\n",
        "    safety_settings = [types.SafetySetting(\n",
        "      category=\"HARM_CATEGORY_HATE_SPEECH\",\n",
        "      threshold=\"OFF\"\n",
        "    ),types.SafetySetting(\n",
        "      category=\"HARM_CATEGORY_DANGEROUS_CONTENT\",\n",
        "      threshold=\"OFF\"\n",
        "    ),types.SafetySetting(\n",
        "      category=\"HARM_CATEGORY_SEXUALLY_EXPLICIT\",\n",
        "      threshold=\"OFF\"\n",
        "    ),types.SafetySetting(\n",
        "      category=\"HARM_CATEGORY_HARASSMENT\",\n",
        "      threshold=\"OFF\"\n",
        "    )],\n",
        "  )\n",
        "\n",
        "  for chunk in client.models.generate_content_stream(\n",
        "    model = model,\n",
        "    contents = contents,\n",
        "    config = generate_content_config,\n",
        "    ):\n",
        "    print(chunk.text, end=\"\")\n",
        "\n",
        "generate()"
      ],
      "metadata": {
        "id": "ABEfjnWNUXXa"
      },
      "execution_count": null,
      "outputs": []
    },
    {
      "cell_type": "code",
      "source": [
        "/usr/local/lib/python3.11/dist-packages/google/auth/_default.py:76: UserWarning: Your application has authenticated using end user credentials from Google Cloud SDK without a quota project. You might receive a \"quota exceeded\" or \"API not enabled\" error. See the following page for troubleshooting: https://cloud.google.com/docs/authentication/adc-troubleshooting/user-creds.\n",
        "  warnings.warn(_CLOUD_SDK_CREDENTIALS_WARNING)\n",
        "\n",
        "fake"
      ],
      "metadata": {
        "id": "tBs9jQhiTMd2"
      },
      "execution_count": null,
      "outputs": []
    },
    {
      "cell_type": "markdown",
      "source": [
        "# 8. Implement the Confidence Scoring System"
      ],
      "metadata": {
        "id": "XH09B9P4G2bT"
      }
    },
    {
      "cell_type": "code",
      "source": [
        "!pip install transformers torch requests beautifulsoup4"
      ],
      "metadata": {
        "colab": {
          "base_uri": "https://localhost:8080/"
        },
        "id": "Q9E72SkgFWpf",
        "outputId": "1446d843-1942-44d9-8b50-ff9ef831e6c4",
        "collapsed": true
      },
      "execution_count": null,
      "outputs": [
        {
          "output_type": "stream",
          "name": "stdout",
          "text": [
            "Requirement already satisfied: transformers in /usr/local/lib/python3.11/dist-packages (4.51.3)\n",
            "Requirement already satisfied: torch in /usr/local/lib/python3.11/dist-packages (2.6.0+cu124)\n",
            "Requirement already satisfied: requests in /usr/local/lib/python3.11/dist-packages (2.32.3)\n",
            "Requirement already satisfied: beautifulsoup4 in /usr/local/lib/python3.11/dist-packages (4.13.4)\n",
            "Requirement already satisfied: filelock in /usr/local/lib/python3.11/dist-packages (from transformers) (3.18.0)\n",
            "Requirement already satisfied: huggingface-hub<1.0,>=0.30.0 in /usr/local/lib/python3.11/dist-packages (from transformers) (0.30.2)\n",
            "Requirement already satisfied: numpy>=1.17 in /usr/local/lib/python3.11/dist-packages (from transformers) (2.0.2)\n",
            "Requirement already satisfied: packaging>=20.0 in /usr/local/lib/python3.11/dist-packages (from transformers) (24.2)\n",
            "Requirement already satisfied: pyyaml>=5.1 in /usr/local/lib/python3.11/dist-packages (from transformers) (6.0.2)\n",
            "Requirement already satisfied: regex!=2019.12.17 in /usr/local/lib/python3.11/dist-packages (from transformers) (2024.11.6)\n",
            "Requirement already satisfied: tokenizers<0.22,>=0.21 in /usr/local/lib/python3.11/dist-packages (from transformers) (0.21.1)\n",
            "Requirement already satisfied: safetensors>=0.4.3 in /usr/local/lib/python3.11/dist-packages (from transformers) (0.5.3)\n",
            "Requirement already satisfied: tqdm>=4.27 in /usr/local/lib/python3.11/dist-packages (from transformers) (4.67.1)\n",
            "Requirement already satisfied: typing-extensions>=4.10.0 in /usr/local/lib/python3.11/dist-packages (from torch) (4.13.2)\n",
            "Requirement already satisfied: networkx in /usr/local/lib/python3.11/dist-packages (from torch) (3.4.2)\n",
            "Requirement already satisfied: jinja2 in /usr/local/lib/python3.11/dist-packages (from torch) (3.1.6)\n",
            "Requirement already satisfied: fsspec in /usr/local/lib/python3.11/dist-packages (from torch) (2025.3.2)\n",
            "Requirement already satisfied: nvidia-cuda-nvrtc-cu12==12.4.127 in /usr/local/lib/python3.11/dist-packages (from torch) (12.4.127)\n",
            "Requirement already satisfied: nvidia-cuda-runtime-cu12==12.4.127 in /usr/local/lib/python3.11/dist-packages (from torch) (12.4.127)\n",
            "Requirement already satisfied: nvidia-cuda-cupti-cu12==12.4.127 in /usr/local/lib/python3.11/dist-packages (from torch) (12.4.127)\n",
            "Requirement already satisfied: nvidia-cudnn-cu12==9.1.0.70 in /usr/local/lib/python3.11/dist-packages (from torch) (9.1.0.70)\n",
            "Requirement already satisfied: nvidia-cublas-cu12==12.4.5.8 in /usr/local/lib/python3.11/dist-packages (from torch) (12.4.5.8)\n",
            "Requirement already satisfied: nvidia-cufft-cu12==11.2.1.3 in /usr/local/lib/python3.11/dist-packages (from torch) (11.2.1.3)\n",
            "Requirement already satisfied: nvidia-curand-cu12==10.3.5.147 in /usr/local/lib/python3.11/dist-packages (from torch) (10.3.5.147)\n",
            "Requirement already satisfied: nvidia-cusolver-cu12==11.6.1.9 in /usr/local/lib/python3.11/dist-packages (from torch) (11.6.1.9)\n",
            "Requirement already satisfied: nvidia-cusparse-cu12==12.3.1.170 in /usr/local/lib/python3.11/dist-packages (from torch) (12.3.1.170)\n",
            "Requirement already satisfied: nvidia-cusparselt-cu12==0.6.2 in /usr/local/lib/python3.11/dist-packages (from torch) (0.6.2)\n",
            "Requirement already satisfied: nvidia-nccl-cu12==2.21.5 in /usr/local/lib/python3.11/dist-packages (from torch) (2.21.5)\n",
            "Requirement already satisfied: nvidia-nvtx-cu12==12.4.127 in /usr/local/lib/python3.11/dist-packages (from torch) (12.4.127)\n",
            "Requirement already satisfied: nvidia-nvjitlink-cu12==12.4.127 in /usr/local/lib/python3.11/dist-packages (from torch) (12.4.127)\n",
            "Requirement already satisfied: triton==3.2.0 in /usr/local/lib/python3.11/dist-packages (from torch) (3.2.0)\n",
            "Requirement already satisfied: sympy==1.13.1 in /usr/local/lib/python3.11/dist-packages (from torch) (1.13.1)\n",
            "Requirement already satisfied: mpmath<1.4,>=1.1.0 in /usr/local/lib/python3.11/dist-packages (from sympy==1.13.1->torch) (1.3.0)\n",
            "Requirement already satisfied: charset-normalizer<4,>=2 in /usr/local/lib/python3.11/dist-packages (from requests) (3.4.1)\n",
            "Requirement already satisfied: idna<4,>=2.5 in /usr/local/lib/python3.11/dist-packages (from requests) (3.10)\n",
            "Requirement already satisfied: urllib3<3,>=1.21.1 in /usr/local/lib/python3.11/dist-packages (from requests) (2.3.0)\n",
            "Requirement already satisfied: certifi>=2017.4.17 in /usr/local/lib/python3.11/dist-packages (from requests) (2025.1.31)\n",
            "Requirement already satisfied: soupsieve>1.2 in /usr/local/lib/python3.11/dist-packages (from beautifulsoup4) (2.7)\n",
            "Requirement already satisfied: MarkupSafe>=2.0 in /usr/local/lib/python3.11/dist-packages (from jinja2->torch) (3.0.2)\n"
          ]
        }
      ]
    },
    {
      "cell_type": "code",
      "source": [
        "!pip install biopython"
      ],
      "metadata": {
        "colab": {
          "base_uri": "https://localhost:8080/"
        },
        "id": "ZT6xQpt5SwLi",
        "outputId": "1440f4bb-ce35-464e-e1bc-8e9999293f62",
        "collapsed": true
      },
      "execution_count": null,
      "outputs": [
        {
          "output_type": "stream",
          "name": "stdout",
          "text": [
            "Collecting biopython\n",
            "  Downloading biopython-1.85-cp311-cp311-manylinux_2_17_x86_64.manylinux2014_x86_64.whl.metadata (13 kB)\n",
            "Requirement already satisfied: numpy in /usr/local/lib/python3.11/dist-packages (from biopython) (2.0.2)\n",
            "Downloading biopython-1.85-cp311-cp311-manylinux_2_17_x86_64.manylinux2014_x86_64.whl (3.3 MB)\n",
            "\u001b[?25l   \u001b[90m━━━━━━━━━━━━━━━━━━━━━━━━━━━━━━━━━━━━━━━━\u001b[0m \u001b[32m0.0/3.3 MB\u001b[0m \u001b[31m?\u001b[0m eta \u001b[36m-:--:--\u001b[0m\r\u001b[2K   \u001b[91m━━━━━━━━━━━━━━━━━\u001b[0m\u001b[90m╺\u001b[0m\u001b[90m━━━━━━━━━━━━━━━━━━━━━━\u001b[0m \u001b[32m1.4/3.3 MB\u001b[0m \u001b[31m42.2 MB/s\u001b[0m eta \u001b[36m0:00:01\u001b[0m\r\u001b[2K   \u001b[90m━━━━━━━━━━━━━━━━━━━━━━━━━━━━━━━━━━━━━━━━\u001b[0m \u001b[32m3.3/3.3 MB\u001b[0m \u001b[31m45.7 MB/s\u001b[0m eta \u001b[36m0:00:00\u001b[0m\n",
            "\u001b[?25hInstalling collected packages: biopython\n",
            "Successfully installed biopython-1.85\n"
          ]
        }
      ]
    },
    {
      "cell_type": "code",
      "source": [
        "!pip install langchain-community"
      ],
      "metadata": {
        "colab": {
          "base_uri": "https://localhost:8080/"
        },
        "id": "GV-m2tvfS2Wo",
        "outputId": "7e88e1bc-0963-4bec-db7a-1cb6ae6ffd7a",
        "collapsed": true
      },
      "execution_count": null,
      "outputs": [
        {
          "output_type": "stream",
          "name": "stdout",
          "text": [
            "Collecting langchain-community\n",
            "  Downloading langchain_community-0.3.22-py3-none-any.whl.metadata (2.4 kB)\n",
            "Requirement already satisfied: langchain-core<1.0.0,>=0.3.55 in /usr/local/lib/python3.11/dist-packages (from langchain-community) (0.3.55)\n",
            "Requirement already satisfied: langchain<1.0.0,>=0.3.24 in /usr/local/lib/python3.11/dist-packages (from langchain-community) (0.3.24)\n",
            "Requirement already satisfied: SQLAlchemy<3,>=1.4 in /usr/local/lib/python3.11/dist-packages (from langchain-community) (2.0.40)\n",
            "Requirement already satisfied: requests<3,>=2 in /usr/local/lib/python3.11/dist-packages (from langchain-community) (2.32.3)\n",
            "Requirement already satisfied: PyYAML>=5.3 in /usr/local/lib/python3.11/dist-packages (from langchain-community) (6.0.2)\n",
            "Requirement already satisfied: aiohttp<4.0.0,>=3.8.3 in /usr/local/lib/python3.11/dist-packages (from langchain-community) (3.11.15)\n",
            "Requirement already satisfied: tenacity!=8.4.0,<10,>=8.1.0 in /usr/local/lib/python3.11/dist-packages (from langchain-community) (9.1.2)\n",
            "Collecting dataclasses-json<0.7,>=0.5.7 (from langchain-community)\n",
            "  Downloading dataclasses_json-0.6.7-py3-none-any.whl.metadata (25 kB)\n",
            "Collecting pydantic-settings<3.0.0,>=2.4.0 (from langchain-community)\n",
            "  Downloading pydantic_settings-2.9.1-py3-none-any.whl.metadata (3.8 kB)\n",
            "Requirement already satisfied: langsmith<0.4,>=0.1.125 in /usr/local/lib/python3.11/dist-packages (from langchain-community) (0.3.33)\n",
            "Collecting httpx-sse<1.0.0,>=0.4.0 (from langchain-community)\n",
            "  Downloading httpx_sse-0.4.0-py3-none-any.whl.metadata (9.0 kB)\n",
            "Requirement already satisfied: numpy>=1.26.2 in /usr/local/lib/python3.11/dist-packages (from langchain-community) (2.0.2)\n",
            "Requirement already satisfied: aiohappyeyeballs>=2.3.0 in /usr/local/lib/python3.11/dist-packages (from aiohttp<4.0.0,>=3.8.3->langchain-community) (2.6.1)\n",
            "Requirement already satisfied: aiosignal>=1.1.2 in /usr/local/lib/python3.11/dist-packages (from aiohttp<4.0.0,>=3.8.3->langchain-community) (1.3.2)\n",
            "Requirement already satisfied: attrs>=17.3.0 in /usr/local/lib/python3.11/dist-packages (from aiohttp<4.0.0,>=3.8.3->langchain-community) (25.3.0)\n",
            "Requirement already satisfied: frozenlist>=1.1.1 in /usr/local/lib/python3.11/dist-packages (from aiohttp<4.0.0,>=3.8.3->langchain-community) (1.6.0)\n",
            "Requirement already satisfied: multidict<7.0,>=4.5 in /usr/local/lib/python3.11/dist-packages (from aiohttp<4.0.0,>=3.8.3->langchain-community) (6.4.3)\n",
            "Requirement already satisfied: propcache>=0.2.0 in /usr/local/lib/python3.11/dist-packages (from aiohttp<4.0.0,>=3.8.3->langchain-community) (0.3.1)\n",
            "Requirement already satisfied: yarl<2.0,>=1.17.0 in /usr/local/lib/python3.11/dist-packages (from aiohttp<4.0.0,>=3.8.3->langchain-community) (1.20.0)\n",
            "Collecting marshmallow<4.0.0,>=3.18.0 (from dataclasses-json<0.7,>=0.5.7->langchain-community)\n",
            "  Downloading marshmallow-3.26.1-py3-none-any.whl.metadata (7.3 kB)\n",
            "Collecting typing-inspect<1,>=0.4.0 (from dataclasses-json<0.7,>=0.5.7->langchain-community)\n",
            "  Downloading typing_inspect-0.9.0-py3-none-any.whl.metadata (1.5 kB)\n",
            "Requirement already satisfied: langchain-text-splitters<1.0.0,>=0.3.8 in /usr/local/lib/python3.11/dist-packages (from langchain<1.0.0,>=0.3.24->langchain-community) (0.3.8)\n",
            "Requirement already satisfied: pydantic<3.0.0,>=2.7.4 in /usr/local/lib/python3.11/dist-packages (from langchain<1.0.0,>=0.3.24->langchain-community) (2.11.3)\n",
            "Requirement already satisfied: jsonpatch<2.0,>=1.33 in /usr/local/lib/python3.11/dist-packages (from langchain-core<1.0.0,>=0.3.55->langchain-community) (1.33)\n",
            "Requirement already satisfied: packaging<25,>=23.2 in /usr/local/lib/python3.11/dist-packages (from langchain-core<1.0.0,>=0.3.55->langchain-community) (24.2)\n",
            "Requirement already satisfied: typing-extensions>=4.7 in /usr/local/lib/python3.11/dist-packages (from langchain-core<1.0.0,>=0.3.55->langchain-community) (4.13.2)\n",
            "Requirement already satisfied: httpx<1,>=0.23.0 in /usr/local/lib/python3.11/dist-packages (from langsmith<0.4,>=0.1.125->langchain-community) (0.28.1)\n",
            "Requirement already satisfied: orjson<4.0.0,>=3.9.14 in /usr/local/lib/python3.11/dist-packages (from langsmith<0.4,>=0.1.125->langchain-community) (3.10.16)\n",
            "Requirement already satisfied: requests-toolbelt<2.0.0,>=1.0.0 in /usr/local/lib/python3.11/dist-packages (from langsmith<0.4,>=0.1.125->langchain-community) (1.0.0)\n",
            "Requirement already satisfied: zstandard<0.24.0,>=0.23.0 in /usr/local/lib/python3.11/dist-packages (from langsmith<0.4,>=0.1.125->langchain-community) (0.23.0)\n",
            "Collecting python-dotenv>=0.21.0 (from pydantic-settings<3.0.0,>=2.4.0->langchain-community)\n",
            "  Downloading python_dotenv-1.1.0-py3-none-any.whl.metadata (24 kB)\n",
            "Requirement already satisfied: typing-inspection>=0.4.0 in /usr/local/lib/python3.11/dist-packages (from pydantic-settings<3.0.0,>=2.4.0->langchain-community) (0.4.0)\n",
            "Requirement already satisfied: charset-normalizer<4,>=2 in /usr/local/lib/python3.11/dist-packages (from requests<3,>=2->langchain-community) (3.4.1)\n",
            "Requirement already satisfied: idna<4,>=2.5 in /usr/local/lib/python3.11/dist-packages (from requests<3,>=2->langchain-community) (3.10)\n",
            "Requirement already satisfied: urllib3<3,>=1.21.1 in /usr/local/lib/python3.11/dist-packages (from requests<3,>=2->langchain-community) (2.3.0)\n",
            "Requirement already satisfied: certifi>=2017.4.17 in /usr/local/lib/python3.11/dist-packages (from requests<3,>=2->langchain-community) (2025.1.31)\n",
            "Requirement already satisfied: greenlet>=1 in /usr/local/lib/python3.11/dist-packages (from SQLAlchemy<3,>=1.4->langchain-community) (3.2.1)\n",
            "Requirement already satisfied: anyio in /usr/local/lib/python3.11/dist-packages (from httpx<1,>=0.23.0->langsmith<0.4,>=0.1.125->langchain-community) (4.9.0)\n",
            "Requirement already satisfied: httpcore==1.* in /usr/local/lib/python3.11/dist-packages (from httpx<1,>=0.23.0->langsmith<0.4,>=0.1.125->langchain-community) (1.0.8)\n",
            "Requirement already satisfied: h11<0.15,>=0.13 in /usr/local/lib/python3.11/dist-packages (from httpcore==1.*->httpx<1,>=0.23.0->langsmith<0.4,>=0.1.125->langchain-community) (0.14.0)\n",
            "Requirement already satisfied: jsonpointer>=1.9 in /usr/local/lib/python3.11/dist-packages (from jsonpatch<2.0,>=1.33->langchain-core<1.0.0,>=0.3.55->langchain-community) (3.0.0)\n",
            "Requirement already satisfied: annotated-types>=0.6.0 in /usr/local/lib/python3.11/dist-packages (from pydantic<3.0.0,>=2.7.4->langchain<1.0.0,>=0.3.24->langchain-community) (0.7.0)\n",
            "Requirement already satisfied: pydantic-core==2.33.1 in /usr/local/lib/python3.11/dist-packages (from pydantic<3.0.0,>=2.7.4->langchain<1.0.0,>=0.3.24->langchain-community) (2.33.1)\n",
            "Collecting mypy-extensions>=0.3.0 (from typing-inspect<1,>=0.4.0->dataclasses-json<0.7,>=0.5.7->langchain-community)\n",
            "  Downloading mypy_extensions-1.1.0-py3-none-any.whl.metadata (1.1 kB)\n",
            "Requirement already satisfied: sniffio>=1.1 in /usr/local/lib/python3.11/dist-packages (from anyio->httpx<1,>=0.23.0->langsmith<0.4,>=0.1.125->langchain-community) (1.3.1)\n",
            "Downloading langchain_community-0.3.22-py3-none-any.whl (2.5 MB)\n",
            "\u001b[2K   \u001b[90m━━━━━━━━━━━━━━━━━━━━━━━━━━━━━━━━━━━━━━━━\u001b[0m \u001b[32m2.5/2.5 MB\u001b[0m \u001b[31m34.5 MB/s\u001b[0m eta \u001b[36m0:00:00\u001b[0m\n",
            "\u001b[?25hDownloading dataclasses_json-0.6.7-py3-none-any.whl (28 kB)\n",
            "Downloading httpx_sse-0.4.0-py3-none-any.whl (7.8 kB)\n",
            "Downloading pydantic_settings-2.9.1-py3-none-any.whl (44 kB)\n",
            "\u001b[2K   \u001b[90m━━━━━━━━━━━━━━━━━━━━━━━━━━━━━━━━━━━━━━━━\u001b[0m \u001b[32m44.4/44.4 kB\u001b[0m \u001b[31m4.2 MB/s\u001b[0m eta \u001b[36m0:00:00\u001b[0m\n",
            "\u001b[?25hDownloading marshmallow-3.26.1-py3-none-any.whl (50 kB)\n",
            "\u001b[2K   \u001b[90m━━━━━━━━━━━━━━━━━━━━━━━━━━━━━━━━━━━━━━━━\u001b[0m \u001b[32m50.9/50.9 kB\u001b[0m \u001b[31m4.3 MB/s\u001b[0m eta \u001b[36m0:00:00\u001b[0m\n",
            "\u001b[?25hDownloading python_dotenv-1.1.0-py3-none-any.whl (20 kB)\n",
            "Downloading typing_inspect-0.9.0-py3-none-any.whl (8.8 kB)\n",
            "Downloading mypy_extensions-1.1.0-py3-none-any.whl (5.0 kB)\n",
            "Installing collected packages: python-dotenv, mypy-extensions, marshmallow, httpx-sse, typing-inspect, pydantic-settings, dataclasses-json, langchain-community\n",
            "Successfully installed dataclasses-json-0.6.7 httpx-sse-0.4.0 langchain-community-0.3.22 marshmallow-3.26.1 mypy-extensions-1.1.0 pydantic-settings-2.9.1 python-dotenv-1.1.0 typing-inspect-0.9.0\n"
          ]
        }
      ]
    },
    {
      "cell_type": "markdown",
      "source": [
        "Retrieval article"
      ],
      "metadata": {
        "id": "yP-sS-30P1xv"
      }
    },
    {
      "cell_type": "code",
      "source": [
        "import requests\n",
        "from bs4 import BeautifulSoup\n",
        "\n",
        "def retrieve_articles(query):\n",
        "    \"\"\"\n",
        "    Retrieve articles from PubMed based on a query.\n",
        "\n",
        "    This function uses the PubMed API to search for relevant articles\n",
        "    based on the provided query and parses the HTML response using BeautifulSoup.\n",
        "    \"\"\"\n",
        "    base_url = \"https://pubmed.ncbi.nlm.nih.gov/\"\n",
        "    search_url = f\"{base_url}?term={query}\"\n",
        "\n",
        "    response = requests.get(search_url)\n",
        "\n",
        "    if response.status_code == 200:\n",
        "        soup = BeautifulSoup(response.content, 'html.parser')\n",
        "        # Extract article titles and summaries (example, you may need to adjust this based on PubMed's HTML structure)\n",
        "        articles = []\n",
        "        for article_tag in soup.find_all('div', class_='docsum'):  # Example class for article summaries, adjust as needed\n",
        "            title = article_tag.find('a', class_='docsum-title').text.strip()  # Example class for title, adjust as needed\n",
        "            summary = article_tag.find('div', class_='abstract').text.strip()  # Example class for summary, adjust as needed\n",
        "            articles.append({'title': title, 'summary': summary})\n",
        "\n",
        "        return articles\n",
        "    else:\n",
        "        return None"
      ],
      "metadata": {
        "id": "pPFEMUDsP8Ek"
      },
      "execution_count": null,
      "outputs": []
    },
    {
      "cell_type": "markdown",
      "source": [
        "Implement \"Trust Score\" calculation"
      ],
      "metadata": {
        "id": "PYDc6Q-zIe8D"
      }
    },
    {
      "cell_type": "code",
      "source": [
        "def calculate_trust_score(prediction, retrieved_articles):\n",
        "    \"\"\"\n",
        "    Calculate a trust score based on the LLM's prediction and the retrieved articles.\n",
        "    The trust score is determined by the number of articles that support or contradict the prediction.\n",
        "    \"\"\"\n",
        "    support_count = 0\n",
        "    contradict_count = 0\n",
        "\n",
        "    for article in retrieved_articles:\n",
        "        if prediction.lower() in article['title'].lower() or prediction.lower() in article['abstract'].lower():\n",
        "            support_count += 1\n",
        "        else:\n",
        "            contradict_count += 1\n",
        "\n",
        "    total_articles = support_count + contradict_count\n",
        "    if total_articles == 0:\n",
        "        return 0.0  # No articles found\n",
        "\n",
        "    trust_score = support_count / total_articles  # Simple ratio of supporting articles\n",
        "    return trust_score"
      ],
      "metadata": {
        "id": "0UeR3zutFWsC"
      },
      "execution_count": null,
      "outputs": []
    },
    {
      "cell_type": "markdown",
      "source": [
        "Implement LLM Responses"
      ],
      "metadata": {
        "id": "nYoee37hInxg"
      }
    },
    {
      "cell_type": "code",
      "source": [
        "def predict_with_confidence(claim):\n",
        "    \"\"\"\n",
        "    Predict the label for a claim and calculate the trust score based on retrieved articles.\n",
        "    \"\"\"\n",
        "    model.eval()\n",
        "    with torch.no_grad():\n",
        "        inputs = prepare_input(claim)\n",
        "        outputs = model(**inputs)\n",
        "        logits = outputs.logits\n",
        "        predictions = torch.argmax(logits, dim=-1).item()\n",
        "\n",
        "    # Convert predicted label to word\n",
        "    predicted_label_word = label_encoder.inverse_transform([predictions])[0]\n",
        "\n",
        "    # Retrieve articles related to the claim\n",
        "    retrieved_articles = retrieve_articles(claim)\n",
        "\n",
        "    # Calculate the trust score\n",
        "    trust_score = calculate_trust_score(claim, retrieved_articles)\n",
        "\n",
        "    # Flag low-confidence responses\n",
        "    if trust_score < 0.5:  # Example threshold\n",
        "        print(f\"Low confidence for claim: '{claim}'. Trust score: {trust_score:.2f}. Review needed.\")\n",
        "    else:\n",
        "        print(f\"High confidence for claim: '{claim}'. Trust score: {trust_score:.2f}.\")\n",
        "\n",
        "    return predicted_label_word, trust_score"
      ],
      "metadata": {
        "id": "uC6j05q9ImAU"
      },
      "execution_count": null,
      "outputs": []
    },
    {
      "cell_type": "markdown",
      "source": [
        "Execute"
      ],
      "metadata": {
        "id": "_igCTxqCJBB2"
      }
    },
    {
      "cell_type": "code",
      "source": [
        "claim = \"Study Vaccine for Breast Ovarian Cancer Has Potential\"\n",
        "predicted_label_word, trust_score = predict_with_confidence(claim)\n",
        "print(f\"Predicted label for the claim '{claim}': '{predicted_label_word}', Trust Score: {trust_score:.2f}\")"
      ],
      "metadata": {
        "colab": {
          "base_uri": "https://localhost:8080/"
        },
        "id": "hns8A2GxJClv",
        "outputId": "7c199457-f0e9-4428-bcf6-80a7948a0be3"
      },
      "execution_count": null,
      "outputs": [
        {
          "output_type": "stream",
          "name": "stdout",
          "text": [
            "Low confidence for claim: 'Study Vaccine for Breast Ovarian Cancer Has Potential'. Trust score: 0.00. Review needed.\n",
            "Predicted label for the claim 'Study Vaccine for Breast Ovarian Cancer Has Potential': 'True', Trust Score: 0.00\n"
          ]
        }
      ]
    }
  ]
}